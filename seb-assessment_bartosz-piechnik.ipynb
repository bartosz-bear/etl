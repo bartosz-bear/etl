{
 "cells": [
  {
   "cell_type": "markdown",
   "metadata": {},
   "source": [
    "___\n",
    "# SEB Technical Assessment - Bartosz Piechnik"
   ]
  },
  {
   "cell_type": "code",
   "execution_count": 2,
   "metadata": {},
   "outputs": [],
   "source": [
    "import pandas as pd\n",
    "import numpy as np\n",
    "\n",
    "from datetime import date, timedelta\n",
    "\n",
    "import matplotlib.pyplot as plt\n",
    "import seaborn as sns\n",
    "\n",
    "from sklearn.linear_model import LogisticRegression\n",
    "from sklearn.metrics import classification_report, confusion_matrix\n",
    "\n",
    "%matplotlib inline"
   ]
  },
  {
   "cell_type": "markdown",
   "metadata": {
    "collapsed": true
   },
   "source": [
    "## Read Data"
   ]
  },
  {
   "cell_type": "code",
   "execution_count": 3,
   "metadata": {},
   "outputs": [],
   "source": [
    "customers = pd.read_csv('customers.csv')\n",
    "transactions = pd.read_csv('transactions.csv')\n",
    "districts = pd.read_csv('districts.csv')"
   ]
  },
  {
   "cell_type": "markdown",
   "metadata": {},
   "source": [
    "## Data Exploration"
   ]
  },
  {
   "cell_type": "markdown",
   "metadata": {},
   "source": [
    "### Customers Summary"
   ]
  },
  {
   "cell_type": "code",
   "execution_count": 4,
   "metadata": {},
   "outputs": [
    {
     "data": {
      "text/html": [
       "<div>\n",
       "<style scoped>\n",
       "    .dataframe tbody tr th:only-of-type {\n",
       "        vertical-align: middle;\n",
       "    }\n",
       "\n",
       "    .dataframe tbody tr th {\n",
       "        vertical-align: top;\n",
       "    }\n",
       "\n",
       "    .dataframe thead th {\n",
       "        text-align: right;\n",
       "    }\n",
       "</style>\n",
       "<table border=\"1\" class=\"dataframe\">\n",
       "  <thead>\n",
       "    <tr style=\"text-align: right;\">\n",
       "      <th></th>\n",
       "      <th>CLIENT_ID</th>\n",
       "      <th>ACCOUNT_ID</th>\n",
       "      <th>GENDER</th>\n",
       "      <th>BIRTH_DT</th>\n",
       "      <th>ACTIVE</th>\n",
       "      <th>LOAN</th>\n",
       "      <th>DISTRICT_ID</th>\n",
       "      <th>SET_SPLIT</th>\n",
       "    </tr>\n",
       "  </thead>\n",
       "  <tbody>\n",
       "    <tr>\n",
       "      <th>0</th>\n",
       "      <td>1</td>\n",
       "      <td>1</td>\n",
       "      <td>F</td>\n",
       "      <td>19701213</td>\n",
       "      <td>1</td>\n",
       "      <td>0.0</td>\n",
       "      <td>18</td>\n",
       "      <td>TRAIN</td>\n",
       "    </tr>\n",
       "    <tr>\n",
       "      <th>1</th>\n",
       "      <td>2</td>\n",
       "      <td>2</td>\n",
       "      <td>M</td>\n",
       "      <td>19450204</td>\n",
       "      <td>1</td>\n",
       "      <td>1.0</td>\n",
       "      <td>1</td>\n",
       "      <td>TRAIN</td>\n",
       "    </tr>\n",
       "    <tr>\n",
       "      <th>2</th>\n",
       "      <td>4</td>\n",
       "      <td>3</td>\n",
       "      <td>M</td>\n",
       "      <td>19561201</td>\n",
       "      <td>1</td>\n",
       "      <td>0.0</td>\n",
       "      <td>5</td>\n",
       "      <td>TEST</td>\n",
       "    </tr>\n",
       "    <tr>\n",
       "      <th>3</th>\n",
       "      <td>7</td>\n",
       "      <td>5</td>\n",
       "      <td>M</td>\n",
       "      <td>19290125</td>\n",
       "      <td>1</td>\n",
       "      <td>0.0</td>\n",
       "      <td>15</td>\n",
       "      <td>TRAIN</td>\n",
       "    </tr>\n",
       "    <tr>\n",
       "      <th>4</th>\n",
       "      <td>8</td>\n",
       "      <td>6</td>\n",
       "      <td>F</td>\n",
       "      <td>19380221</td>\n",
       "      <td>1</td>\n",
       "      <td>0.0</td>\n",
       "      <td>51</td>\n",
       "      <td>TRAIN</td>\n",
       "    </tr>\n",
       "  </tbody>\n",
       "</table>\n",
       "</div>"
      ],
      "text/plain": [
       "   CLIENT_ID  ACCOUNT_ID GENDER  BIRTH_DT  ACTIVE  LOAN  DISTRICT_ID SET_SPLIT\n",
       "0          1           1      F  19701213       1   0.0           18     TRAIN\n",
       "1          2           2      M  19450204       1   1.0            1     TRAIN\n",
       "2          4           3      M  19561201       1   0.0            5      TEST\n",
       "3          7           5      M  19290125       1   0.0           15     TRAIN\n",
       "4          8           6      F  19380221       1   0.0           51     TRAIN"
      ]
     },
     "execution_count": 4,
     "metadata": {},
     "output_type": "execute_result"
    }
   ],
   "source": [
    "customers.head()"
   ]
  },
  {
   "cell_type": "code",
   "execution_count": 5,
   "metadata": {},
   "outputs": [
    {
     "name": "stdout",
     "output_type": "stream",
     "text": [
      "<class 'pandas.core.frame.DataFrame'>\n",
      "RangeIndex: 4450 entries, 0 to 4449\n",
      "Data columns (total 8 columns):\n",
      " #   Column       Non-Null Count  Dtype  \n",
      "---  ------       --------------  -----  \n",
      " 0   CLIENT_ID    4450 non-null   int64  \n",
      " 1   ACCOUNT_ID   4450 non-null   int64  \n",
      " 2   GENDER       4450 non-null   object \n",
      " 3   BIRTH_DT     4450 non-null   int64  \n",
      " 4   ACTIVE       4450 non-null   int64  \n",
      " 5   LOAN         4400 non-null   float64\n",
      " 6   DISTRICT_ID  4450 non-null   int64  \n",
      " 7   SET_SPLIT    4450 non-null   object \n",
      "dtypes: float64(1), int64(5), object(2)\n",
      "memory usage: 278.2+ KB\n"
     ]
    }
   ],
   "source": [
    "customers.info()"
   ]
  },
  {
   "cell_type": "markdown",
   "metadata": {},
   "source": [
    "### Transactions Summary"
   ]
  },
  {
   "cell_type": "code",
   "execution_count": 6,
   "metadata": {},
   "outputs": [
    {
     "data": {
      "text/html": [
       "<div>\n",
       "<style scoped>\n",
       "    .dataframe tbody tr th:only-of-type {\n",
       "        vertical-align: middle;\n",
       "    }\n",
       "\n",
       "    .dataframe tbody tr th {\n",
       "        vertical-align: top;\n",
       "    }\n",
       "\n",
       "    .dataframe thead th {\n",
       "        text-align: right;\n",
       "    }\n",
       "</style>\n",
       "<table border=\"1\" class=\"dataframe\">\n",
       "  <thead>\n",
       "    <tr style=\"text-align: right;\">\n",
       "      <th></th>\n",
       "      <th>TRANS_ID</th>\n",
       "      <th>ACCOUNT_ID</th>\n",
       "      <th>DATE</th>\n",
       "      <th>AMOUNT</th>\n",
       "      <th>BALANCE</th>\n",
       "      <th>TYPE</th>\n",
       "      <th>OPERATION</th>\n",
       "    </tr>\n",
       "  </thead>\n",
       "  <tbody>\n",
       "    <tr>\n",
       "      <th>0</th>\n",
       "      <td>695247</td>\n",
       "      <td>2378.0</td>\n",
       "      <td>1011993</td>\n",
       "      <td>700.0</td>\n",
       "      <td>700.0</td>\n",
       "      <td>CREDIT</td>\n",
       "      <td>CREDIT_IN_CASH</td>\n",
       "    </tr>\n",
       "    <tr>\n",
       "      <th>1</th>\n",
       "      <td>171812</td>\n",
       "      <td>576.0</td>\n",
       "      <td>1011993</td>\n",
       "      <td>900.0</td>\n",
       "      <td>900.0</td>\n",
       "      <td>CREDIT</td>\n",
       "      <td>CREDIT_IN_CASH</td>\n",
       "    </tr>\n",
       "    <tr>\n",
       "      <th>2</th>\n",
       "      <td>207264</td>\n",
       "      <td>704.0</td>\n",
       "      <td>1011993</td>\n",
       "      <td>1000.0</td>\n",
       "      <td>1000.0</td>\n",
       "      <td>CREDIT</td>\n",
       "      <td>CREDIT_IN_CASH</td>\n",
       "    </tr>\n",
       "    <tr>\n",
       "      <th>3</th>\n",
       "      <td>1117247</td>\n",
       "      <td>3818.0</td>\n",
       "      <td>1011993</td>\n",
       "      <td>600.0</td>\n",
       "      <td>600.0</td>\n",
       "      <td>CREDIT</td>\n",
       "      <td>CREDIT_IN_CASH</td>\n",
       "    </tr>\n",
       "    <tr>\n",
       "      <th>4</th>\n",
       "      <td>579373</td>\n",
       "      <td>1972.0</td>\n",
       "      <td>2011993</td>\n",
       "      <td>400.0</td>\n",
       "      <td>400.0</td>\n",
       "      <td>CREDIT</td>\n",
       "      <td>CREDIT_IN_CASH</td>\n",
       "    </tr>\n",
       "  </tbody>\n",
       "</table>\n",
       "</div>"
      ],
      "text/plain": [
       "   TRANS_ID  ACCOUNT_ID     DATE  AMOUNT  BALANCE    TYPE       OPERATION\n",
       "0    695247      2378.0  1011993   700.0    700.0  CREDIT  CREDIT_IN_CASH\n",
       "1    171812       576.0  1011993   900.0    900.0  CREDIT  CREDIT_IN_CASH\n",
       "2    207264       704.0  1011993  1000.0   1000.0  CREDIT  CREDIT_IN_CASH\n",
       "3   1117247      3818.0  1011993   600.0    600.0  CREDIT  CREDIT_IN_CASH\n",
       "4    579373      1972.0  2011993   400.0    400.0  CREDIT  CREDIT_IN_CASH"
      ]
     },
     "execution_count": 6,
     "metadata": {},
     "output_type": "execute_result"
    }
   ],
   "source": [
    "transactions.head()"
   ]
  },
  {
   "cell_type": "code",
   "execution_count": 7,
   "metadata": {},
   "outputs": [
    {
     "name": "stdout",
     "output_type": "stream",
     "text": [
      "<class 'pandas.core.frame.DataFrame'>\n",
      "RangeIndex: 1066320 entries, 0 to 1066319\n",
      "Data columns (total 7 columns):\n",
      " #   Column      Non-Null Count    Dtype  \n",
      "---  ------      --------------    -----  \n",
      " 0   TRANS_ID    1066320 non-null  int64  \n",
      " 1   ACCOUNT_ID  1061320 non-null  float64\n",
      " 2   DATE        1066320 non-null  int64  \n",
      " 3   AMOUNT      1066320 non-null  float64\n",
      " 4   BALANCE     1066320 non-null  float64\n",
      " 5   TYPE        1066320 non-null  object \n",
      " 6   OPERATION   881436 non-null   object \n",
      "dtypes: float64(3), int64(2), object(2)\n",
      "memory usage: 56.9+ MB\n"
     ]
    }
   ],
   "source": [
    "transactions.info()"
   ]
  },
  {
   "cell_type": "markdown",
   "metadata": {},
   "source": [
    "### Districts Summary"
   ]
  },
  {
   "cell_type": "code",
   "execution_count": 8,
   "metadata": {},
   "outputs": [
    {
     "data": {
      "text/html": [
       "<div>\n",
       "<style scoped>\n",
       "    .dataframe tbody tr th:only-of-type {\n",
       "        vertical-align: middle;\n",
       "    }\n",
       "\n",
       "    .dataframe tbody tr th {\n",
       "        vertical-align: top;\n",
       "    }\n",
       "\n",
       "    .dataframe thead th {\n",
       "        text-align: right;\n",
       "    }\n",
       "</style>\n",
       "<table border=\"1\" class=\"dataframe\">\n",
       "  <thead>\n",
       "    <tr style=\"text-align: right;\">\n",
       "      <th></th>\n",
       "      <th>DISTRICT_ID</th>\n",
       "      <th>N_INHAB</th>\n",
       "      <th>N_CITIES</th>\n",
       "      <th>URBAN_RATIO</th>\n",
       "      <th>AVG_SALARY</th>\n",
       "      <th>UNEMP_95</th>\n",
       "      <th>UNEMP_96</th>\n",
       "      <th>N_ENTR</th>\n",
       "      <th>CRIME_95</th>\n",
       "      <th>CRIME_96</th>\n",
       "    </tr>\n",
       "  </thead>\n",
       "  <tbody>\n",
       "    <tr>\n",
       "      <th>0</th>\n",
       "      <td>1</td>\n",
       "      <td>1204953</td>\n",
       "      <td>1</td>\n",
       "      <td>100.0</td>\n",
       "      <td>12541</td>\n",
       "      <td>0.29</td>\n",
       "      <td>0.43</td>\n",
       "      <td>167</td>\n",
       "      <td>85677</td>\n",
       "      <td>99107</td>\n",
       "    </tr>\n",
       "    <tr>\n",
       "      <th>1</th>\n",
       "      <td>2</td>\n",
       "      <td>88884</td>\n",
       "      <td>5</td>\n",
       "      <td>46.7</td>\n",
       "      <td>8507</td>\n",
       "      <td>1.67</td>\n",
       "      <td>1.85</td>\n",
       "      <td>132</td>\n",
       "      <td>2159</td>\n",
       "      <td>2674</td>\n",
       "    </tr>\n",
       "    <tr>\n",
       "      <th>2</th>\n",
       "      <td>3</td>\n",
       "      <td>75232</td>\n",
       "      <td>5</td>\n",
       "      <td>41.7</td>\n",
       "      <td>8980</td>\n",
       "      <td>1.95</td>\n",
       "      <td>2.21</td>\n",
       "      <td>111</td>\n",
       "      <td>2824</td>\n",
       "      <td>2813</td>\n",
       "    </tr>\n",
       "    <tr>\n",
       "      <th>3</th>\n",
       "      <td>4</td>\n",
       "      <td>149893</td>\n",
       "      <td>6</td>\n",
       "      <td>67.4</td>\n",
       "      <td>9753</td>\n",
       "      <td>4.64</td>\n",
       "      <td>5.05</td>\n",
       "      <td>109</td>\n",
       "      <td>5244</td>\n",
       "      <td>5892</td>\n",
       "    </tr>\n",
       "    <tr>\n",
       "      <th>4</th>\n",
       "      <td>5</td>\n",
       "      <td>95616</td>\n",
       "      <td>6</td>\n",
       "      <td>51.4</td>\n",
       "      <td>9307</td>\n",
       "      <td>3.85</td>\n",
       "      <td>4.43</td>\n",
       "      <td>118</td>\n",
       "      <td>2616</td>\n",
       "      <td>3040</td>\n",
       "    </tr>\n",
       "  </tbody>\n",
       "</table>\n",
       "</div>"
      ],
      "text/plain": [
       "   DISTRICT_ID  N_INHAB  N_CITIES  URBAN_RATIO  AVG_SALARY UNEMP_95  UNEMP_96  \\\n",
       "0            1  1204953         1        100.0       12541     0.29      0.43   \n",
       "1            2    88884         5         46.7        8507     1.67      1.85   \n",
       "2            3    75232         5         41.7        8980     1.95      2.21   \n",
       "3            4   149893         6         67.4        9753     4.64      5.05   \n",
       "4            5    95616         6         51.4        9307     3.85      4.43   \n",
       "\n",
       "   N_ENTR CRIME_95  CRIME_96  \n",
       "0     167    85677     99107  \n",
       "1     132     2159      2674  \n",
       "2     111     2824      2813  \n",
       "3     109     5244      5892  \n",
       "4     118     2616      3040  "
      ]
     },
     "execution_count": 8,
     "metadata": {},
     "output_type": "execute_result"
    }
   ],
   "source": [
    "districts.head()"
   ]
  },
  {
   "cell_type": "code",
   "execution_count": 9,
   "metadata": {},
   "outputs": [
    {
     "name": "stdout",
     "output_type": "stream",
     "text": [
      "<class 'pandas.core.frame.DataFrame'>\n",
      "RangeIndex: 77 entries, 0 to 76\n",
      "Data columns (total 10 columns):\n",
      " #   Column       Non-Null Count  Dtype  \n",
      "---  ------       --------------  -----  \n",
      " 0   DISTRICT_ID  77 non-null     int64  \n",
      " 1   N_INHAB      77 non-null     int64  \n",
      " 2   N_CITIES     77 non-null     int64  \n",
      " 3   URBAN_RATIO  77 non-null     float64\n",
      " 4   AVG_SALARY   77 non-null     int64  \n",
      " 5   UNEMP_95     77 non-null     object \n",
      " 6   UNEMP_96     77 non-null     float64\n",
      " 7   N_ENTR       77 non-null     int64  \n",
      " 8   CRIME_95     77 non-null     object \n",
      " 9   CRIME_96     77 non-null     int64  \n",
      "dtypes: float64(2), int64(6), object(2)\n",
      "memory usage: 6.1+ KB\n"
     ]
    }
   ],
   "source": [
    "districts.info()"
   ]
  },
  {
   "cell_type": "markdown",
   "metadata": {},
   "source": [
    "## Data Clean-Up"
   ]
  },
  {
   "cell_type": "markdown",
   "metadata": {},
   "source": [
    "### CUSTOMERS CLEAN-UP"
   ]
  },
  {
   "cell_type": "markdown",
   "metadata": {},
   "source": [
    "#### CHECK IF ALL IDS IN `CLIENT_ID` ARE UNIQUE"
   ]
  },
  {
   "cell_type": "code",
   "execution_count": 10,
   "metadata": {},
   "outputs": [
    {
     "data": {
      "text/plain": [
       "True"
      ]
     },
     "execution_count": 10,
     "metadata": {},
     "output_type": "execute_result"
    }
   ],
   "source": [
    "customers['CLIENT_ID'].is_unique"
   ]
  },
  {
   "cell_type": "markdown",
   "metadata": {},
   "source": [
    "#### CHECK IF ANY CLIENT HAS MORE THAN ONE ACCOUNT AND IF ANY ACCOUNT BELONGS TO MORE THAN ONE PERSON"
   ]
  },
  {
   "cell_type": "code",
   "execution_count": 11,
   "metadata": {},
   "outputs": [],
   "source": [
    "client_customer_id = customers['CLIENT_ID'].astype(str) + '-' + customers['ACCOUNT_ID'].astype(str)"
   ]
  },
  {
   "cell_type": "code",
   "execution_count": 12,
   "metadata": {},
   "outputs": [
    {
     "data": {
      "text/plain": [
       "True"
      ]
     },
     "execution_count": 12,
     "metadata": {},
     "output_type": "execute_result"
    }
   ],
   "source": [
    "client_customer_id.is_unique"
   ]
  },
  {
   "cell_type": "markdown",
   "metadata": {},
   "source": [
    "#### CHECK IF ALL VALUES IN `GENDER` COLUMNS ARE EITHER 'F' OR 'M'"
   ]
  },
  {
   "cell_type": "code",
   "execution_count": 13,
   "metadata": {},
   "outputs": [
    {
     "data": {
      "text/plain": [
       "True"
      ]
     },
     "execution_count": 13,
     "metadata": {},
     "output_type": "execute_result"
    }
   ],
   "source": [
    "customers.groupby('GENDER').count().axes[0].values.tolist() == ['F', 'M']"
   ]
  },
  {
   "cell_type": "markdown",
   "metadata": {},
   "source": [
    "#### CONVERT DATE TO PANDAS' `DATETIME` FORMAT"
   ]
  },
  {
   "cell_type": "code",
   "execution_count": 14,
   "metadata": {},
   "outputs": [],
   "source": [
    "customers['datetime'] = pd.to_datetime(customers['BIRTH_DT'], format=\"%Y%m%d\")"
   ]
  },
  {
   "cell_type": "code",
   "execution_count": 15,
   "metadata": {},
   "outputs": [
    {
     "data": {
      "text/plain": [
       "0   1970-12-13\n",
       "1   1945-02-04\n",
       "2   1956-12-01\n",
       "3   1929-01-25\n",
       "4   1938-02-21\n",
       "Name: datetime, dtype: datetime64[ns]"
      ]
     },
     "execution_count": 15,
     "metadata": {},
     "output_type": "execute_result"
    }
   ],
   "source": [
    "customers['datetime'].head()"
   ]
  },
  {
   "cell_type": "markdown",
   "metadata": {},
   "source": [
    "#### CHECK FOR BIRTHDATE OUTLIERS"
   ]
  },
  {
   "cell_type": "code",
   "execution_count": 16,
   "metadata": {},
   "outputs": [],
   "source": [
    "customers['today'] = pd.to_datetime(date.today().strftime('%Y%m%d'), format=\"%Y%m%d\")"
   ]
  },
  {
   "cell_type": "code",
   "execution_count": 17,
   "metadata": {},
   "outputs": [],
   "source": [
    "customers['age'] = (customers['today'] - customers['datetime']) / timedelta(days=365)"
   ]
  },
  {
   "cell_type": "code",
   "execution_count": 18,
   "metadata": {},
   "outputs": [],
   "source": [
    "customers['age'] = np.floor(customers['age']).astype('int')"
   ]
  },
  {
   "cell_type": "code",
   "execution_count": 19,
   "metadata": {},
   "outputs": [
    {
     "data": {
      "text/plain": [
       "True"
      ]
     },
     "execution_count": 19,
     "metadata": {},
     "output_type": "execute_result"
    }
   ],
   "source": [
    "(customers['age'].max() < 120) & (customers['age'].min() >= 18)"
   ]
  },
  {
   "cell_type": "markdown",
   "metadata": {},
   "source": [
    "#### CHECK IF ALL VALUES IN `SET_SPLIT` COLUMN ARE EITHER `TEST` OR `TRAIN`"
   ]
  },
  {
   "cell_type": "code",
   "execution_count": 20,
   "metadata": {},
   "outputs": [
    {
     "data": {
      "text/plain": [
       "True"
      ]
     },
     "execution_count": 20,
     "metadata": {},
     "output_type": "execute_result"
    }
   ],
   "source": [
    "customers.groupby('SET_SPLIT').count().axes[0].values.tolist() == ['TEST', 'TRAIN']"
   ]
  },
  {
   "cell_type": "markdown",
   "metadata": {},
   "source": [
    "#### CHECK FOR `NULLS` IN THE `LOAN` COLUMN"
   ]
  },
  {
   "cell_type": "code",
   "execution_count": 21,
   "metadata": {},
   "outputs": [
    {
     "data": {
      "text/html": [
       "<div>\n",
       "<style scoped>\n",
       "    .dataframe tbody tr th:only-of-type {\n",
       "        vertical-align: middle;\n",
       "    }\n",
       "\n",
       "    .dataframe tbody tr th {\n",
       "        vertical-align: top;\n",
       "    }\n",
       "\n",
       "    .dataframe thead th {\n",
       "        text-align: right;\n",
       "    }\n",
       "</style>\n",
       "<table border=\"1\" class=\"dataframe\">\n",
       "  <thead>\n",
       "    <tr style=\"text-align: right;\">\n",
       "      <th></th>\n",
       "      <th>CLIENT_ID</th>\n",
       "      <th>ACCOUNT_ID</th>\n",
       "      <th>GENDER</th>\n",
       "      <th>BIRTH_DT</th>\n",
       "      <th>ACTIVE</th>\n",
       "      <th>LOAN</th>\n",
       "      <th>DISTRICT_ID</th>\n",
       "      <th>SET_SPLIT</th>\n",
       "      <th>datetime</th>\n",
       "      <th>today</th>\n",
       "      <th>age</th>\n",
       "    </tr>\n",
       "  </thead>\n",
       "  <tbody>\n",
       "    <tr>\n",
       "      <th>17</th>\n",
       "      <td>25</td>\n",
       "      <td>19</td>\n",
       "      <td>F</td>\n",
       "      <td>19390423</td>\n",
       "      <td>1</td>\n",
       "      <td>NaN</td>\n",
       "      <td>21</td>\n",
       "      <td>TEST</td>\n",
       "      <td>1939-04-23</td>\n",
       "      <td>2023-03-15</td>\n",
       "      <td>83</td>\n",
       "    </tr>\n",
       "    <tr>\n",
       "      <th>42</th>\n",
       "      <td>53</td>\n",
       "      <td>45</td>\n",
       "      <td>M</td>\n",
       "      <td>19770505</td>\n",
       "      <td>1</td>\n",
       "      <td>NaN</td>\n",
       "      <td>64</td>\n",
       "      <td>TRAIN</td>\n",
       "      <td>1977-05-05</td>\n",
       "      <td>2023-03-15</td>\n",
       "      <td>45</td>\n",
       "    </tr>\n",
       "    <tr>\n",
       "      <th>269</th>\n",
       "      <td>350</td>\n",
       "      <td>288</td>\n",
       "      <td>F</td>\n",
       "      <td>19250402</td>\n",
       "      <td>1</td>\n",
       "      <td>NaN</td>\n",
       "      <td>25</td>\n",
       "      <td>TRAIN</td>\n",
       "      <td>1925-04-02</td>\n",
       "      <td>2023-03-15</td>\n",
       "      <td>98</td>\n",
       "    </tr>\n",
       "    <tr>\n",
       "      <th>328</th>\n",
       "      <td>428</td>\n",
       "      <td>350</td>\n",
       "      <td>F</td>\n",
       "      <td>19191116</td>\n",
       "      <td>1</td>\n",
       "      <td>NaN</td>\n",
       "      <td>47</td>\n",
       "      <td>TEST</td>\n",
       "      <td>1919-11-16</td>\n",
       "      <td>2023-03-15</td>\n",
       "      <td>103</td>\n",
       "    </tr>\n",
       "    <tr>\n",
       "      <th>514</th>\n",
       "      <td>657</td>\n",
       "      <td>546</td>\n",
       "      <td>F</td>\n",
       "      <td>19260710</td>\n",
       "      <td>1</td>\n",
       "      <td>NaN</td>\n",
       "      <td>8</td>\n",
       "      <td>TEST</td>\n",
       "      <td>1926-07-10</td>\n",
       "      <td>2023-03-15</td>\n",
       "      <td>96</td>\n",
       "    </tr>\n",
       "  </tbody>\n",
       "</table>\n",
       "</div>"
      ],
      "text/plain": [
       "     CLIENT_ID  ACCOUNT_ID GENDER  BIRTH_DT  ACTIVE  LOAN  DISTRICT_ID  \\\n",
       "17          25          19      F  19390423       1   NaN           21   \n",
       "42          53          45      M  19770505       1   NaN           64   \n",
       "269        350         288      F  19250402       1   NaN           25   \n",
       "328        428         350      F  19191116       1   NaN           47   \n",
       "514        657         546      F  19260710       1   NaN            8   \n",
       "\n",
       "    SET_SPLIT   datetime      today  age  \n",
       "17       TEST 1939-04-23 2023-03-15   83  \n",
       "42      TRAIN 1977-05-05 2023-03-15   45  \n",
       "269     TRAIN 1925-04-02 2023-03-15   98  \n",
       "328      TEST 1919-11-16 2023-03-15  103  \n",
       "514      TEST 1926-07-10 2023-03-15   96  "
      ]
     },
     "execution_count": 21,
     "metadata": {},
     "output_type": "execute_result"
    }
   ],
   "source": [
    "customers[customers['LOAN'].isna()].head()"
   ]
  },
  {
   "cell_type": "markdown",
   "metadata": {},
   "source": [
    "#### CONVERT 'NaN's TO ZEROS"
   ]
  },
  {
   "cell_type": "markdown",
   "metadata": {},
   "source": [
    "Quick glance at the 'NaN' records suggests that these records represent legit accounts. Distribution betwen genders, district ID and enough randomness in date of birth indicate that these records are valid but miss the `LOAN` information.\n",
    "\n",
    "Most of the birth dates for the customers with 'Nan' value are seniors (born before 1960). I will assume that these people became customers before loan product was offered by the bank. We don't need this distinction for our analysis, and since they are marked as '1' in `ACTIVE` column, I will assume that they are active customers without an active loan. Therefore I will convert all 'NaN's to zero.\n",
    "\n",
    "Another hypothesis why certain records hold 'NaN' value is that data can come from a SQL database. In SQL 'Nan' values can be represented as 'Null'. 'Null' indicates state of 'unknown'. In our case, it would mean that we don't know if a customer has a loan or he hasn't. Since we can't be sure, we CAN'T mark it as zero (no loan). However, this situation seems extremely unlikely because we are dealing with bank data and assuming that a bank isn't aware of it's own loans is extremely unlikely. Therefore I will reject this hypothesis and update 'NaN' values to zeros."
   ]
  },
  {
   "cell_type": "code",
   "execution_count": 22,
   "metadata": {},
   "outputs": [],
   "source": [
    "customers['LOAN'] = customers['LOAN'].fillna(0)"
   ]
  },
  {
   "cell_type": "code",
   "execution_count": 23,
   "metadata": {},
   "outputs": [
    {
     "data": {
      "text/plain": [
       "False"
      ]
     },
     "execution_count": 23,
     "metadata": {},
     "output_type": "execute_result"
    }
   ],
   "source": [
    "customers['LOAN'].hasnans"
   ]
  },
  {
   "cell_type": "markdown",
   "metadata": {},
   "source": [
    "#### CONVERT `LOAN` DATA TYPE FROM 'FLOAT' TO 'INT'"
   ]
  },
  {
   "cell_type": "code",
   "execution_count": 24,
   "metadata": {},
   "outputs": [],
   "source": [
    "customers['LOAN'] = customers['LOAN'].astype('int')"
   ]
  },
  {
   "cell_type": "code",
   "execution_count": 25,
   "metadata": {},
   "outputs": [
    {
     "data": {
      "text/plain": [
       "0       0\n",
       "1       1\n",
       "2       0\n",
       "3       0\n",
       "4       0\n",
       "       ..\n",
       "4445    0\n",
       "4446    1\n",
       "4447    1\n",
       "4448    1\n",
       "4449    0\n",
       "Name: LOAN, Length: 4450, dtype: int32"
      ]
     },
     "execution_count": 25,
     "metadata": {},
     "output_type": "execute_result"
    }
   ],
   "source": [
    "customers['LOAN']"
   ]
  },
  {
   "cell_type": "markdown",
   "metadata": {},
   "source": [
    "#### REMOVE UNNEEDED COLUMNS"
   ]
  },
  {
   "cell_type": "code",
   "execution_count": 26,
   "metadata": {},
   "outputs": [],
   "source": [
    "customers.drop(['BIRTH_DT', 'today', 'datetime'], axis=1, inplace=True)"
   ]
  },
  {
   "cell_type": "markdown",
   "metadata": {},
   "source": [
    "#### SUMMARY - `Customers` TABLE AFTER CLEAN-UP"
   ]
  },
  {
   "cell_type": "code",
   "execution_count": 27,
   "metadata": {},
   "outputs": [
    {
     "data": {
      "text/html": [
       "<div>\n",
       "<style scoped>\n",
       "    .dataframe tbody tr th:only-of-type {\n",
       "        vertical-align: middle;\n",
       "    }\n",
       "\n",
       "    .dataframe tbody tr th {\n",
       "        vertical-align: top;\n",
       "    }\n",
       "\n",
       "    .dataframe thead th {\n",
       "        text-align: right;\n",
       "    }\n",
       "</style>\n",
       "<table border=\"1\" class=\"dataframe\">\n",
       "  <thead>\n",
       "    <tr style=\"text-align: right;\">\n",
       "      <th></th>\n",
       "      <th>CLIENT_ID</th>\n",
       "      <th>ACCOUNT_ID</th>\n",
       "      <th>GENDER</th>\n",
       "      <th>ACTIVE</th>\n",
       "      <th>LOAN</th>\n",
       "      <th>DISTRICT_ID</th>\n",
       "      <th>SET_SPLIT</th>\n",
       "      <th>age</th>\n",
       "    </tr>\n",
       "  </thead>\n",
       "  <tbody>\n",
       "    <tr>\n",
       "      <th>0</th>\n",
       "      <td>1</td>\n",
       "      <td>1</td>\n",
       "      <td>F</td>\n",
       "      <td>1</td>\n",
       "      <td>0</td>\n",
       "      <td>18</td>\n",
       "      <td>TRAIN</td>\n",
       "      <td>52</td>\n",
       "    </tr>\n",
       "    <tr>\n",
       "      <th>1</th>\n",
       "      <td>2</td>\n",
       "      <td>2</td>\n",
       "      <td>M</td>\n",
       "      <td>1</td>\n",
       "      <td>1</td>\n",
       "      <td>1</td>\n",
       "      <td>TRAIN</td>\n",
       "      <td>78</td>\n",
       "    </tr>\n",
       "    <tr>\n",
       "      <th>2</th>\n",
       "      <td>4</td>\n",
       "      <td>3</td>\n",
       "      <td>M</td>\n",
       "      <td>1</td>\n",
       "      <td>0</td>\n",
       "      <td>5</td>\n",
       "      <td>TEST</td>\n",
       "      <td>66</td>\n",
       "    </tr>\n",
       "    <tr>\n",
       "      <th>3</th>\n",
       "      <td>7</td>\n",
       "      <td>5</td>\n",
       "      <td>M</td>\n",
       "      <td>1</td>\n",
       "      <td>0</td>\n",
       "      <td>15</td>\n",
       "      <td>TRAIN</td>\n",
       "      <td>94</td>\n",
       "    </tr>\n",
       "    <tr>\n",
       "      <th>4</th>\n",
       "      <td>8</td>\n",
       "      <td>6</td>\n",
       "      <td>F</td>\n",
       "      <td>1</td>\n",
       "      <td>0</td>\n",
       "      <td>51</td>\n",
       "      <td>TRAIN</td>\n",
       "      <td>85</td>\n",
       "    </tr>\n",
       "  </tbody>\n",
       "</table>\n",
       "</div>"
      ],
      "text/plain": [
       "   CLIENT_ID  ACCOUNT_ID GENDER  ACTIVE  LOAN  DISTRICT_ID SET_SPLIT  age\n",
       "0          1           1      F       1     0           18     TRAIN   52\n",
       "1          2           2      M       1     1            1     TRAIN   78\n",
       "2          4           3      M       1     0            5      TEST   66\n",
       "3          7           5      M       1     0           15     TRAIN   94\n",
       "4          8           6      F       1     0           51     TRAIN   85"
      ]
     },
     "execution_count": 27,
     "metadata": {},
     "output_type": "execute_result"
    }
   ],
   "source": [
    "customers.head()"
   ]
  },
  {
   "cell_type": "markdown",
   "metadata": {},
   "source": [
    "### TRANSACTIONS CLEAN-UP"
   ]
  },
  {
   "cell_type": "markdown",
   "metadata": {},
   "source": [
    "#### CHECK IF `TRANS_ID` VALUES ARE UNIQUE"
   ]
  },
  {
   "cell_type": "code",
   "execution_count": 28,
   "metadata": {},
   "outputs": [
    {
     "data": {
      "text/plain": [
       "False"
      ]
     },
     "execution_count": 28,
     "metadata": {},
     "output_type": "execute_result"
    }
   ],
   "source": [
    "transactions['TRANS_ID'].is_unique"
   ]
  },
  {
   "cell_type": "markdown",
   "metadata": {},
   "source": [
    "#### INVESTIGATE DUPLICATES"
   ]
  },
  {
   "cell_type": "code",
   "execution_count": 29,
   "metadata": {},
   "outputs": [
    {
     "data": {
      "text/plain": [
       "TRANS_ID\n",
       "False    1056320\n",
       "True       10000\n",
       "Name: TRANS_ID, dtype: int64"
      ]
     },
     "execution_count": 29,
     "metadata": {},
     "output_type": "execute_result"
    }
   ],
   "source": [
    "transactions['TRANS_ID'].duplicated().groupby(transactions['TRANS_ID'].duplicated()).count()"
   ]
  },
  {
   "cell_type": "code",
   "execution_count": 30,
   "metadata": {},
   "outputs": [
    {
     "data": {
      "text/html": [
       "<div>\n",
       "<style scoped>\n",
       "    .dataframe tbody tr th:only-of-type {\n",
       "        vertical-align: middle;\n",
       "    }\n",
       "\n",
       "    .dataframe tbody tr th {\n",
       "        vertical-align: top;\n",
       "    }\n",
       "\n",
       "    .dataframe thead th {\n",
       "        text-align: right;\n",
       "    }\n",
       "</style>\n",
       "<table border=\"1\" class=\"dataframe\">\n",
       "  <thead>\n",
       "    <tr style=\"text-align: right;\">\n",
       "      <th></th>\n",
       "      <th>TRANS_ID</th>\n",
       "      <th>ACCOUNT_ID</th>\n",
       "      <th>DATE</th>\n",
       "      <th>AMOUNT</th>\n",
       "      <th>BALANCE</th>\n",
       "      <th>TYPE</th>\n",
       "      <th>OPERATION</th>\n",
       "    </tr>\n",
       "  </thead>\n",
       "  <tbody>\n",
       "    <tr>\n",
       "      <th>132</th>\n",
       "      <td>612405</td>\n",
       "      <td>2087.0</td>\n",
       "      <td>29011993</td>\n",
       "      <td>16983.0</td>\n",
       "      <td>17583.0</td>\n",
       "      <td>CREDIT</td>\n",
       "      <td>CREDIT_IN_CASH</td>\n",
       "    </tr>\n",
       "    <tr>\n",
       "      <th>133</th>\n",
       "      <td>612405</td>\n",
       "      <td>2087.0</td>\n",
       "      <td>29011993</td>\n",
       "      <td>16983.0</td>\n",
       "      <td>17583.0</td>\n",
       "      <td>CREDIT</td>\n",
       "      <td>CREDIT_IN_CASH</td>\n",
       "    </tr>\n",
       "    <tr>\n",
       "      <th>136</th>\n",
       "      <td>796773</td>\n",
       "      <td>2714.0</td>\n",
       "      <td>30011993</td>\n",
       "      <td>800.0</td>\n",
       "      <td>800.0</td>\n",
       "      <td>CREDIT</td>\n",
       "      <td>CREDIT_IN_CASH</td>\n",
       "    </tr>\n",
       "    <tr>\n",
       "      <th>137</th>\n",
       "      <td>796773</td>\n",
       "      <td>2714.0</td>\n",
       "      <td>30011993</td>\n",
       "      <td>800.0</td>\n",
       "      <td>800.0</td>\n",
       "      <td>CREDIT</td>\n",
       "      <td>CREDIT_IN_CASH</td>\n",
       "    </tr>\n",
       "    <tr>\n",
       "      <th>245</th>\n",
       "      <td>542217</td>\n",
       "      <td>1844.0</td>\n",
       "      <td>7021993</td>\n",
       "      <td>3242.0</td>\n",
       "      <td>6996.6</td>\n",
       "      <td>CREDIT</td>\n",
       "      <td>COLLECTION_FROM_OTHER_BANK</td>\n",
       "    </tr>\n",
       "    <tr>\n",
       "      <th>...</th>\n",
       "      <td>...</td>\n",
       "      <td>...</td>\n",
       "      <td>...</td>\n",
       "      <td>...</td>\n",
       "      <td>...</td>\n",
       "      <td>...</td>\n",
       "      <td>...</td>\n",
       "    </tr>\n",
       "    <tr>\n",
       "      <th>1065787</th>\n",
       "      <td>3637054</td>\n",
       "      <td>3225.0</td>\n",
       "      <td>31121998</td>\n",
       "      <td>359.2</td>\n",
       "      <td>85171.9</td>\n",
       "      <td>CREDIT</td>\n",
       "      <td>NaN</td>\n",
       "    </tr>\n",
       "    <tr>\n",
       "      <th>1065795</th>\n",
       "      <td>3553434</td>\n",
       "      <td>696.0</td>\n",
       "      <td>31121998</td>\n",
       "      <td>234.8</td>\n",
       "      <td>56102.8</td>\n",
       "      <td>CREDIT</td>\n",
       "      <td>NaN</td>\n",
       "    </tr>\n",
       "    <tr>\n",
       "      <th>1065867</th>\n",
       "      <td>3471092</td>\n",
       "      <td>4526.0</td>\n",
       "      <td>31121998</td>\n",
       "      <td>281.5</td>\n",
       "      <td>83037.3</td>\n",
       "      <td>CREDIT</td>\n",
       "      <td>NaN</td>\n",
       "    </tr>\n",
       "    <tr>\n",
       "      <th>1065905</th>\n",
       "      <td>3457056</td>\n",
       "      <td>9707.0</td>\n",
       "      <td>31121998</td>\n",
       "      <td>272.0</td>\n",
       "      <td>99872.3</td>\n",
       "      <td>CREDIT</td>\n",
       "      <td>NaN</td>\n",
       "    </tr>\n",
       "    <tr>\n",
       "      <th>1065996</th>\n",
       "      <td>3554479</td>\n",
       "      <td>728.0</td>\n",
       "      <td>31121998</td>\n",
       "      <td>78.7</td>\n",
       "      <td>21518.0</td>\n",
       "      <td>CREDIT</td>\n",
       "      <td>NaN</td>\n",
       "    </tr>\n",
       "  </tbody>\n",
       "</table>\n",
       "<p>19830 rows × 7 columns</p>\n",
       "</div>"
      ],
      "text/plain": [
       "         TRANS_ID  ACCOUNT_ID      DATE   AMOUNT  BALANCE    TYPE  \\\n",
       "132        612405      2087.0  29011993  16983.0  17583.0  CREDIT   \n",
       "133        612405      2087.0  29011993  16983.0  17583.0  CREDIT   \n",
       "136        796773      2714.0  30011993    800.0    800.0  CREDIT   \n",
       "137        796773      2714.0  30011993    800.0    800.0  CREDIT   \n",
       "245        542217      1844.0   7021993   3242.0   6996.6  CREDIT   \n",
       "...           ...         ...       ...      ...      ...     ...   \n",
       "1065787   3637054      3225.0  31121998    359.2  85171.9  CREDIT   \n",
       "1065795   3553434       696.0  31121998    234.8  56102.8  CREDIT   \n",
       "1065867   3471092      4526.0  31121998    281.5  83037.3  CREDIT   \n",
       "1065905   3457056      9707.0  31121998    272.0  99872.3  CREDIT   \n",
       "1065996   3554479       728.0  31121998     78.7  21518.0  CREDIT   \n",
       "\n",
       "                          OPERATION  \n",
       "132                  CREDIT_IN_CASH  \n",
       "133                  CREDIT_IN_CASH  \n",
       "136                  CREDIT_IN_CASH  \n",
       "137                  CREDIT_IN_CASH  \n",
       "245      COLLECTION_FROM_OTHER_BANK  \n",
       "...                             ...  \n",
       "1065787                         NaN  \n",
       "1065795                         NaN  \n",
       "1065867                         NaN  \n",
       "1065905                         NaN  \n",
       "1065996                         NaN  \n",
       "\n",
       "[19830 rows x 7 columns]"
      ]
     },
     "execution_count": 30,
     "metadata": {},
     "output_type": "execute_result"
    }
   ],
   "source": [
    "transactions[transactions.duplicated(keep=False)]"
   ]
  },
  {
   "cell_type": "markdown",
   "metadata": {},
   "source": [
    "There are close to 5000 duplicate values. There should be no duplicate transactions in the table as each each `TRANS_ID` should be unique. I will remove the duplicates as the number of duplicates is very low (less than half percent of all transactions) and it seems like duplicates were added by mistake as previously mentioned."
   ]
  },
  {
   "cell_type": "markdown",
   "metadata": {},
   "source": [
    "#### REMOVE DUPLICATES"
   ]
  },
  {
   "cell_type": "code",
   "execution_count": 31,
   "metadata": {},
   "outputs": [],
   "source": [
    "transactions.drop_duplicates('TRANS_ID', inplace=True)"
   ]
  },
  {
   "cell_type": "code",
   "execution_count": 32,
   "metadata": {},
   "outputs": [
    {
     "data": {
      "text/plain": [
       "True"
      ]
     },
     "execution_count": 32,
     "metadata": {},
     "output_type": "execute_result"
    }
   ],
   "source": [
    "transactions['TRANS_ID'].is_unique"
   ]
  },
  {
   "cell_type": "markdown",
   "metadata": {},
   "source": [
    "#### CHECK FOR MISSING VALUES IN ACCOUNT_ID"
   ]
  },
  {
   "cell_type": "code",
   "execution_count": 33,
   "metadata": {},
   "outputs": [
    {
     "data": {
      "text/plain": [
       "TRANS_ID           0\n",
       "ACCOUNT_ID      4961\n",
       "DATE               0\n",
       "AMOUNT             0\n",
       "BALANCE            0\n",
       "TYPE               0\n",
       "OPERATION     183114\n",
       "dtype: int64"
      ]
     },
     "execution_count": 33,
     "metadata": {},
     "output_type": "execute_result"
    }
   ],
   "source": [
    "transactions.isna().sum()"
   ]
  },
  {
   "cell_type": "markdown",
   "metadata": {},
   "source": [
    "There are 5000 missing values in the `ACCOUNT_ID` column which is less than half percent of all transactions. The 'misising values' sample is homogenous as shown by the 'summary-describe()' tables. Ratios of \"transactions in a particular category (eg. 'CC_WITHDRAWAL')\" vs \"total transactions\" are very similar in both the sample and total population set. `ACCOUNT_ID` missing value can be a problem for certain types of future operations (eg. joins over tables) because database consistency is not maintained."
   ]
  },
  {
   "cell_type": "markdown",
   "metadata": {},
   "source": [
    "HOMOGENEITY CHECK"
   ]
  },
  {
   "cell_type": "code",
   "execution_count": 34,
   "metadata": {},
   "outputs": [
    {
     "name": "stdout",
     "output_type": "stream",
     "text": [
      "Transactions set with no 'NaN's' \n",
      " [['0.5%'], ['6.8%'], ['15.0%'], ['18.9%'], ['41.6%']]\n",
      "Transactions set with only 'Nan's \n",
      " [['0.8%'], ['6.2%'], ['14.8%'], ['19.7%'], ['41.2%']]\n"
     ]
    }
   ],
   "source": [
    "only_nulls = transactions.loc[transactions['ACCOUNT_ID'].isnull()]\n",
    "full_set_without_nulls = transactions.dropna(subset='ACCOUNT_ID')\n",
    "\n",
    "def homogeneity_check(dataset):\n",
    "    \n",
    "    grouped_set = dataset.groupby('OPERATION').count()\n",
    "    grouped_set['ratio'] = grouped_set['TRANS_ID'] / dataset['TRANS_ID'].count()\n",
    "    grouped_set['ratio'] = grouped_set['ratio'].map('{:.1%}'.format)\n",
    "    \n",
    "    return grouped_set[['ratio']].values.tolist()\n",
    "\n",
    "\n",
    "only_nulls_summary = homogeneity_check(only_nulls)\n",
    "full_set_without_nulls_summary = homogeneity_check(full_set_without_nulls)\n",
    "\n",
    "print(\"Transactions set with no 'NaN's'\",'\\n', only_nulls_summary)\n",
    "print(\"Transactions set with only 'Nan's\",'\\n', full_set_without_nulls_summary)"
   ]
  },
  {
   "cell_type": "markdown",
   "metadata": {},
   "source": [
    "We can see that the ratio values for each `OPERATION` category (eg. 'CREDIT_IN_CASH', 'COLLECTION_FROM_BANK', etc) are very similar in both sets. Therefore the sample set is homogenous with the population set. This gives us confidence to remove the 'NaN' values without a high risk of negatively influencing the results of further analysis."
   ]
  },
  {
   "cell_type": "code",
   "execution_count": 35,
   "metadata": {},
   "outputs": [],
   "source": [
    "transactions.dropna(subset='ACCOUNT_ID', inplace=True)"
   ]
  },
  {
   "cell_type": "code",
   "execution_count": 36,
   "metadata": {},
   "outputs": [
    {
     "data": {
      "text/plain": [
       "TRANS_ID           0\n",
       "ACCOUNT_ID         0\n",
       "DATE               0\n",
       "AMOUNT             0\n",
       "BALANCE            0\n",
       "TYPE               0\n",
       "OPERATION     182262\n",
       "dtype: int64"
      ]
     },
     "execution_count": 36,
     "metadata": {},
     "output_type": "execute_result"
    }
   ],
   "source": [
    "transactions.isna().sum()"
   ]
  },
  {
   "cell_type": "markdown",
   "metadata": {},
   "source": [
    "#### CHECK IF A COMBINATION OF TRANSACTION ID AND ACCOUNT IS UNIQUE"
   ]
  },
  {
   "cell_type": "code",
   "execution_count": 37,
   "metadata": {},
   "outputs": [],
   "source": [
    "transactions_account_id = transactions['TRANS_ID'].astype(str) + '-' + transactions['ACCOUNT_ID'].astype(str)"
   ]
  },
  {
   "cell_type": "code",
   "execution_count": 38,
   "metadata": {},
   "outputs": [
    {
     "data": {
      "text/plain": [
       "True"
      ]
     },
     "execution_count": 38,
     "metadata": {},
     "output_type": "execute_result"
    }
   ],
   "source": [
    "transactions_account_id.is_unique"
   ]
  },
  {
   "cell_type": "markdown",
   "metadata": {},
   "source": [
    "#### CHECK IF THERE ARE ANY 'NaN' VALUES IN ANY OTHER COLUMN"
   ]
  },
  {
   "cell_type": "code",
   "execution_count": 39,
   "metadata": {},
   "outputs": [
    {
     "data": {
      "text/plain": [
       "TRANS_ID           0\n",
       "ACCOUNT_ID         0\n",
       "DATE               0\n",
       "AMOUNT             0\n",
       "BALANCE            0\n",
       "TYPE               0\n",
       "OPERATION     182262\n",
       "dtype: int64"
      ]
     },
     "execution_count": 39,
     "metadata": {},
     "output_type": "execute_result"
    }
   ],
   "source": [
    "transactions.isna().sum()"
   ]
  },
  {
   "cell_type": "code",
   "execution_count": 40,
   "metadata": {},
   "outputs": [
    {
     "data": {
      "text/plain": [
       "'17%'"
      ]
     },
     "execution_count": 40,
     "metadata": {},
     "output_type": "execute_result"
    }
   ],
   "source": [
    "\"{:.0%}\".format(transactions.isna().sum()['OPERATION'] / len(transactions.index))"
   ]
  },
  {
   "cell_type": "markdown",
   "metadata": {},
   "source": [
    "There are 180k missing transactions with missing 'OPERATION' value which is 17% of total transactions. My hypothesis is that these belong to the sixth 'OPERATION' category. Most likely the missing category is 'CREDIT_TO_CC'. The rationale behind this hypothesis is that there are three types of transactions (Credit Card related, Cash related and Bank Transfer related). For the two of these categories: Cash and Bank Transfer, we can see both credit and debit type. However, for Credit Card category we can only see credit type. Therefore, most likely the missing values belong to Credit part of Credit Card category.\n",
    "\n"
   ]
  },
  {
   "cell_type": "code",
   "execution_count": 41,
   "metadata": {},
   "outputs": [
    {
     "data": {
      "text/html": [
       "<div>\n",
       "<style scoped>\n",
       "    .dataframe tbody tr th:only-of-type {\n",
       "        vertical-align: middle;\n",
       "    }\n",
       "\n",
       "    .dataframe tbody tr th {\n",
       "        vertical-align: top;\n",
       "    }\n",
       "\n",
       "    .dataframe thead th {\n",
       "        text-align: right;\n",
       "    }\n",
       "</style>\n",
       "<table border=\"1\" class=\"dataframe\">\n",
       "  <thead>\n",
       "    <tr style=\"text-align: right;\">\n",
       "      <th></th>\n",
       "      <th>TRANS_ID</th>\n",
       "      <th>ACCOUNT_ID</th>\n",
       "      <th>DATE</th>\n",
       "      <th>AMOUNT</th>\n",
       "      <th>BALANCE</th>\n",
       "      <th>TYPE</th>\n",
       "    </tr>\n",
       "    <tr>\n",
       "      <th>OPERATION</th>\n",
       "      <th></th>\n",
       "      <th></th>\n",
       "      <th></th>\n",
       "      <th></th>\n",
       "      <th></th>\n",
       "      <th></th>\n",
       "    </tr>\n",
       "  </thead>\n",
       "  <tbody>\n",
       "    <tr>\n",
       "      <th>CC_WITHDRAWAL</th>\n",
       "      <td>8011</td>\n",
       "      <td>8011</td>\n",
       "      <td>8011</td>\n",
       "      <td>8011</td>\n",
       "      <td>8011</td>\n",
       "      <td>8011</td>\n",
       "    </tr>\n",
       "    <tr>\n",
       "      <th>COLLECTION_FROM_OTHER_BANK</th>\n",
       "      <td>64888</td>\n",
       "      <td>64888</td>\n",
       "      <td>64888</td>\n",
       "      <td>64888</td>\n",
       "      <td>64888</td>\n",
       "      <td>64888</td>\n",
       "    </tr>\n",
       "    <tr>\n",
       "      <th>CREDIT_IN_CASH</th>\n",
       "      <td>156001</td>\n",
       "      <td>156001</td>\n",
       "      <td>156001</td>\n",
       "      <td>156001</td>\n",
       "      <td>156001</td>\n",
       "      <td>156001</td>\n",
       "    </tr>\n",
       "    <tr>\n",
       "      <th>REMITTANCE_TO_OTHER_BANK</th>\n",
       "      <td>207344</td>\n",
       "      <td>207344</td>\n",
       "      <td>207344</td>\n",
       "      <td>207344</td>\n",
       "      <td>207344</td>\n",
       "      <td>207344</td>\n",
       "    </tr>\n",
       "    <tr>\n",
       "      <th>WITHDRAWAL_IN_CASH</th>\n",
       "      <td>432853</td>\n",
       "      <td>432853</td>\n",
       "      <td>432853</td>\n",
       "      <td>432853</td>\n",
       "      <td>432853</td>\n",
       "      <td>432853</td>\n",
       "    </tr>\n",
       "    <tr>\n",
       "      <th>NaN</th>\n",
       "      <td>182262</td>\n",
       "      <td>182262</td>\n",
       "      <td>182262</td>\n",
       "      <td>182262</td>\n",
       "      <td>182262</td>\n",
       "      <td>182262</td>\n",
       "    </tr>\n",
       "  </tbody>\n",
       "</table>\n",
       "</div>"
      ],
      "text/plain": [
       "                            TRANS_ID  ACCOUNT_ID    DATE  AMOUNT  BALANCE  \\\n",
       "OPERATION                                                                   \n",
       "CC_WITHDRAWAL                   8011        8011    8011    8011     8011   \n",
       "COLLECTION_FROM_OTHER_BANK     64888       64888   64888   64888    64888   \n",
       "CREDIT_IN_CASH                156001      156001  156001  156001   156001   \n",
       "REMITTANCE_TO_OTHER_BANK      207344      207344  207344  207344   207344   \n",
       "WITHDRAWAL_IN_CASH            432853      432853  432853  432853   432853   \n",
       "NaN                           182262      182262  182262  182262   182262   \n",
       "\n",
       "                              TYPE  \n",
       "OPERATION                           \n",
       "CC_WITHDRAWAL                 8011  \n",
       "COLLECTION_FROM_OTHER_BANK   64888  \n",
       "CREDIT_IN_CASH              156001  \n",
       "REMITTANCE_TO_OTHER_BANK    207344  \n",
       "WITHDRAWAL_IN_CASH          432853  \n",
       "NaN                         182262  "
      ]
     },
     "execution_count": 41,
     "metadata": {},
     "output_type": "execute_result"
    }
   ],
   "source": [
    "transactions.groupby('OPERATION', dropna=False).count()"
   ]
  },
  {
   "cell_type": "markdown",
   "metadata": {},
   "source": [
    "Another clue which led me to my hypothesis was mean transation amount accross different 'OPERATION' categories. Credit card transactions are generally of lower value than bank transfers and cash withdrawals/deposits in the bank. Summary statistics of the dataset confirm this: 'CC_WITHDRAVAL' category has the lowest value mean among the categories. And the data set which consists of 'NaN' values has the lowest mean among all categories. Which is another reason to believe that this dataset is really 'CREDIT_TO_CC' category."
   ]
  },
  {
   "cell_type": "code",
   "execution_count": 42,
   "metadata": {},
   "outputs": [
    {
     "name": "stderr",
     "output_type": "stream",
     "text": [
      "C:\\Users\\Bartosz\\AppData\\Local\\Temp\\ipykernel_25920\\3429856163.py:1: FutureWarning: The default value of numeric_only in DataFrameGroupBy.mean is deprecated. In a future version, numeric_only will default to False. Either specify numeric_only or select only columns which should be valid for the function.\n",
      "  transactions.groupby('OPERATION', dropna=False).mean()['AMOUNT'].astype('int').sort_values(ascending=False)\n"
     ]
    },
    {
     "data": {
      "text/plain": [
       "OPERATION\n",
       "CREDIT_IN_CASH                15431\n",
       "COLLECTION_FROM_OTHER_BANK    11972\n",
       "WITHDRAWAL_IN_CASH             5378\n",
       "REMITTANCE_TO_OTHER_BANK       3229\n",
       "CC_WITHDRAWAL                  2261\n",
       "NaN                             150\n",
       "Name: AMOUNT, dtype: int32"
      ]
     },
     "execution_count": 42,
     "metadata": {},
     "output_type": "execute_result"
    }
   ],
   "source": [
    "transactions.groupby('OPERATION', dropna=False).mean(numeric_only=True)['AMOUNT'].astype('int').sort_values(ascending=False)"
   ]
  },
  {
   "cell_type": "markdown",
   "metadata": {},
   "source": [
    "Based on the reasons described above I'm going to replace 'Nan's with 'CREDIT_TO_CC' tag."
   ]
  },
  {
   "cell_type": "code",
   "execution_count": 43,
   "metadata": {},
   "outputs": [],
   "source": [
    "transactions['OPERATION'] = transactions['OPERATION'].map(lambda x: 'CC_CREDIT' if pd.isna(x) else x)"
   ]
  },
  {
   "cell_type": "code",
   "execution_count": 44,
   "metadata": {},
   "outputs": [
    {
     "data": {
      "text/plain": [
       "TRANS_ID      0\n",
       "ACCOUNT_ID    0\n",
       "DATE          0\n",
       "AMOUNT        0\n",
       "BALANCE       0\n",
       "TYPE          0\n",
       "OPERATION     0\n",
       "dtype: int64"
      ]
     },
     "execution_count": 44,
     "metadata": {},
     "output_type": "execute_result"
    }
   ],
   "source": [
    "transactions.isna().sum()"
   ]
  },
  {
   "cell_type": "markdown",
   "metadata": {},
   "source": [
    "#### **CHECK IF THERE ARE ANY TRANSACTIONS WITH ZERO VALUE**"
   ]
  },
  {
   "cell_type": "code",
   "execution_count": 45,
   "metadata": {},
   "outputs": [
    {
     "data": {
      "text/plain": [
       "14"
      ]
     },
     "execution_count": 45,
     "metadata": {},
     "output_type": "execute_result"
    }
   ],
   "source": [
    "len(transactions[transactions['AMOUNT'] == 0].index)"
   ]
  },
  {
   "cell_type": "code",
   "execution_count": 46,
   "metadata": {},
   "outputs": [
    {
     "data": {
      "text/html": [
       "<div>\n",
       "<style scoped>\n",
       "    .dataframe tbody tr th:only-of-type {\n",
       "        vertical-align: middle;\n",
       "    }\n",
       "\n",
       "    .dataframe tbody tr th {\n",
       "        vertical-align: top;\n",
       "    }\n",
       "\n",
       "    .dataframe thead th {\n",
       "        text-align: right;\n",
       "    }\n",
       "</style>\n",
       "<table border=\"1\" class=\"dataframe\">\n",
       "  <thead>\n",
       "    <tr style=\"text-align: right;\">\n",
       "      <th></th>\n",
       "      <th>TRANS_ID</th>\n",
       "      <th>ACCOUNT_ID</th>\n",
       "      <th>DATE</th>\n",
       "      <th>AMOUNT</th>\n",
       "      <th>BALANCE</th>\n",
       "      <th>TYPE</th>\n",
       "      <th>OPERATION</th>\n",
       "    </tr>\n",
       "  </thead>\n",
       "  <tbody>\n",
       "    <tr>\n",
       "      <th>85511</th>\n",
       "      <td>3455961</td>\n",
       "      <td>8957.0</td>\n",
       "      <td>31081994</td>\n",
       "      <td>0.0</td>\n",
       "      <td>72681.7</td>\n",
       "      <td>WITHDRAWAL</td>\n",
       "      <td>WITHDRAWAL_IN_CASH</td>\n",
       "    </tr>\n",
       "    <tr>\n",
       "      <th>109954</th>\n",
       "      <td>3451376</td>\n",
       "      <td>5129.0</td>\n",
       "      <td>30111994</td>\n",
       "      <td>0.0</td>\n",
       "      <td>-388.7</td>\n",
       "      <td>WITHDRAWAL</td>\n",
       "      <td>WITHDRAWAL_IN_CASH</td>\n",
       "    </tr>\n",
       "    <tr>\n",
       "      <th>135617</th>\n",
       "      <td>3452231</td>\n",
       "      <td>5483.0</td>\n",
       "      <td>31011995</td>\n",
       "      <td>0.0</td>\n",
       "      <td>113.1</td>\n",
       "      <td>WITHDRAWAL</td>\n",
       "      <td>WITHDRAWAL_IN_CASH</td>\n",
       "    </tr>\n",
       "    <tr>\n",
       "      <th>483108</th>\n",
       "      <td>3456605</td>\n",
       "      <td>9337.0</td>\n",
       "      <td>31011997</td>\n",
       "      <td>0.0</td>\n",
       "      <td>8502.9</td>\n",
       "      <td>WITHDRAWAL</td>\n",
       "      <td>WITHDRAWAL_IN_CASH</td>\n",
       "    </tr>\n",
       "    <tr>\n",
       "      <th>486931</th>\n",
       "      <td>3510214</td>\n",
       "      <td>9337.0</td>\n",
       "      <td>31011997</td>\n",
       "      <td>0.0</td>\n",
       "      <td>8488.2</td>\n",
       "      <td>WITHDRAWAL</td>\n",
       "      <td>WITHDRAWAL_IN_CASH</td>\n",
       "    </tr>\n",
       "    <tr>\n",
       "      <th>589491</th>\n",
       "      <td>3451866</td>\n",
       "      <td>5369.0</td>\n",
       "      <td>30061997</td>\n",
       "      <td>0.0</td>\n",
       "      <td>603.9</td>\n",
       "      <td>WITHDRAWAL</td>\n",
       "      <td>WITHDRAWAL_IN_CASH</td>\n",
       "    </tr>\n",
       "    <tr>\n",
       "      <th>733542</th>\n",
       "      <td>3449658</td>\n",
       "      <td>3859.0</td>\n",
       "      <td>31121997</td>\n",
       "      <td>0.0</td>\n",
       "      <td>197.0</td>\n",
       "      <td>WITHDRAWAL</td>\n",
       "      <td>WITHDRAWAL_IN_CASH</td>\n",
       "    </tr>\n",
       "    <tr>\n",
       "      <th>777390</th>\n",
       "      <td>3446795</td>\n",
       "      <td>1475.0</td>\n",
       "      <td>31011998</td>\n",
       "      <td>0.0</td>\n",
       "      <td>694.3</td>\n",
       "      <td>WITHDRAWAL</td>\n",
       "      <td>WITHDRAWAL_IN_CASH</td>\n",
       "    </tr>\n",
       "    <tr>\n",
       "      <th>803365</th>\n",
       "      <td>3456218</td>\n",
       "      <td>9051.0</td>\n",
       "      <td>28021998</td>\n",
       "      <td>0.0</td>\n",
       "      <td>1367.1</td>\n",
       "      <td>CREDIT</td>\n",
       "      <td>CC_CREDIT</td>\n",
       "    </tr>\n",
       "    <tr>\n",
       "      <th>806666</th>\n",
       "      <td>3507085</td>\n",
       "      <td>9051.0</td>\n",
       "      <td>28021998</td>\n",
       "      <td>0.0</td>\n",
       "      <td>1367.1</td>\n",
       "      <td>CREDIT</td>\n",
       "      <td>CC_CREDIT</td>\n",
       "    </tr>\n",
       "    <tr>\n",
       "      <th>964429</th>\n",
       "      <td>3533930</td>\n",
       "      <td>102.0</td>\n",
       "      <td>31081998</td>\n",
       "      <td>0.0</td>\n",
       "      <td>311.1</td>\n",
       "      <td>CREDIT</td>\n",
       "      <td>CC_CREDIT</td>\n",
       "    </tr>\n",
       "    <tr>\n",
       "      <th>985494</th>\n",
       "      <td>3451351</td>\n",
       "      <td>5125.0</td>\n",
       "      <td>30091998</td>\n",
       "      <td>0.0</td>\n",
       "      <td>597.1</td>\n",
       "      <td>WITHDRAWAL</td>\n",
       "      <td>WITHDRAWAL_IN_CASH</td>\n",
       "    </tr>\n",
       "    <tr>\n",
       "      <th>989362</th>\n",
       "      <td>3453255</td>\n",
       "      <td>6083.0</td>\n",
       "      <td>30091998</td>\n",
       "      <td>0.0</td>\n",
       "      <td>-8404.2</td>\n",
       "      <td>CREDIT</td>\n",
       "      <td>CC_CREDIT</td>\n",
       "    </tr>\n",
       "    <tr>\n",
       "      <th>1040996</th>\n",
       "      <td>3446508</td>\n",
       "      <td>1330.0</td>\n",
       "      <td>30111998</td>\n",
       "      <td>0.0</td>\n",
       "      <td>141.2</td>\n",
       "      <td>WITHDRAWAL</td>\n",
       "      <td>WITHDRAWAL_IN_CASH</td>\n",
       "    </tr>\n",
       "  </tbody>\n",
       "</table>\n",
       "</div>"
      ],
      "text/plain": [
       "         TRANS_ID  ACCOUNT_ID      DATE  AMOUNT  BALANCE        TYPE  \\\n",
       "85511     3455961      8957.0  31081994     0.0  72681.7  WITHDRAWAL   \n",
       "109954    3451376      5129.0  30111994     0.0   -388.7  WITHDRAWAL   \n",
       "135617    3452231      5483.0  31011995     0.0    113.1  WITHDRAWAL   \n",
       "483108    3456605      9337.0  31011997     0.0   8502.9  WITHDRAWAL   \n",
       "486931    3510214      9337.0  31011997     0.0   8488.2  WITHDRAWAL   \n",
       "589491    3451866      5369.0  30061997     0.0    603.9  WITHDRAWAL   \n",
       "733542    3449658      3859.0  31121997     0.0    197.0  WITHDRAWAL   \n",
       "777390    3446795      1475.0  31011998     0.0    694.3  WITHDRAWAL   \n",
       "803365    3456218      9051.0  28021998     0.0   1367.1      CREDIT   \n",
       "806666    3507085      9051.0  28021998     0.0   1367.1      CREDIT   \n",
       "964429    3533930       102.0  31081998     0.0    311.1      CREDIT   \n",
       "985494    3451351      5125.0  30091998     0.0    597.1  WITHDRAWAL   \n",
       "989362    3453255      6083.0  30091998     0.0  -8404.2      CREDIT   \n",
       "1040996   3446508      1330.0  30111998     0.0    141.2  WITHDRAWAL   \n",
       "\n",
       "                  OPERATION  \n",
       "85511    WITHDRAWAL_IN_CASH  \n",
       "109954   WITHDRAWAL_IN_CASH  \n",
       "135617   WITHDRAWAL_IN_CASH  \n",
       "483108   WITHDRAWAL_IN_CASH  \n",
       "486931   WITHDRAWAL_IN_CASH  \n",
       "589491   WITHDRAWAL_IN_CASH  \n",
       "733542   WITHDRAWAL_IN_CASH  \n",
       "777390   WITHDRAWAL_IN_CASH  \n",
       "803365            CC_CREDIT  \n",
       "806666            CC_CREDIT  \n",
       "964429            CC_CREDIT  \n",
       "985494   WITHDRAWAL_IN_CASH  \n",
       "989362            CC_CREDIT  \n",
       "1040996  WITHDRAWAL_IN_CASH  "
      ]
     },
     "execution_count": 46,
     "metadata": {},
     "output_type": "execute_result"
    }
   ],
   "source": [
    "transactions[transactions['AMOUNT'] == 0]"
   ]
  },
  {
   "cell_type": "markdown",
   "metadata": {},
   "source": [
    "There are 14 transactions with 'zero' amount. Since they have no impact on the aggregate statistics of the remaining transactions, I'm going to remove them from the dataset. However, I will keep them as a separate table to investigate the reason for transactions with zero amount. They are probably some kind of systems' related transactions as all of them take place at the last day of the calendar month."
   ]
  },
  {
   "cell_type": "code",
   "execution_count": 47,
   "metadata": {},
   "outputs": [],
   "source": [
    "count_before = len(transactions.index)"
   ]
  },
  {
   "cell_type": "code",
   "execution_count": 48,
   "metadata": {},
   "outputs": [],
   "source": [
    "transactions.drop(transactions[transactions.AMOUNT == 0].index, inplace=True)"
   ]
  },
  {
   "cell_type": "code",
   "execution_count": 49,
   "metadata": {},
   "outputs": [
    {
     "data": {
      "text/plain": [
       "True"
      ]
     },
     "execution_count": 49,
     "metadata": {},
     "output_type": "execute_result"
    }
   ],
   "source": [
    "(count_before - len(transactions.index)) == 14"
   ]
  },
  {
   "cell_type": "markdown",
   "metadata": {},
   "source": [
    "#### CHECK TYPE COLUMN"
   ]
  },
  {
   "cell_type": "code",
   "execution_count": 50,
   "metadata": {},
   "outputs": [
    {
     "data": {
      "text/plain": [
       "dict_keys(['CREDIT', 'WITHDRAWAL'])"
      ]
     },
     "execution_count": 50,
     "metadata": {},
     "output_type": "execute_result"
    }
   ],
   "source": [
    "transactions.groupby('TYPE').groups.keys()"
   ]
  },
  {
   "cell_type": "markdown",
   "metadata": {},
   "source": [
    "These two categories represent account inflows and outflows, therefore there is no need for signed transactions. I expect to see no negative amount records in the next check"
   ]
  },
  {
   "cell_type": "markdown",
   "metadata": {},
   "source": [
    "#### CHECK IF THERE ARE ANY TRANSACTIONS WHERE 'AMOUNT' IS LOWER THAN 0"
   ]
  },
  {
   "cell_type": "code",
   "execution_count": 51,
   "metadata": {},
   "outputs": [
    {
     "data": {
      "text/plain": [
       "True"
      ]
     },
     "execution_count": 51,
     "metadata": {},
     "output_type": "execute_result"
    }
   ],
   "source": [
    "len(transactions[transactions['AMOUNT'] < 0].index) == 0"
   ]
  },
  {
   "cell_type": "markdown",
   "metadata": {},
   "source": [
    "#### **CHECK FOR OUTLIERS IN TRANSACTION AMOUNT AND TRANSACTION BALANCE**"
   ]
  },
  {
   "cell_type": "code",
   "execution_count": 52,
   "metadata": {},
   "outputs": [
    {
     "data": {
      "text/plain": [
       "87400.0"
      ]
     },
     "execution_count": 52,
     "metadata": {},
     "output_type": "execute_result"
    }
   ],
   "source": [
    "transactions['AMOUNT'].max()"
   ]
  },
  {
   "cell_type": "markdown",
   "metadata": {},
   "source": [
    "The highest transaction amount is 87 thousands, so nothing irregular here."
   ]
  },
  {
   "cell_type": "code",
   "execution_count": 53,
   "metadata": {},
   "outputs": [
    {
     "data": {
      "text/plain": [
       "209637.0"
      ]
     },
     "execution_count": 53,
     "metadata": {},
     "output_type": "execute_result"
    }
   ],
   "source": [
    "transactions['BALANCE'].max()"
   ]
  },
  {
   "cell_type": "code",
   "execution_count": 54,
   "metadata": {},
   "outputs": [
    {
     "data": {
      "text/plain": [
       "-41125.7"
      ]
     },
     "execution_count": 54,
     "metadata": {},
     "output_type": "execute_result"
    }
   ],
   "source": [
    "transactions['BALANCE'].min()"
   ]
  },
  {
   "cell_type": "markdown",
   "metadata": {},
   "source": [
    "Both maximum and minimum balance in all transactions is the range -42k to 210k so nothing unusual."
   ]
  },
  {
   "cell_type": "markdown",
   "metadata": {},
   "source": [
    "**FORMAT DATE TO BE MORE READABLE**"
   ]
  },
  {
   "cell_type": "code",
   "execution_count": 55,
   "metadata": {},
   "outputs": [],
   "source": [
    "transactions['DATE'] = transactions['DATE'].map(lambda x: ('0' + str(x)) if (len(str(x)) == 7) else x)"
   ]
  },
  {
   "cell_type": "code",
   "execution_count": 56,
   "metadata": {},
   "outputs": [],
   "source": [
    "transactions['DATE'] = pd.to_datetime(transactions['DATE'], format=\"%d%m%Y\")"
   ]
  },
  {
   "cell_type": "code",
   "execution_count": 57,
   "metadata": {},
   "outputs": [
    {
     "data": {
      "text/plain": [
       "0   1993-01-01\n",
       "1   1993-01-01\n",
       "2   1993-01-01\n",
       "3   1993-01-01\n",
       "4   1993-01-02\n",
       "Name: DATE, dtype: datetime64[ns]"
      ]
     },
     "execution_count": 57,
     "metadata": {},
     "output_type": "execute_result"
    }
   ],
   "source": [
    "transactions['DATE'].head()"
   ]
  },
  {
   "cell_type": "markdown",
   "metadata": {},
   "source": [
    "### DISTRICTS CLEAN-UP"
   ]
  },
  {
   "cell_type": "markdown",
   "metadata": {},
   "source": [
    "#### **CHECK IF THERE ARE ANY 'NaN' VALUES**"
   ]
  },
  {
   "cell_type": "code",
   "execution_count": 58,
   "metadata": {},
   "outputs": [
    {
     "data": {
      "text/plain": [
       "DISTRICT_ID    0\n",
       "N_INHAB        0\n",
       "N_CITIES       0\n",
       "URBAN_RATIO    0\n",
       "AVG_SALARY     0\n",
       "UNEMP_95       0\n",
       "UNEMP_96       0\n",
       "N_ENTR         0\n",
       "CRIME_95       0\n",
       "CRIME_96       0\n",
       "dtype: int64"
      ]
     },
     "execution_count": 58,
     "metadata": {},
     "output_type": "execute_result"
    }
   ],
   "source": [
    "districts.isna().sum()"
   ]
  },
  {
   "cell_type": "markdown",
   "metadata": {},
   "source": [
    "#### **CHECK FOR OUTLIERS IN EACH CATEGORY**"
   ]
  },
  {
   "cell_type": "code",
   "execution_count": 59,
   "metadata": {},
   "outputs": [
    {
     "data": {
      "text/plain": [
       "{'DISTRICT_ID': [{'max': 77}, {'min': 1}],\n",
       " 'N_INHAB': [{'max': 1204953}, {'min': 42821}],\n",
       " 'N_CITIES': [{'max': 11}, {'min': 1}],\n",
       " 'URBAN_RATIO': [{'max': 100.0}, {'min': 33.9}],\n",
       " 'AVG_SALARY': [{'max': 12541}, {'min': 8110}],\n",
       " 'UNEMP_95': [{'max': '?'}, {'min': '0.29'}],\n",
       " 'UNEMP_96': [{'max': 9.4}, {'min': 0.43}],\n",
       " 'N_ENTR': [{'max': 167}, {'min': 81}],\n",
       " 'CRIME_95': [{'max': '?'}, {'min': '1003'}],\n",
       " 'CRIME_96': [{'max': 99107}, {'min': 888}]}"
      ]
     },
     "execution_count": 59,
     "metadata": {},
     "output_type": "execute_result"
    }
   ],
   "source": [
    "def check_outliers(table):\n",
    "    check = {}\n",
    "    for i in table.columns.tolist():\n",
    "        check[i] = [{'max': table[i].max()}, {'min': table[i].min()}]\n",
    "    return check\n",
    "\n",
    "check_outliers(districts)"
   ]
  },
  {
   "cell_type": "markdown",
   "metadata": {},
   "source": [
    "All these numbers look reasonable for each category, and as a bonus we got to see that 'UNEMP_95' has some weird values: '?', which we are going to investigate futher."
   ]
  },
  {
   "cell_type": "markdown",
   "metadata": {},
   "source": [
    "#### FIND RECORDS WITH '?' VALUES IN COLUMNS `UNEMP_95` AND `CRIME_95`"
   ]
  },
  {
   "cell_type": "code",
   "execution_count": 60,
   "metadata": {},
   "outputs": [
    {
     "data": {
      "text/html": [
       "<div>\n",
       "<style scoped>\n",
       "    .dataframe tbody tr th:only-of-type {\n",
       "        vertical-align: middle;\n",
       "    }\n",
       "\n",
       "    .dataframe tbody tr th {\n",
       "        vertical-align: top;\n",
       "    }\n",
       "\n",
       "    .dataframe thead th {\n",
       "        text-align: right;\n",
       "    }\n",
       "</style>\n",
       "<table border=\"1\" class=\"dataframe\">\n",
       "  <thead>\n",
       "    <tr style=\"text-align: right;\">\n",
       "      <th></th>\n",
       "      <th>DISTRICT_ID</th>\n",
       "      <th>N_INHAB</th>\n",
       "      <th>N_CITIES</th>\n",
       "      <th>URBAN_RATIO</th>\n",
       "      <th>AVG_SALARY</th>\n",
       "      <th>UNEMP_95</th>\n",
       "      <th>UNEMP_96</th>\n",
       "      <th>N_ENTR</th>\n",
       "      <th>CRIME_95</th>\n",
       "      <th>CRIME_96</th>\n",
       "    </tr>\n",
       "  </thead>\n",
       "  <tbody>\n",
       "    <tr>\n",
       "      <th>68</th>\n",
       "      <td>69</td>\n",
       "      <td>42821</td>\n",
       "      <td>3</td>\n",
       "      <td>48.4</td>\n",
       "      <td>8173</td>\n",
       "      <td>?</td>\n",
       "      <td>7.01</td>\n",
       "      <td>124</td>\n",
       "      <td>?</td>\n",
       "      <td>1358</td>\n",
       "    </tr>\n",
       "  </tbody>\n",
       "</table>\n",
       "</div>"
      ],
      "text/plain": [
       "    DISTRICT_ID  N_INHAB  N_CITIES  URBAN_RATIO  AVG_SALARY UNEMP_95  \\\n",
       "68           69    42821         3         48.4        8173        ?   \n",
       "\n",
       "    UNEMP_96  N_ENTR CRIME_95  CRIME_96  \n",
       "68      7.01     124        ?      1358  "
      ]
     },
     "execution_count": 60,
     "metadata": {},
     "output_type": "execute_result"
    }
   ],
   "source": [
    "districts[districts['UNEMP_95'] == '?']"
   ]
  },
  {
   "cell_type": "code",
   "execution_count": 61,
   "metadata": {},
   "outputs": [
    {
     "data": {
      "text/html": [
       "<div>\n",
       "<style scoped>\n",
       "    .dataframe tbody tr th:only-of-type {\n",
       "        vertical-align: middle;\n",
       "    }\n",
       "\n",
       "    .dataframe tbody tr th {\n",
       "        vertical-align: top;\n",
       "    }\n",
       "\n",
       "    .dataframe thead th {\n",
       "        text-align: right;\n",
       "    }\n",
       "</style>\n",
       "<table border=\"1\" class=\"dataframe\">\n",
       "  <thead>\n",
       "    <tr style=\"text-align: right;\">\n",
       "      <th></th>\n",
       "      <th>DISTRICT_ID</th>\n",
       "      <th>N_INHAB</th>\n",
       "      <th>N_CITIES</th>\n",
       "      <th>URBAN_RATIO</th>\n",
       "      <th>AVG_SALARY</th>\n",
       "      <th>UNEMP_95</th>\n",
       "      <th>UNEMP_96</th>\n",
       "      <th>N_ENTR</th>\n",
       "      <th>CRIME_95</th>\n",
       "      <th>CRIME_96</th>\n",
       "    </tr>\n",
       "  </thead>\n",
       "  <tbody>\n",
       "    <tr>\n",
       "      <th>68</th>\n",
       "      <td>69</td>\n",
       "      <td>42821</td>\n",
       "      <td>3</td>\n",
       "      <td>48.4</td>\n",
       "      <td>8173</td>\n",
       "      <td>?</td>\n",
       "      <td>7.01</td>\n",
       "      <td>124</td>\n",
       "      <td>?</td>\n",
       "      <td>1358</td>\n",
       "    </tr>\n",
       "  </tbody>\n",
       "</table>\n",
       "</div>"
      ],
      "text/plain": [
       "    DISTRICT_ID  N_INHAB  N_CITIES  URBAN_RATIO  AVG_SALARY UNEMP_95  \\\n",
       "68           69    42821         3         48.4        8173        ?   \n",
       "\n",
       "    UNEMP_96  N_ENTR CRIME_95  CRIME_96  \n",
       "68      7.01     124        ?      1358  "
      ]
     },
     "execution_count": 61,
     "metadata": {},
     "output_type": "execute_result"
    }
   ],
   "source": [
    "districts[districts['CRIME_95'] == '?']"
   ]
  },
  {
   "cell_type": "markdown",
   "metadata": {},
   "source": [
    "It's the same row in both column. It's the column with 'DISTRICT_ID' = 69."
   ]
  },
  {
   "cell_type": "markdown",
   "metadata": {},
   "source": [
    "We don't want to remove this row as this would break consistency among the table. If we ever wanted to join tables using 'DISTRICT_ID' key, we would be missing some relationships. Instead, we are are going to use avarage change in unemployment and crime between 1995 and 1996 for similar records and update the missing values using the mean. By similar we understand records who have close values in the following columns: 'N_INHAB', 'URBAN_RATION', 'AVG_SALARY', 'UNEMP_96' and 'CRIME_96'. This is going to be partially manual process, we will filter the data using only one column and try to fit to a subset of districts which look similar. Not very scientific but good enough for just one record."
   ]
  },
  {
   "cell_type": "code",
   "execution_count": 62,
   "metadata": {},
   "outputs": [
    {
     "data": {
      "text/html": [
       "<div>\n",
       "<style scoped>\n",
       "    .dataframe tbody tr th:only-of-type {\n",
       "        vertical-align: middle;\n",
       "    }\n",
       "\n",
       "    .dataframe tbody tr th {\n",
       "        vertical-align: top;\n",
       "    }\n",
       "\n",
       "    .dataframe thead th {\n",
       "        text-align: right;\n",
       "    }\n",
       "</style>\n",
       "<table border=\"1\" class=\"dataframe\">\n",
       "  <thead>\n",
       "    <tr style=\"text-align: right;\">\n",
       "      <th></th>\n",
       "      <th>DISTRICT_ID</th>\n",
       "      <th>N_INHAB</th>\n",
       "      <th>N_CITIES</th>\n",
       "      <th>URBAN_RATIO</th>\n",
       "      <th>AVG_SALARY</th>\n",
       "      <th>UNEMP_95</th>\n",
       "      <th>UNEMP_96</th>\n",
       "      <th>N_ENTR</th>\n",
       "      <th>CRIME_95</th>\n",
       "      <th>CRIME_96</th>\n",
       "    </tr>\n",
       "  </thead>\n",
       "  <tbody>\n",
       "    <tr>\n",
       "      <th>68</th>\n",
       "      <td>69</td>\n",
       "      <td>42821</td>\n",
       "      <td>3</td>\n",
       "      <td>48.4</td>\n",
       "      <td>8173</td>\n",
       "      <td>?</td>\n",
       "      <td>7.01</td>\n",
       "      <td>124</td>\n",
       "      <td>?</td>\n",
       "      <td>1358</td>\n",
       "    </tr>\n",
       "  </tbody>\n",
       "</table>\n",
       "</div>"
      ],
      "text/plain": [
       "    DISTRICT_ID  N_INHAB  N_CITIES  URBAN_RATIO  AVG_SALARY UNEMP_95  \\\n",
       "68           69    42821         3         48.4        8173        ?   \n",
       "\n",
       "    UNEMP_96  N_ENTR CRIME_95  CRIME_96  \n",
       "68      7.01     124        ?      1358  "
      ]
     },
     "execution_count": 62,
     "metadata": {},
     "output_type": "execute_result"
    }
   ],
   "source": [
    "districts[districts['DISTRICT_ID'] == 69]"
   ]
  },
  {
   "cell_type": "code",
   "execution_count": 63,
   "metadata": {},
   "outputs": [],
   "source": [
    "similar_districts = districts[(districts['AVG_SALARY'] > 8000) & (districts['AVG_SALARY'] < 8300)]"
   ]
  },
  {
   "cell_type": "code",
   "execution_count": 64,
   "metadata": {},
   "outputs": [],
   "source": [
    "similar_districts = similar_districts[similar_districts['DISTRICT_ID'] != 69]"
   ]
  },
  {
   "cell_type": "code",
   "execution_count": 65,
   "metadata": {},
   "outputs": [
    {
     "data": {
      "text/html": [
       "<div>\n",
       "<style scoped>\n",
       "    .dataframe tbody tr th:only-of-type {\n",
       "        vertical-align: middle;\n",
       "    }\n",
       "\n",
       "    .dataframe tbody tr th {\n",
       "        vertical-align: top;\n",
       "    }\n",
       "\n",
       "    .dataframe thead th {\n",
       "        text-align: right;\n",
       "    }\n",
       "</style>\n",
       "<table border=\"1\" class=\"dataframe\">\n",
       "  <thead>\n",
       "    <tr style=\"text-align: right;\">\n",
       "      <th></th>\n",
       "      <th>DISTRICT_ID</th>\n",
       "      <th>N_INHAB</th>\n",
       "      <th>N_CITIES</th>\n",
       "      <th>URBAN_RATIO</th>\n",
       "      <th>AVG_SALARY</th>\n",
       "      <th>UNEMP_95</th>\n",
       "      <th>UNEMP_96</th>\n",
       "      <th>N_ENTR</th>\n",
       "      <th>CRIME_95</th>\n",
       "      <th>CRIME_96</th>\n",
       "    </tr>\n",
       "  </thead>\n",
       "  <tbody>\n",
       "    <tr>\n",
       "      <th>16</th>\n",
       "      <td>17</td>\n",
       "      <td>74062</td>\n",
       "      <td>7</td>\n",
       "      <td>61.4</td>\n",
       "      <td>8114</td>\n",
       "      <td>2.38</td>\n",
       "      <td>2.62</td>\n",
       "      <td>119</td>\n",
       "      <td>1003</td>\n",
       "      <td>1181</td>\n",
       "    </tr>\n",
       "    <tr>\n",
       "      <th>43</th>\n",
       "      <td>44</td>\n",
       "      <td>105606</td>\n",
       "      <td>7</td>\n",
       "      <td>53.0</td>\n",
       "      <td>8254</td>\n",
       "      <td>2.79</td>\n",
       "      <td>3.76</td>\n",
       "      <td>97</td>\n",
       "      <td>2166</td>\n",
       "      <td>2325</td>\n",
       "    </tr>\n",
       "    <tr>\n",
       "      <th>48</th>\n",
       "      <td>49</td>\n",
       "      <td>75685</td>\n",
       "      <td>9</td>\n",
       "      <td>60.8</td>\n",
       "      <td>8208</td>\n",
       "      <td>1.89</td>\n",
       "      <td>2.26</td>\n",
       "      <td>155</td>\n",
       "      <td>1660</td>\n",
       "      <td>2123</td>\n",
       "    </tr>\n",
       "    <tr>\n",
       "      <th>49</th>\n",
       "      <td>50</td>\n",
       "      <td>102609</td>\n",
       "      <td>6</td>\n",
       "      <td>52.0</td>\n",
       "      <td>8187</td>\n",
       "      <td>4.83</td>\n",
       "      <td>5.45</td>\n",
       "      <td>94</td>\n",
       "      <td>2123</td>\n",
       "      <td>2134</td>\n",
       "    </tr>\n",
       "    <tr>\n",
       "      <th>52</th>\n",
       "      <td>53</td>\n",
       "      <td>107911</td>\n",
       "      <td>7</td>\n",
       "      <td>50.9</td>\n",
       "      <td>8240</td>\n",
       "      <td>2.53</td>\n",
       "      <td>3.56</td>\n",
       "      <td>99</td>\n",
       "      <td>1850</td>\n",
       "      <td>1903</td>\n",
       "    </tr>\n",
       "    <tr>\n",
       "      <th>62</th>\n",
       "      <td>63</td>\n",
       "      <td>86513</td>\n",
       "      <td>5</td>\n",
       "      <td>50.5</td>\n",
       "      <td>8288</td>\n",
       "      <td>3.79</td>\n",
       "      <td>4.52</td>\n",
       "      <td>110</td>\n",
       "      <td>1562</td>\n",
       "      <td>1460</td>\n",
       "    </tr>\n",
       "    <tr>\n",
       "      <th>66</th>\n",
       "      <td>67</td>\n",
       "      <td>106054</td>\n",
       "      <td>6</td>\n",
       "      <td>63.1</td>\n",
       "      <td>8110</td>\n",
       "      <td>5.77</td>\n",
       "      <td>6.55</td>\n",
       "      <td>109</td>\n",
       "      <td>3244</td>\n",
       "      <td>3079</td>\n",
       "    </tr>\n",
       "  </tbody>\n",
       "</table>\n",
       "</div>"
      ],
      "text/plain": [
       "    DISTRICT_ID  N_INHAB  N_CITIES  URBAN_RATIO  AVG_SALARY UNEMP_95  \\\n",
       "16           17    74062         7         61.4        8114     2.38   \n",
       "43           44   105606         7         53.0        8254     2.79   \n",
       "48           49    75685         9         60.8        8208     1.89   \n",
       "49           50   102609         6         52.0        8187     4.83   \n",
       "52           53   107911         7         50.9        8240     2.53   \n",
       "62           63    86513         5         50.5        8288     3.79   \n",
       "66           67   106054         6         63.1        8110     5.77   \n",
       "\n",
       "    UNEMP_96  N_ENTR CRIME_95  CRIME_96  \n",
       "16      2.62     119     1003      1181  \n",
       "43      3.76      97     2166      2325  \n",
       "48      2.26     155     1660      2123  \n",
       "49      5.45      94     2123      2134  \n",
       "52      3.56      99     1850      1903  \n",
       "62      4.52     110     1562      1460  \n",
       "66      6.55     109     3244      3079  "
      ]
     },
     "execution_count": 65,
     "metadata": {},
     "output_type": "execute_result"
    }
   ],
   "source": [
    "similar_districts.head(50)"
   ]
  },
  {
   "cell_type": "markdown",
   "metadata": {},
   "source": [
    "We will use this subset to calculate the average change of employment between 1995 and 1996."
   ]
  },
  {
   "cell_type": "markdown",
   "metadata": {},
   "source": [
    "#### BROKEN UNEMPLOYMENT VALUE UPDATE"
   ]
  },
  {
   "cell_type": "code",
   "execution_count": 66,
   "metadata": {},
   "outputs": [],
   "source": [
    "similar_districts['unemp_change'] = similar_districts['UNEMP_96'] - similar_districts['UNEMP_95'].astype('float')"
   ]
  },
  {
   "cell_type": "code",
   "execution_count": 67,
   "metadata": {},
   "outputs": [],
   "source": [
    "mean_unemp_change = similar_districts['unemp_change'].mean()"
   ]
  },
  {
   "cell_type": "markdown",
   "metadata": {},
   "source": [
    "We are going to update `DISTRICT_ID` 69, which is represented by Index 68 in the `districts` table"
   ]
  },
  {
   "cell_type": "code",
   "execution_count": 68,
   "metadata": {},
   "outputs": [],
   "source": [
    "districts.at[68, 'UNEMP_95'] = districts.iloc[68]['UNEMP_96'] - mean_unemp_change"
   ]
  },
  {
   "cell_type": "markdown",
   "metadata": {},
   "source": [
    "We are also going to update data type for the full column"
   ]
  },
  {
   "cell_type": "code",
   "execution_count": 69,
   "metadata": {},
   "outputs": [],
   "source": [
    "districts['UNEMP_95'] = districts['UNEMP_95'].astype('float')"
   ]
  },
  {
   "cell_type": "code",
   "execution_count": 70,
   "metadata": {},
   "outputs": [
    {
     "data": {
      "text/plain": [
       "DISTRICT_ID          69\n",
       "N_INHAB           42821\n",
       "N_CITIES              3\n",
       "URBAN_RATIO        48.4\n",
       "AVG_SALARY         8173\n",
       "UNEMP_95       6.332857\n",
       "UNEMP_96           7.01\n",
       "N_ENTR              124\n",
       "CRIME_95              ?\n",
       "CRIME_96           1358\n",
       "Name: 68, dtype: object"
      ]
     },
     "execution_count": 70,
     "metadata": {},
     "output_type": "execute_result"
    }
   ],
   "source": [
    "districts.iloc[68]"
   ]
  },
  {
   "cell_type": "markdown",
   "metadata": {},
   "source": [
    "And repeat the process for `CRIME_95` column"
   ]
  },
  {
   "cell_type": "markdown",
   "metadata": {},
   "source": [
    "#### **CRIME VALUE UPDATE**"
   ]
  },
  {
   "cell_type": "code",
   "execution_count": 71,
   "metadata": {},
   "outputs": [],
   "source": [
    "similar_districts['crime_change'] = similar_districts['CRIME_96'] - similar_districts['CRIME_95'].astype('float')"
   ]
  },
  {
   "cell_type": "code",
   "execution_count": 72,
   "metadata": {},
   "outputs": [],
   "source": [
    "mean_crime_change = similar_districts['crime_change'].mean()"
   ]
  },
  {
   "cell_type": "code",
   "execution_count": 73,
   "metadata": {},
   "outputs": [],
   "source": [
    "districts.at[68, 'CRIME_95'] = districts.iloc[68]['CRIME_96'] - mean_crime_change"
   ]
  },
  {
   "cell_type": "code",
   "execution_count": 74,
   "metadata": {},
   "outputs": [],
   "source": [
    "districts['CRIME_95'] = districts['CRIME_95'].astype('int64')"
   ]
  },
  {
   "cell_type": "code",
   "execution_count": 75,
   "metadata": {},
   "outputs": [
    {
     "data": {
      "text/plain": [
       "DISTRICT_ID       69.000000\n",
       "N_INHAB        42821.000000\n",
       "N_CITIES           3.000000\n",
       "URBAN_RATIO       48.400000\n",
       "AVG_SALARY      8173.000000\n",
       "UNEMP_95           6.332857\n",
       "UNEMP_96           7.010000\n",
       "N_ENTR           124.000000\n",
       "CRIME_95        1272.000000\n",
       "CRIME_96        1358.000000\n",
       "Name: 68, dtype: float64"
      ]
     },
     "execution_count": 75,
     "metadata": {},
     "output_type": "execute_result"
    }
   ],
   "source": [
    "districts.iloc[68]"
   ]
  },
  {
   "cell_type": "markdown",
   "metadata": {},
   "source": [
    "And finally, check all columns for outliers again."
   ]
  },
  {
   "cell_type": "code",
   "execution_count": 76,
   "metadata": {},
   "outputs": [
    {
     "data": {
      "text/plain": [
       "{'DISTRICT_ID': [{'max': 77}, {'min': 1}],\n",
       " 'N_INHAB': [{'max': 1204953}, {'min': 42821}],\n",
       " 'N_CITIES': [{'max': 11}, {'min': 1}],\n",
       " 'URBAN_RATIO': [{'max': 100.0}, {'min': 33.9}],\n",
       " 'AVG_SALARY': [{'max': 12541}, {'min': 8110}],\n",
       " 'UNEMP_95': [{'max': 7.34}, {'min': 0.29}],\n",
       " 'UNEMP_96': [{'max': 9.4}, {'min': 0.43}],\n",
       " 'N_ENTR': [{'max': 167}, {'min': 81}],\n",
       " 'CRIME_95': [{'max': 85677}, {'min': 818}],\n",
       " 'CRIME_96': [{'max': 99107}, {'min': 888}]}"
      ]
     },
     "execution_count": 76,
     "metadata": {},
     "output_type": "execute_result"
    }
   ],
   "source": [
    "check_outliers(districts)"
   ]
  },
  {
   "cell_type": "markdown",
   "metadata": {},
   "source": [
    "## Data Analysis"
   ]
  },
  {
   "cell_type": "markdown",
   "metadata": {},
   "source": [
    "In the 'Data Analysis' part I'm going to focus on the CRIME aspect of the data. We will seek to answer following questions:\n",
    "- which districts have the highest crime rate?\n",
    "- can available data tell us something about the reasons for increased crime in particular districts?\n",
    "- can available data falsify any of the commonly held beliefs about reasons for increased crime?\n",
    "- any potential future action points to acquire deeper understanding of crime factors"
   ]
  },
  {
   "cell_type": "markdown",
   "metadata": {},
   "source": [
    "#### WHAT ARE THE TOP 3 DISTRICTS WITH THE HIGHEST CRIME INCIDENTS IN 1995 AND 1996?"
   ]
  },
  {
   "cell_type": "code",
   "execution_count": 77,
   "metadata": {},
   "outputs": [
    {
     "ename": "ImportError",
     "evalue": "Missing optional dependency 'Jinja2'. DataFrame.style requires jinja2. Use pip or conda to install Jinja2.",
     "output_type": "error",
     "traceback": [
      "\u001b[1;31m---------------------------------------------------------------------------\u001b[0m",
      "\u001b[1;31mModuleNotFoundError\u001b[0m                       Traceback (most recent call last)",
      "File \u001b[1;32mc:\\Users\\Bartosz\\anaconda3\\envs\\data_analyst\\Lib\\site-packages\\pandas\\compat\\_optional.py:141\u001b[0m, in \u001b[0;36mimport_optional_dependency\u001b[1;34m(name, extra, errors, min_version)\u001b[0m\n\u001b[0;32m    140\u001b[0m \u001b[39mtry\u001b[39;00m:\n\u001b[1;32m--> 141\u001b[0m     module \u001b[39m=\u001b[39m importlib\u001b[39m.\u001b[39;49mimport_module(name)\n\u001b[0;32m    142\u001b[0m \u001b[39mexcept\u001b[39;00m \u001b[39mImportError\u001b[39;00m:\n",
      "File \u001b[1;32mc:\\Users\\Bartosz\\anaconda3\\envs\\data_analyst\\Lib\\importlib\\__init__.py:126\u001b[0m, in \u001b[0;36mimport_module\u001b[1;34m(name, package)\u001b[0m\n\u001b[0;32m    125\u001b[0m         level \u001b[39m+\u001b[39m\u001b[39m=\u001b[39m \u001b[39m1\u001b[39m\n\u001b[1;32m--> 126\u001b[0m \u001b[39mreturn\u001b[39;00m _bootstrap\u001b[39m.\u001b[39;49m_gcd_import(name[level:], package, level)\n",
      "File \u001b[1;32m<frozen importlib._bootstrap>:1206\u001b[0m, in \u001b[0;36m_gcd_import\u001b[1;34m(name, package, level)\u001b[0m\n",
      "File \u001b[1;32m<frozen importlib._bootstrap>:1178\u001b[0m, in \u001b[0;36m_find_and_load\u001b[1;34m(name, import_)\u001b[0m\n",
      "File \u001b[1;32m<frozen importlib._bootstrap>:1142\u001b[0m, in \u001b[0;36m_find_and_load_unlocked\u001b[1;34m(name, import_)\u001b[0m\n",
      "\u001b[1;31mModuleNotFoundError\u001b[0m: No module named 'jinja2'",
      "\nDuring handling of the above exception, another exception occurred:\n",
      "\u001b[1;31mImportError\u001b[0m                               Traceback (most recent call last)",
      "Cell \u001b[1;32mIn[77], line 1\u001b[0m\n\u001b[1;32m----> 1\u001b[0m districts[[\u001b[39m'\u001b[39;49m\u001b[39mDISTRICT_ID\u001b[39;49m\u001b[39m'\u001b[39;49m, \u001b[39m'\u001b[39;49m\u001b[39mCRIME_95\u001b[39;49m\u001b[39m'\u001b[39;49m]]\u001b[39m.\u001b[39;49msort_values(by\u001b[39m=\u001b[39;49m\u001b[39m'\u001b[39;49m\u001b[39mCRIME_95\u001b[39;49m\u001b[39m'\u001b[39;49m, ascending\u001b[39m=\u001b[39;49m\u001b[39mFalse\u001b[39;49;00m)\u001b[39m.\u001b[39;49mhead(\u001b[39m3\u001b[39;49m)\u001b[39m.\u001b[39;49mstyle\u001b[39m.\u001b[39mhide(axis\u001b[39m=\u001b[39m\u001b[39m'\u001b[39m\u001b[39mindex\u001b[39m\u001b[39m'\u001b[39m)\n",
      "File \u001b[1;32mc:\\Users\\Bartosz\\anaconda3\\envs\\data_analyst\\Lib\\site-packages\\pandas\\core\\frame.py:1265\u001b[0m, in \u001b[0;36mDataFrame.style\u001b[1;34m(self)\u001b[0m\n\u001b[0;32m   1253\u001b[0m \u001b[39m@property\u001b[39m\n\u001b[0;32m   1254\u001b[0m \u001b[39mdef\u001b[39;00m \u001b[39mstyle\u001b[39m(\u001b[39mself\u001b[39m) \u001b[39m-\u001b[39m\u001b[39m>\u001b[39m Styler:\n\u001b[0;32m   1255\u001b[0m \u001b[39m    \u001b[39m\u001b[39m\"\"\"\u001b[39;00m\n\u001b[0;32m   1256\u001b[0m \u001b[39m    Returns a Styler object.\u001b[39;00m\n\u001b[0;32m   1257\u001b[0m \n\u001b[1;32m   (...)\u001b[0m\n\u001b[0;32m   1263\u001b[0m \u001b[39m        data with HTML and CSS.\u001b[39;00m\n\u001b[0;32m   1264\u001b[0m \u001b[39m    \"\"\"\u001b[39;00m\n\u001b[1;32m-> 1265\u001b[0m     \u001b[39mfrom\u001b[39;00m \u001b[39mpandas\u001b[39;00m\u001b[39m.\u001b[39;00m\u001b[39mio\u001b[39;00m\u001b[39m.\u001b[39;00m\u001b[39mformats\u001b[39;00m\u001b[39m.\u001b[39;00m\u001b[39mstyle\u001b[39;00m \u001b[39mimport\u001b[39;00m Styler\n\u001b[0;32m   1267\u001b[0m     \u001b[39mreturn\u001b[39;00m Styler(\u001b[39mself\u001b[39m)\n",
      "File \u001b[1;32mc:\\Users\\Bartosz\\anaconda3\\envs\\data_analyst\\Lib\\site-packages\\pandas\\io\\formats\\style.py:56\u001b[0m\n\u001b[0;32m     52\u001b[0m \u001b[39mfrom\u001b[39;00m \u001b[39mpandas\u001b[39;00m\u001b[39m.\u001b[39;00m\u001b[39mcore\u001b[39;00m\u001b[39m.\u001b[39;00m\u001b[39mshared_docs\u001b[39;00m \u001b[39mimport\u001b[39;00m _shared_docs\n\u001b[0;32m     54\u001b[0m \u001b[39mfrom\u001b[39;00m \u001b[39mpandas\u001b[39;00m\u001b[39m.\u001b[39;00m\u001b[39mio\u001b[39;00m\u001b[39m.\u001b[39;00m\u001b[39mformats\u001b[39;00m\u001b[39m.\u001b[39;00m\u001b[39mformat\u001b[39;00m \u001b[39mimport\u001b[39;00m save_to_buffer\n\u001b[1;32m---> 56\u001b[0m jinja2 \u001b[39m=\u001b[39m import_optional_dependency(\u001b[39m\"\u001b[39;49m\u001b[39mjinja2\u001b[39;49m\u001b[39m\"\u001b[39;49m, extra\u001b[39m=\u001b[39;49m\u001b[39m\"\u001b[39;49m\u001b[39mDataFrame.style requires jinja2.\u001b[39;49m\u001b[39m\"\u001b[39;49m)\n\u001b[0;32m     58\u001b[0m \u001b[39mfrom\u001b[39;00m \u001b[39mpandas\u001b[39;00m\u001b[39m.\u001b[39;00m\u001b[39mio\u001b[39;00m\u001b[39m.\u001b[39;00m\u001b[39mformats\u001b[39;00m\u001b[39m.\u001b[39;00m\u001b[39mstyle_render\u001b[39;00m \u001b[39mimport\u001b[39;00m (\n\u001b[0;32m     59\u001b[0m     CSSProperties,\n\u001b[0;32m     60\u001b[0m     CSSStyles,\n\u001b[1;32m   (...)\u001b[0m\n\u001b[0;32m     68\u001b[0m     refactor_levels,\n\u001b[0;32m     69\u001b[0m )\n\u001b[0;32m     71\u001b[0m \u001b[39mtry\u001b[39;00m:\n",
      "File \u001b[1;32mc:\\Users\\Bartosz\\anaconda3\\envs\\data_analyst\\Lib\\site-packages\\pandas\\compat\\_optional.py:144\u001b[0m, in \u001b[0;36mimport_optional_dependency\u001b[1;34m(name, extra, errors, min_version)\u001b[0m\n\u001b[0;32m    142\u001b[0m \u001b[39mexcept\u001b[39;00m \u001b[39mImportError\u001b[39;00m:\n\u001b[0;32m    143\u001b[0m     \u001b[39mif\u001b[39;00m errors \u001b[39m==\u001b[39m \u001b[39m\"\u001b[39m\u001b[39mraise\u001b[39m\u001b[39m\"\u001b[39m:\n\u001b[1;32m--> 144\u001b[0m         \u001b[39mraise\u001b[39;00m \u001b[39mImportError\u001b[39;00m(msg)\n\u001b[0;32m    145\u001b[0m     \u001b[39melse\u001b[39;00m:\n\u001b[0;32m    146\u001b[0m         \u001b[39mreturn\u001b[39;00m \u001b[39mNone\u001b[39;00m\n",
      "\u001b[1;31mImportError\u001b[0m: Missing optional dependency 'Jinja2'. DataFrame.style requires jinja2. Use pip or conda to install Jinja2."
     ]
    }
   ],
   "source": [
    "districts[['DISTRICT_ID', 'CRIME_95']].sort_values(by='CRIME_95', ascending=False).head(3).style.hide(axis='index')"
   ]
  },
  {
   "cell_type": "code",
   "execution_count": null,
   "metadata": {},
   "outputs": [
    {
     "data": {
      "text/html": [
       "<style type=\"text/css\">\n",
       "</style>\n",
       "<table id=\"T_1e33e\">\n",
       "  <thead>\n",
       "    <tr>\n",
       "      <th id=\"T_1e33e_level0_col0\" class=\"col_heading level0 col0\" >DISTRICT_ID</th>\n",
       "      <th id=\"T_1e33e_level0_col1\" class=\"col_heading level0 col1\" >CRIME_96</th>\n",
       "    </tr>\n",
       "  </thead>\n",
       "  <tbody>\n",
       "    <tr>\n",
       "      <td id=\"T_1e33e_row0_col0\" class=\"data row0 col0\" >1</td>\n",
       "      <td id=\"T_1e33e_row0_col1\" class=\"data row0 col1\" >99107</td>\n",
       "    </tr>\n",
       "    <tr>\n",
       "      <td id=\"T_1e33e_row1_col0\" class=\"data row1 col0\" >54</td>\n",
       "      <td id=\"T_1e33e_row1_col1\" class=\"data row1 col1\" >18696</td>\n",
       "    </tr>\n",
       "    <tr>\n",
       "      <td id=\"T_1e33e_row2_col0\" class=\"data row2 col0\" >74</td>\n",
       "      <td id=\"T_1e33e_row2_col1\" class=\"data row2 col1\" >18347</td>\n",
       "    </tr>\n",
       "  </tbody>\n",
       "</table>\n"
      ],
      "text/plain": [
       "<pandas.io.formats.style.Styler at 0x1ff15721310>"
      ]
     },
     "execution_count": 77,
     "metadata": {},
     "output_type": "execute_result"
    }
   ],
   "source": [
    "districts[['DISTRICT_ID', 'CRIME_96']].sort_values(by='CRIME_96', ascending=False).head(3).style.hide(axis='index')"
   ]
  },
  {
   "cell_type": "markdown",
   "metadata": {},
   "source": [
    "The top 3 spots have been taken by the same three districts: 1, 54 and 74 in both years."
   ]
  },
  {
   "cell_type": "markdown",
   "metadata": {},
   "source": [
    "Nominal values don't tell the whole story thought. In order to get a better perspective, we match up crime incidents with number of citizens living the a district and call it 'crime ratio'."
   ]
  },
  {
   "cell_type": "code",
   "execution_count": null,
   "metadata": {},
   "outputs": [],
   "source": [
    "districts['CRIME_RATIO95'] = districts['CRIME_95'] / districts['N_INHAB']\n",
    "districts['CRIME_RATIO96'] = districts['CRIME_96'] / districts['N_INHAB']"
   ]
  },
  {
   "cell_type": "code",
   "execution_count": null,
   "metadata": {
    "scrolled": true
   },
   "outputs": [
    {
     "data": {
      "text/html": [
       "<style type=\"text/css\">\n",
       "</style>\n",
       "<table id=\"T_46620\">\n",
       "  <thead>\n",
       "    <tr>\n",
       "      <th class=\"blank level0\" >&nbsp;</th>\n",
       "      <th id=\"T_46620_level0_col0\" class=\"col_heading level0 col0\" >DISTRICT_ID</th>\n",
       "      <th id=\"T_46620_level0_col1\" class=\"col_heading level0 col1\" >N_INHAB</th>\n",
       "      <th id=\"T_46620_level0_col2\" class=\"col_heading level0 col2\" >N_CITIES</th>\n",
       "      <th id=\"T_46620_level0_col3\" class=\"col_heading level0 col3\" >URBAN_RATIO</th>\n",
       "      <th id=\"T_46620_level0_col4\" class=\"col_heading level0 col4\" >AVG_SALARY</th>\n",
       "      <th id=\"T_46620_level0_col5\" class=\"col_heading level0 col5\" >UNEMP_95</th>\n",
       "      <th id=\"T_46620_level0_col6\" class=\"col_heading level0 col6\" >UNEMP_96</th>\n",
       "      <th id=\"T_46620_level0_col7\" class=\"col_heading level0 col7\" >N_ENTR</th>\n",
       "      <th id=\"T_46620_level0_col8\" class=\"col_heading level0 col8\" >CRIME_95</th>\n",
       "      <th id=\"T_46620_level0_col9\" class=\"col_heading level0 col9\" >CRIME_96</th>\n",
       "      <th id=\"T_46620_level0_col10\" class=\"col_heading level0 col10\" >CRIME_RATIO95</th>\n",
       "      <th id=\"T_46620_level0_col11\" class=\"col_heading level0 col11\" >CRIME_RATIO96</th>\n",
       "    </tr>\n",
       "  </thead>\n",
       "  <tbody>\n",
       "    <tr>\n",
       "      <th id=\"T_46620_level0_row0\" class=\"row_heading level0 row0\" >0</th>\n",
       "      <td id=\"T_46620_row0_col0\" class=\"data row0 col0\" >1</td>\n",
       "      <td id=\"T_46620_row0_col1\" class=\"data row0 col1\" >1204953</td>\n",
       "      <td id=\"T_46620_row0_col2\" class=\"data row0 col2\" >1</td>\n",
       "      <td id=\"T_46620_row0_col3\" class=\"data row0 col3\" >100.000000</td>\n",
       "      <td id=\"T_46620_row0_col4\" class=\"data row0 col4\" >12541</td>\n",
       "      <td id=\"T_46620_row0_col5\" class=\"data row0 col5\" >0.290000</td>\n",
       "      <td id=\"T_46620_row0_col6\" class=\"data row0 col6\" >0.430000</td>\n",
       "      <td id=\"T_46620_row0_col7\" class=\"data row0 col7\" >167</td>\n",
       "      <td id=\"T_46620_row0_col8\" class=\"data row0 col8\" >85677</td>\n",
       "      <td id=\"T_46620_row0_col9\" class=\"data row0 col9\" >99107</td>\n",
       "      <td id=\"T_46620_row0_col10\" class=\"data row0 col10\" >7.11%</td>\n",
       "      <td id=\"T_46620_row0_col11\" class=\"data row0 col11\" >8.22%</td>\n",
       "    </tr>\n",
       "    <tr>\n",
       "      <th id=\"T_46620_level0_row1\" class=\"row_heading level0 row1\" >73</th>\n",
       "      <td id=\"T_46620_row1_col0\" class=\"data row1 col0\" >74</td>\n",
       "      <td id=\"T_46620_row1_col1\" class=\"data row1 col1\" >323870</td>\n",
       "      <td id=\"T_46620_row1_col2\" class=\"data row1 col2\" >1</td>\n",
       "      <td id=\"T_46620_row1_col3\" class=\"data row1 col3\" >100.000000</td>\n",
       "      <td id=\"T_46620_row1_col4\" class=\"data row1 col4\" >10673</td>\n",
       "      <td id=\"T_46620_row1_col5\" class=\"data row1 col5\" >4.750000</td>\n",
       "      <td id=\"T_46620_row1_col6\" class=\"data row1 col6\" >5.440000</td>\n",
       "      <td id=\"T_46620_row1_col7\" class=\"data row1 col7\" >100</td>\n",
       "      <td id=\"T_46620_row1_col8\" class=\"data row1 col8\" >18782</td>\n",
       "      <td id=\"T_46620_row1_col9\" class=\"data row1 col9\" >18347</td>\n",
       "      <td id=\"T_46620_row1_col10\" class=\"data row1 col10\" >5.80%</td>\n",
       "      <td id=\"T_46620_row1_col11\" class=\"data row1 col11\" >5.66%</td>\n",
       "    </tr>\n",
       "    <tr>\n",
       "      <th id=\"T_46620_level0_row2\" class=\"row_heading level0 row2\" >40</th>\n",
       "      <td id=\"T_46620_row2_col0\" class=\"data row2 col0\" >41</td>\n",
       "      <td id=\"T_46620_row2_col1\" class=\"data row2 col1\" >118650</td>\n",
       "      <td id=\"T_46620_row2_col2\" class=\"data row2 col2\" >3</td>\n",
       "      <td id=\"T_46620_row2_col3\" class=\"data row2 col3\" >85.600000</td>\n",
       "      <td id=\"T_46620_row2_col4\" class=\"data row2 col4\" >9832</td>\n",
       "      <td id=\"T_46620_row2_col5\" class=\"data row2 col5\" >3.320000</td>\n",
       "      <td id=\"T_46620_row2_col6\" class=\"data row2 col6\" >4.480000</td>\n",
       "      <td id=\"T_46620_row2_col7\" class=\"data row2 col7\" >114</td>\n",
       "      <td id=\"T_46620_row2_col8\" class=\"data row2 col8\" >6445</td>\n",
       "      <td id=\"T_46620_row2_col9\" class=\"data row2 col9\" >5471</td>\n",
       "      <td id=\"T_46620_row2_col10\" class=\"data row2 col10\" >5.43%</td>\n",
       "      <td id=\"T_46620_row2_col11\" class=\"data row2 col11\" >4.61%</td>\n",
       "    </tr>\n",
       "    <tr>\n",
       "      <th id=\"T_46620_level0_row3\" class=\"row_heading level0 row3\" >39</th>\n",
       "      <td id=\"T_46620_row3_col0\" class=\"data row3 col0\" >40</td>\n",
       "      <td id=\"T_46620_row3_col1\" class=\"data row3 col1\" >128118</td>\n",
       "      <td id=\"T_46620_row3_col2\" class=\"data row3 col2\" >8</td>\n",
       "      <td id=\"T_46620_row3_col3\" class=\"data row3 col3\" >85.300000</td>\n",
       "      <td id=\"T_46620_row3_col4\" class=\"data row3 col4\" >9317</td>\n",
       "      <td id=\"T_46620_row3_col5\" class=\"data row3 col5\" >6.490000</td>\n",
       "      <td id=\"T_46620_row3_col6\" class=\"data row3 col6\" >7.070000</td>\n",
       "      <td id=\"T_46620_row3_col7\" class=\"data row3 col7\" >97</td>\n",
       "      <td id=\"T_46620_row3_col8\" class=\"data row3 col8\" >6949</td>\n",
       "      <td id=\"T_46620_row3_col9\" class=\"data row3 col9\" >6872</td>\n",
       "      <td id=\"T_46620_row3_col10\" class=\"data row3 col10\" >5.42%</td>\n",
       "      <td id=\"T_46620_row3_col11\" class=\"data row3 col11\" >5.36%</td>\n",
       "    </tr>\n",
       "    <tr>\n",
       "      <th id=\"T_46620_level0_row4\" class=\"row_heading level0 row4\" >53</th>\n",
       "      <td id=\"T_46620_row4_col0\" class=\"data row4 col0\" >54</td>\n",
       "      <td id=\"T_46620_row4_col1\" class=\"data row4 col1\" >387570</td>\n",
       "      <td id=\"T_46620_row4_col2\" class=\"data row4 col2\" >1</td>\n",
       "      <td id=\"T_46620_row4_col3\" class=\"data row4 col3\" >100.000000</td>\n",
       "      <td id=\"T_46620_row4_col4\" class=\"data row4 col4\" >9897</td>\n",
       "      <td id=\"T_46620_row4_col5\" class=\"data row4 col5\" >1.600000</td>\n",
       "      <td id=\"T_46620_row4_col6\" class=\"data row4 col6\" >1.960000</td>\n",
       "      <td id=\"T_46620_row4_col7\" class=\"data row4 col7\" >140</td>\n",
       "      <td id=\"T_46620_row4_col8\" class=\"data row4 col8\" >18721</td>\n",
       "      <td id=\"T_46620_row4_col9\" class=\"data row4 col9\" >18696</td>\n",
       "      <td id=\"T_46620_row4_col10\" class=\"data row4 col10\" >4.83%</td>\n",
       "      <td id=\"T_46620_row4_col11\" class=\"data row4 col11\" >4.82%</td>\n",
       "    </tr>\n",
       "  </tbody>\n",
       "</table>\n"
      ],
      "text/plain": [
       "<pandas.io.formats.style.Styler at 0x1ff15735d60>"
      ]
     },
     "execution_count": 79,
     "metadata": {},
     "output_type": "execute_result"
    }
   ],
   "source": [
    "districts.sort_values(by='CRIME_RATIO95', ascending=False).head(5).style.format({'CRIME_RATIO95': '{:,.2%}'.format, 'CRIME_RATIO96': '{:,.2%}'.format})"
   ]
  },
  {
   "cell_type": "markdown",
   "metadata": {},
   "source": [
    "When looking at the crime ratio, District 54 dropped of the podium to the fifth place, so we we will take the top 5 further."
   ]
  },
  {
   "cell_type": "markdown",
   "metadata": {},
   "source": [
    "There are few things which are pretty apparent on the first glance:\n",
    "- all districts with highest crime have high population and are highly urbanized (80-100% range)\n",
    "- unemployment seems to have little impact on the crime rate, districts with crime rate are districts in the low, medium and high enemployment categories nationwide\n",
    "- higher average salary also seems to correlate with crime rate as all five districts have higher than average average salary (9031)"
   ]
  },
  {
   "cell_type": "code",
   "execution_count": null,
   "metadata": {},
   "outputs": [
    {
     "data": {
      "text/plain": [
       "9031.675324675325"
      ]
     },
     "execution_count": 80,
     "metadata": {},
     "output_type": "execute_result"
    }
   ],
   "source": [
    "districts['AVG_SALARY'].mean()"
   ]
  },
  {
   "cell_type": "markdown",
   "metadata": {},
   "source": [
    "We will later see that these findings are confirmed by the correlation charts."
   ]
  },
  {
   "cell_type": "markdown",
   "metadata": {},
   "source": [
    "#### **CORRELATION CHARTS/SCATTERPLOTS**"
   ]
  },
  {
   "cell_type": "code",
   "execution_count": null,
   "metadata": {},
   "outputs": [],
   "source": [
    "part_merge = pd.merge(transactions, customers, on='ACCOUNT_ID')"
   ]
  },
  {
   "cell_type": "code",
   "execution_count": null,
   "metadata": {},
   "outputs": [],
   "source": [
    "full_merge = pd.merge(part_merge, districts, on='DISTRICT_ID')"
   ]
  },
  {
   "cell_type": "markdown",
   "metadata": {},
   "source": [
    "#### UNEMPLOYMENT RATE"
   ]
  },
  {
   "cell_type": "markdown",
   "metadata": {},
   "source": [
    "This is the most suprising/counter-intuitive finding of the analysis. It seems there is no linear-ascending relation between crime and unemployment. What's even more suprising, a district with the LOWEST UNEMPLOYMENT RATE has the HIGHEST CRIME RATE among districts."
   ]
  },
  {
   "cell_type": "code",
   "execution_count": null,
   "metadata": {},
   "outputs": [
    {
     "data": {
      "text/plain": [
       "<AxesSubplot: xlabel='UNEMP_95', ylabel='CRIME_RATIO95'>"
      ]
     },
     "execution_count": 83,
     "metadata": {},
     "output_type": "execute_result"
    },
    {
     "data": {
      "image/png": "[encoded data removed]",
      "text/plain": [
       "<Figure size 640x480 with 1 Axes>"
      ]
     },
     "metadata": {},
     "output_type": "display_data"
    }
   ],
   "source": [
    "sns.scatterplot(data=full_merge, x='UNEMP_95', y='CRIME_RATIO95')"
   ]
  },
  {
   "cell_type": "code",
   "execution_count": null,
   "metadata": {},
   "outputs": [],
   "source": [
    "#sns.lmplot(data=full_merge, x='UNEMP_95', y='CRIME_RATIO95')"
   ]
  },
  {
   "cell_type": "markdown",
   "metadata": {},
   "source": [
    "#### NUMBER OF INHABITANTS"
   ]
  },
  {
   "cell_type": "markdown",
   "metadata": {},
   "source": [
    "Linear relation is pretty apparent on the charts. The more inhabitants in a district, the higher the crime rate."
   ]
  },
  {
   "cell_type": "code",
   "execution_count": null,
   "metadata": {},
   "outputs": [
    {
     "data": {
      "text/plain": [
       "<AxesSubplot: xlabel='N_INHAB', ylabel='CRIME_RATIO95'>"
      ]
     },
     "execution_count": 85,
     "metadata": {},
     "output_type": "execute_result"
    },
    {
     "data": {
      "image/png": "[encoded data removed]",
      "text/plain": [
       "<Figure size 640x480 with 1 Axes>"
      ]
     },
     "metadata": {},
     "output_type": "display_data"
    }
   ],
   "source": [
    "sns.scatterplot(data=full_merge[full_merge['DISTRICT_ID'] != 1], x='N_INHAB', y='CRIME_RATIO95')"
   ]
  },
  {
   "cell_type": "code",
   "execution_count": null,
   "metadata": {},
   "outputs": [],
   "source": [
    "#sns.lmplot(data=full_merge, x='N_INHAB', y='CRIME_RATIO95')"
   ]
  },
  {
   "cell_type": "markdown",
   "metadata": {},
   "source": [
    "#### NUMBER OF CITIES"
   ]
  },
  {
   "cell_type": "markdown",
   "metadata": {},
   "source": [
    "The charts are showing descending linear relation between number of cities and crime rate. It seems that the population density may influence that. Usually, a higher number of cities in a district means that the same number of people is more spread out. Larger number of cities with lower per city population correlates with a lower crime rate."
   ]
  },
  {
   "cell_type": "code",
   "execution_count": null,
   "metadata": {},
   "outputs": [
    {
     "data": {
      "text/plain": [
       "<AxesSubplot: xlabel='N_CITIES', ylabel='CRIME_RATIO95'>"
      ]
     },
     "execution_count": 87,
     "metadata": {},
     "output_type": "execute_result"
    },
    {
     "data": {
      "image/png": "[encoded data removed]",
      "text/plain": [
       "<Figure size 640x480 with 1 Axes>"
      ]
     },
     "metadata": {},
     "output_type": "display_data"
    }
   ],
   "source": [
    "sns.scatterplot(data=full_merge, x='N_CITIES', y='CRIME_RATIO95')"
   ]
  },
  {
   "cell_type": "code",
   "execution_count": null,
   "metadata": {},
   "outputs": [],
   "source": [
    "#sns.lmplot(data=full_merge, x='N_CITIES', y='CRIME_RATIO95')"
   ]
  },
  {
   "cell_type": "markdown",
   "metadata": {},
   "source": [
    "#### AVERAGE SALARY\n",
    "\n"
   ]
  },
  {
   "cell_type": "markdown",
   "metadata": {},
   "source": [
    "This the highlight chart of the analysis as the linear relation is the most visible. The higher average salary in the district, the higher the crime rate."
   ]
  },
  {
   "cell_type": "code",
   "execution_count": null,
   "metadata": {},
   "outputs": [
    {
     "data": {
      "text/plain": [
       "<AxesSubplot: xlabel='AVG_SALARY', ylabel='CRIME_RATIO95'>"
      ]
     },
     "execution_count": 89,
     "metadata": {},
     "output_type": "execute_result"
    },
    {
     "data": {
      "image/png": "[encoded data removed]",
      "text/plain": [
       "<Figure size 640x480 with 1 Axes>"
      ]
     },
     "metadata": {},
     "output_type": "display_data"
    }
   ],
   "source": [
    "sns.scatterplot(data=full_merge, x='AVG_SALARY', y='CRIME_RATIO95')"
   ]
  },
  {
   "cell_type": "code",
   "execution_count": null,
   "metadata": {},
   "outputs": [],
   "source": [
    "#sns.lmplot(data=full_merge, x='AVG_SALARY', y='CRIME_RATIO95')"
   ]
  },
  {
   "cell_type": "markdown",
   "metadata": {},
   "source": [
    "#### URBAN RATIO"
   ]
  },
  {
   "cell_type": "markdown",
   "metadata": {},
   "source": [
    "Urban ratio can be understood as the opposite of number of cities. The higher the urbanization ratio, the higher concentration of population are living in the city, as opposed to the countryside. We can see that high urbanization rate is positively correlated with the crime rate."
   ]
  },
  {
   "cell_type": "code",
   "execution_count": null,
   "metadata": {},
   "outputs": [
    {
     "data": {
      "text/plain": [
       "<AxesSubplot: xlabel='URBAN_RATIO', ylabel='CRIME_RATIO95'>"
      ]
     },
     "execution_count": 91,
     "metadata": {},
     "output_type": "execute_result"
    },
    {
     "data": {
      "image/png": "[encoded data removed]",
      "text/plain": [
       "<Figure size 640x480 with 1 Axes>"
      ]
     },
     "metadata": {},
     "output_type": "display_data"
    }
   ],
   "source": [
    "sns.scatterplot(data=full_merge, x='URBAN_RATIO', y='CRIME_RATIO95')"
   ]
  },
  {
   "cell_type": "code",
   "execution_count": null,
   "metadata": {},
   "outputs": [],
   "source": [
    "#sns.lmplot(data=full_merge, x='URBAN_RATIO', y='CRIME_RATIO95')"
   ]
  },
  {
   "cell_type": "markdown",
   "metadata": {},
   "source": [
    "FINDINGS SUMMARY"
   ]
  },
  {
   "cell_type": "markdown",
   "metadata": {},
   "source": [
    "- district with highest crime ratio (nr of crime incidents / districts population) is District 1, most likely Stockholm\n",
    "- high crime ratio is correlated with high population, high population density and high average salary\n",
    "- contrary to common intuition, there is no correlation between crime rate and unemployment rate"
   ]
  },
  {
   "cell_type": "markdown",
   "metadata": {},
   "source": [
    "## Logistic Regression"
   ]
  },
  {
   "cell_type": "markdown",
   "metadata": {},
   "source": [
    "In this part, we are going to use logistic regression to try to predict whethere a customer has or hasn't got a loan with a bank. We are going to combine all three tables together and make sure that each column which was included in the merged table can be used by the logistic regression model."
   ]
  },
  {
   "cell_type": "markdown",
   "metadata": {},
   "source": [
    "#### MERGE CUSTOMERS AND DISTRICTS TABLE"
   ]
  },
  {
   "cell_type": "code",
   "execution_count": null,
   "metadata": {},
   "outputs": [],
   "source": [
    "lr_part_merge = pd.merge(customers, districts, on='DISTRICT_ID')"
   ]
  },
  {
   "cell_type": "markdown",
   "metadata": {},
   "source": [
    "#### ONE MORE FEATURE"
   ]
  },
  {
   "cell_type": "markdown",
   "metadata": {},
   "source": [
    "To make data from `transactions` usable in the model, I will calculate the average balance accross all transaction per customer and add it to the data set."
   ]
  },
  {
   "cell_type": "code",
   "execution_count": null,
   "metadata": {},
   "outputs": [],
   "source": [
    "mean_balance = transactions.groupby('ACCOUNT_ID').mean()"
   ]
  },
  {
   "cell_type": "code",
   "execution_count": null,
   "metadata": {},
   "outputs": [],
   "source": [
    "lr_full_merge = pd.merge(lr_part_merge, mean_balance, on='ACCOUNT_ID')"
   ]
  },
  {
   "cell_type": "markdown",
   "metadata": {},
   "source": [
    "#### FILTER OUT ALL COLUMNS WHICH CAN'T BE USEFUL IN THE MODEL"
   ]
  },
  {
   "cell_type": "code",
   "execution_count": null,
   "metadata": {},
   "outputs": [],
   "source": [
    "lr_ready = lr_full_merge[['GENDER', 'LOAN', 'age', 'N_INHAB', 'N_CITIES', 'URBAN_RATIO', 'AVG_SALARY', 'UNEMP_95', 'UNEMP_96', 'N_ENTR', 'CRIME_95', 'CRIME_96', 'CRIME_RATIO95', 'CRIME_RATIO96', 'BALANCE', 'SET_SPLIT']]"
   ]
  },
  {
   "cell_type": "markdown",
   "metadata": {},
   "source": [
    "#### CONVERT CATEGORICAL DATA TO NUMERICAL"
   ]
  },
  {
   "cell_type": "code",
   "execution_count": null,
   "metadata": {},
   "outputs": [
    {
     "name": "stderr",
     "output_type": "stream",
     "text": [
      "C:\\Users\\Bartosz\\AppData\\Local\\Temp\\ipykernel_22752\\1391706578.py:1: SettingWithCopyWarning: \n",
      "A value is trying to be set on a copy of a slice from a DataFrame.\n",
      "Try using .loc[row_indexer,col_indexer] = value instead\n",
      "\n",
      "See the caveats in the documentation: https://pandas.pydata.org/pandas-docs/stable/user_guide/indexing.html#returning-a-view-versus-a-copy\n",
      "  lr_ready['GENDER'] = lr_ready['GENDER'].map({'M': 1, 'F': 0})\n"
     ]
    }
   ],
   "source": [
    "lr_ready['GENDER'] = lr_ready['GENDER'].map({'M': 1, 'F': 0})"
   ]
  },
  {
   "cell_type": "code",
   "execution_count": null,
   "metadata": {},
   "outputs": [],
   "source": [
    "#log_full_merge_for_log = log_full_merge_for_log.loc[:, log_full_merge_for_log.columns != 'DISTRICT_ID']"
   ]
  },
  {
   "cell_type": "markdown",
   "metadata": {},
   "source": [
    "#### SPLIT DATA TO X AND Y VALUES"
   ]
  },
  {
   "cell_type": "code",
   "execution_count": null,
   "metadata": {},
   "outputs": [],
   "source": [
    "X = lr_ready[['GENDER', 'age', 'N_INHAB', 'N_CITIES', 'URBAN_RATIO', 'AVG_SALARY', 'UNEMP_95', 'UNEMP_96', 'N_ENTR', 'CRIME_95', 'CRIME_96', 'CRIME_RATIO95', 'CRIME_RATIO96', 'BALANCE']]\n",
    "y = lr_ready['LOAN']"
   ]
  },
  {
   "cell_type": "markdown",
   "metadata": {},
   "source": [
    "#### SPLIT DATA X AND Y SETS INTO TRAIN AND TEST SETS"
   ]
  },
  {
   "cell_type": "code",
   "execution_count": null,
   "metadata": {},
   "outputs": [],
   "source": [
    "X_train = lr_ready[lr_ready['SET_SPLIT'] == 'TRAIN'].drop(['SET_SPLIT', 'LOAN'], axis=1)\n",
    "X_test = lr_ready[lr_ready['SET_SPLIT'] == 'TEST'].drop(['SET_SPLIT','LOAN'], axis=1)\n",
    "y_train = lr_ready[lr_ready['SET_SPLIT'] == 'TRAIN']['LOAN']\n",
    "y_test = lr_ready[lr_ready['SET_SPLIT'] == 'TEST']['LOAN']"
   ]
  },
  {
   "cell_type": "markdown",
   "metadata": {},
   "source": [
    "#### TRAIN THE MODEL"
   ]
  },
  {
   "cell_type": "code",
   "execution_count": null,
   "metadata": {},
   "outputs": [
    {
     "data": {
      "text/html": [
       "<style>#sk-container-id-1 {color: black;background-color: white;}#sk-container-id-1 pre{padding: 0;}#sk-container-id-1 div.sk-toggleable {background-color: white;}#sk-container-id-1 label.sk-toggleable__label {cursor: pointer;display: block;width: 100%;margin-bottom: 0;padding: 0.3em;box-sizing: border-box;text-align: center;}#sk-container-id-1 label.sk-toggleable__label-arrow:before {content: \"▸\";float: left;margin-right: 0.25em;color: #696969;}#sk-container-id-1 label.sk-toggleable__label-arrow:hover:before {color: black;}#sk-container-id-1 div.sk-estimator:hover label.sk-toggleable__label-arrow:before {color: black;}#sk-container-id-1 div.sk-toggleable__content {max-height: 0;max-width: 0;overflow: hidden;text-align: left;background-color: #f0f8ff;}#sk-container-id-1 div.sk-toggleable__content pre {margin: 0.2em;color: black;border-radius: 0.25em;background-color: #f0f8ff;}#sk-container-id-1 input.sk-toggleable__control:checked~div.sk-toggleable__content {max-height: 200px;max-width: 100%;overflow: auto;}#sk-container-id-1 input.sk-toggleable__control:checked~label.sk-toggleable__label-arrow:before {content: \"▾\";}#sk-container-id-1 div.sk-estimator input.sk-toggleable__control:checked~label.sk-toggleable__label {background-color: #d4ebff;}#sk-container-id-1 div.sk-label input.sk-toggleable__control:checked~label.sk-toggleable__label {background-color: #d4ebff;}#sk-container-id-1 input.sk-hidden--visually {border: 0;clip: rect(1px 1px 1px 1px);clip: rect(1px, 1px, 1px, 1px);height: 1px;margin: -1px;overflow: hidden;padding: 0;position: absolute;width: 1px;}#sk-container-id-1 div.sk-estimator {font-family: monospace;background-color: #f0f8ff;border: 1px dotted black;border-radius: 0.25em;box-sizing: border-box;margin-bottom: 0.5em;}#sk-container-id-1 div.sk-estimator:hover {background-color: #d4ebff;}#sk-container-id-1 div.sk-parallel-item::after {content: \"\";width: 100%;border-bottom: 1px solid gray;flex-grow: 1;}#sk-container-id-1 div.sk-label:hover label.sk-toggleable__label {background-color: #d4ebff;}#sk-container-id-1 div.sk-serial::before {content: \"\";position: absolute;border-left: 1px solid gray;box-sizing: border-box;top: 0;bottom: 0;left: 50%;z-index: 0;}#sk-container-id-1 div.sk-serial {display: flex;flex-direction: column;align-items: center;background-color: white;padding-right: 0.2em;padding-left: 0.2em;position: relative;}#sk-container-id-1 div.sk-item {position: relative;z-index: 1;}#sk-container-id-1 div.sk-parallel {display: flex;align-items: stretch;justify-content: center;background-color: white;position: relative;}#sk-container-id-1 div.sk-item::before, #sk-container-id-1 div.sk-parallel-item::before {content: \"\";position: absolute;border-left: 1px solid gray;box-sizing: border-box;top: 0;bottom: 0;left: 50%;z-index: -1;}#sk-container-id-1 div.sk-parallel-item {display: flex;flex-direction: column;z-index: 1;position: relative;background-color: white;}#sk-container-id-1 div.sk-parallel-item:first-child::after {align-self: flex-end;width: 50%;}#sk-container-id-1 div.sk-parallel-item:last-child::after {align-self: flex-start;width: 50%;}#sk-container-id-1 div.sk-parallel-item:only-child::after {width: 0;}#sk-container-id-1 div.sk-dashed-wrapped {border: 1px dashed gray;margin: 0 0.4em 0.5em 0.4em;box-sizing: border-box;padding-bottom: 0.4em;background-color: white;}#sk-container-id-1 div.sk-label label {font-family: monospace;font-weight: bold;display: inline-block;line-height: 1.2em;}#sk-container-id-1 div.sk-label-container {text-align: center;}#sk-container-id-1 div.sk-container {/* jupyter's `normalize.less` sets `[hidden] { display: none; }` but bootstrap.min.css set `[hidden] { display: none !important; }` so we also need the `!important` here to be able to override the default hidden behavior on the sphinx rendered scikit-learn.org. See: https://github.com/scikit-learn/scikit-learn/issues/21755 */display: inline-block !important;position: relative;}#sk-container-id-1 div.sk-text-repr-fallback {display: none;}</style><div id=\"sk-container-id-1\" class=\"sk-top-container\"><div class=\"sk-text-repr-fallback\"><pre>LogisticRegression()</pre><b>In a Jupyter environment, please rerun this cell to show the HTML representation or trust the notebook. <br />On GitHub, the HTML representation is unable to render, please try loading this page with nbviewer.org.</b></div><div class=\"sk-container\" hidden><div class=\"sk-item\"><div class=\"sk-estimator sk-toggleable\"><input class=\"sk-toggleable__control sk-hidden--visually\" id=\"sk-estimator-id-1\" type=\"checkbox\" checked><label for=\"sk-estimator-id-1\" class=\"sk-toggleable__label sk-toggleable__label-arrow\">LogisticRegression</label><div class=\"sk-toggleable__content\"><pre>LogisticRegression()</pre></div></div></div></div></div>"
      ],
      "text/plain": [
       "LogisticRegression()"
      ]
     },
     "execution_count": 102,
     "metadata": {},
     "output_type": "execute_result"
    }
   ],
   "source": [
    "logmodel = LogisticRegression()\n",
    "logmodel.fit(X_train,y_train)"
   ]
  },
  {
   "cell_type": "markdown",
   "metadata": {},
   "source": [
    "#### PREDICTIONS AND EVALUATIONS"
   ]
  },
  {
   "cell_type": "code",
   "execution_count": null,
   "metadata": {},
   "outputs": [],
   "source": [
    "predictions = logmodel.predict(X_test)"
   ]
  },
  {
   "cell_type": "code",
   "execution_count": null,
   "metadata": {},
   "outputs": [],
   "source": [
    "from sklearn.metrics import classification_report, confusion_matrix"
   ]
  },
  {
   "cell_type": "code",
   "execution_count": null,
   "metadata": {},
   "outputs": [
    {
     "name": "stdout",
     "output_type": "stream",
     "text": [
      "              precision    recall  f1-score   support\n",
      "\n",
      "           0       0.85      1.00      0.92       758\n",
      "           1       1.00      0.01      0.02       131\n",
      "\n",
      "    accuracy                           0.85       889\n",
      "   macro avg       0.93      0.50      0.47       889\n",
      "weighted avg       0.88      0.85      0.79       889\n",
      "\n"
     ]
    }
   ],
   "source": [
    "print(classification_report(y_test,predictions))"
   ]
  },
  {
   "cell_type": "code",
   "execution_count": null,
   "metadata": {},
   "outputs": [
    {
     "data": {
      "text/plain": [
       "array([[758,   0],\n",
       "       [130,   1]], dtype=int64)"
      ]
     },
     "execution_count": 125,
     "metadata": {},
     "output_type": "execute_result"
    }
   ],
   "source": [
    "confusion_matrix(y_test, predictions)"
   ]
  },
  {
   "cell_type": "markdown",
   "metadata": {},
   "source": [
    "#### CONCLUSIONS"
   ]
  },
  {
   "cell_type": "markdown",
   "metadata": {},
   "source": [
    "Train data set is disbalanced (85% '0' vs 15% '1'). Logistic regression don't perform well with disbalanced sets, which is apparent in the recall for 1s. Only 1% of true negatives were predicted (model marked almost all items as '0'). Possible improvements for the model include: use resampling methods (undersample 'no loans' set or oversample the 'loans' set). Another recommendation is to use algorithms which perform better on unbalanced sets like Support Vector Machine or Random Forest."
   ]
  }
 ],
 "metadata": {
  "kernelspec": {
   "display_name": "Python 3 (ipykernel)",
   "language": "python",
   "name": "python3"
  },
  "language_info": {
   "codemirror_mode": {
    "name": "ipython",
    "version": 3
   },
   "file_extension": ".py",
   "mimetype": "text/x-python",
   "name": "python",
   "nbconvert_exporter": "python",
   "pygments_lexer": "ipython3",
   "version": "3.11.0"
  }
 },
 "nbformat": 4,
 "nbformat_minor": 1
}
