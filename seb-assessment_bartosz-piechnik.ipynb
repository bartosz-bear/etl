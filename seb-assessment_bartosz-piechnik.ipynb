{
 "cells": [
  {
   "attachments": {},
   "cell_type": "markdown",
   "metadata": {},
   "source": [
    "___\n",
    "# ETL - Financial Data Clean-Up Script"
   ]
  },
  {
   "cell_type": "code",
   "execution_count": 276,
   "metadata": {},
   "outputs": [],
   "source": [
    "import pandas as pd\n",
    "import numpy as np\n",
    "\n",
    "from datetime import date, timedelta\n",
    "\n",
    "import warnings\n",
    "warnings.filterwarnings('ignore')\n",
    "\n",
    "%matplotlib inline"
   ]
  },
  {
   "cell_type": "markdown",
   "metadata": {
    "collapsed": true
   },
   "source": [
    "## Read Data"
   ]
  },
  {
   "cell_type": "code",
   "execution_count": 277,
   "metadata": {},
   "outputs": [],
   "source": [
    "clients = pd.read_csv('clients.csv')\n",
    "transfers = pd.read_csv('transfers.csv')\n",
    "counties = pd.read_csv('counties.csv')"
   ]
  },
  {
   "cell_type": "markdown",
   "metadata": {},
   "source": [
    "## Data Exploration"
   ]
  },
  {
   "attachments": {},
   "cell_type": "markdown",
   "metadata": {},
   "source": [
    "### clients Summary"
   ]
  },
  {
   "cell_type": "code",
   "execution_count": 278,
   "metadata": {},
   "outputs": [
    {
     "data": {
      "text/html": [
       "<div>\n",
       "<style scoped>\n",
       "    .dataframe tbody tr th:only-of-type {\n",
       "        vertical-align: middle;\n",
       "    }\n",
       "\n",
       "    .dataframe tbody tr th {\n",
       "        vertical-align: top;\n",
       "    }\n",
       "\n",
       "    .dataframe thead th {\n",
       "        text-align: right;\n",
       "    }\n",
       "</style>\n",
       "<table border=\"1\" class=\"dataframe\">\n",
       "  <thead>\n",
       "    <tr style=\"text-align: right;\">\n",
       "      <th></th>\n",
       "      <th>CLIENT_ID</th>\n",
       "      <th>ACCOUNT_ID</th>\n",
       "      <th>GENDER</th>\n",
       "      <th>BIRTH_DT</th>\n",
       "      <th>ACTIVE</th>\n",
       "      <th>LOAN</th>\n",
       "      <th>DISTRICT_ID</th>\n",
       "      <th>SET_SPLIT</th>\n",
       "    </tr>\n",
       "  </thead>\n",
       "  <tbody>\n",
       "    <tr>\n",
       "      <th>0</th>\n",
       "      <td>1</td>\n",
       "      <td>1</td>\n",
       "      <td>F</td>\n",
       "      <td>19701213</td>\n",
       "      <td>1</td>\n",
       "      <td>0.0</td>\n",
       "      <td>18</td>\n",
       "      <td>TRAIN</td>\n",
       "    </tr>\n",
       "    <tr>\n",
       "      <th>1</th>\n",
       "      <td>2</td>\n",
       "      <td>2</td>\n",
       "      <td>M</td>\n",
       "      <td>19450204</td>\n",
       "      <td>1</td>\n",
       "      <td>1.0</td>\n",
       "      <td>1</td>\n",
       "      <td>TRAIN</td>\n",
       "    </tr>\n",
       "    <tr>\n",
       "      <th>2</th>\n",
       "      <td>4</td>\n",
       "      <td>3</td>\n",
       "      <td>M</td>\n",
       "      <td>19561201</td>\n",
       "      <td>1</td>\n",
       "      <td>0.0</td>\n",
       "      <td>5</td>\n",
       "      <td>TEST</td>\n",
       "    </tr>\n",
       "    <tr>\n",
       "      <th>3</th>\n",
       "      <td>7</td>\n",
       "      <td>5</td>\n",
       "      <td>M</td>\n",
       "      <td>19290125</td>\n",
       "      <td>1</td>\n",
       "      <td>0.0</td>\n",
       "      <td>15</td>\n",
       "      <td>TRAIN</td>\n",
       "    </tr>\n",
       "    <tr>\n",
       "      <th>4</th>\n",
       "      <td>8</td>\n",
       "      <td>6</td>\n",
       "      <td>F</td>\n",
       "      <td>19380221</td>\n",
       "      <td>1</td>\n",
       "      <td>0.0</td>\n",
       "      <td>51</td>\n",
       "      <td>TRAIN</td>\n",
       "    </tr>\n",
       "  </tbody>\n",
       "</table>\n",
       "</div>"
      ],
      "text/plain": [
       "   CLIENT_ID  ACCOUNT_ID GENDER  BIRTH_DT  ACTIVE  LOAN  DISTRICT_ID SET_SPLIT\n",
       "0          1           1      F  19701213       1   0.0           18     TRAIN\n",
       "1          2           2      M  19450204       1   1.0            1     TRAIN\n",
       "2          4           3      M  19561201       1   0.0            5      TEST\n",
       "3          7           5      M  19290125       1   0.0           15     TRAIN\n",
       "4          8           6      F  19380221       1   0.0           51     TRAIN"
      ]
     },
     "execution_count": 278,
     "metadata": {},
     "output_type": "execute_result"
    }
   ],
   "source": [
    "clients.head()"
   ]
  },
  {
   "cell_type": "code",
   "execution_count": 279,
   "metadata": {},
   "outputs": [
    {
     "name": "stdout",
     "output_type": "stream",
     "text": [
      "<class 'pandas.core.frame.DataFrame'>\n",
      "RangeIndex: 4450 entries, 0 to 4449\n",
      "Data columns (total 8 columns):\n",
      " #   Column       Non-Null Count  Dtype  \n",
      "---  ------       --------------  -----  \n",
      " 0   CLIENT_ID    4450 non-null   int64  \n",
      " 1   ACCOUNT_ID   4450 non-null   int64  \n",
      " 2   GENDER       4450 non-null   object \n",
      " 3   BIRTH_DT     4450 non-null   int64  \n",
      " 4   ACTIVE       4450 non-null   int64  \n",
      " 5   LOAN         4400 non-null   float64\n",
      " 6   DISTRICT_ID  4450 non-null   int64  \n",
      " 7   SET_SPLIT    4450 non-null   object \n",
      "dtypes: float64(1), int64(5), object(2)\n",
      "memory usage: 278.2+ KB\n"
     ]
    }
   ],
   "source": [
    "clients.info()"
   ]
  },
  {
   "attachments": {},
   "cell_type": "markdown",
   "metadata": {},
   "source": [
    "### transfers Summary"
   ]
  },
  {
   "cell_type": "code",
   "execution_count": 280,
   "metadata": {},
   "outputs": [
    {
     "data": {
      "text/html": [
       "<div>\n",
       "<style scoped>\n",
       "    .dataframe tbody tr th:only-of-type {\n",
       "        vertical-align: middle;\n",
       "    }\n",
       "\n",
       "    .dataframe tbody tr th {\n",
       "        vertical-align: top;\n",
       "    }\n",
       "\n",
       "    .dataframe thead th {\n",
       "        text-align: right;\n",
       "    }\n",
       "</style>\n",
       "<table border=\"1\" class=\"dataframe\">\n",
       "  <thead>\n",
       "    <tr style=\"text-align: right;\">\n",
       "      <th></th>\n",
       "      <th>TRANS_ID</th>\n",
       "      <th>ACCOUNT_ID</th>\n",
       "      <th>DATE</th>\n",
       "      <th>AMOUNT</th>\n",
       "      <th>BALANCE</th>\n",
       "      <th>TYPE</th>\n",
       "      <th>OPERATION</th>\n",
       "    </tr>\n",
       "  </thead>\n",
       "  <tbody>\n",
       "    <tr>\n",
       "      <th>0</th>\n",
       "      <td>695247</td>\n",
       "      <td>2378.0</td>\n",
       "      <td>1011993</td>\n",
       "      <td>700.0</td>\n",
       "      <td>700.0</td>\n",
       "      <td>CREDIT</td>\n",
       "      <td>CREDIT_IN_CASH</td>\n",
       "    </tr>\n",
       "    <tr>\n",
       "      <th>1</th>\n",
       "      <td>171812</td>\n",
       "      <td>576.0</td>\n",
       "      <td>1011993</td>\n",
       "      <td>900.0</td>\n",
       "      <td>900.0</td>\n",
       "      <td>CREDIT</td>\n",
       "      <td>CREDIT_IN_CASH</td>\n",
       "    </tr>\n",
       "    <tr>\n",
       "      <th>2</th>\n",
       "      <td>207264</td>\n",
       "      <td>704.0</td>\n",
       "      <td>1011993</td>\n",
       "      <td>1000.0</td>\n",
       "      <td>1000.0</td>\n",
       "      <td>CREDIT</td>\n",
       "      <td>CREDIT_IN_CASH</td>\n",
       "    </tr>\n",
       "    <tr>\n",
       "      <th>3</th>\n",
       "      <td>1117247</td>\n",
       "      <td>3818.0</td>\n",
       "      <td>1011993</td>\n",
       "      <td>600.0</td>\n",
       "      <td>600.0</td>\n",
       "      <td>CREDIT</td>\n",
       "      <td>CREDIT_IN_CASH</td>\n",
       "    </tr>\n",
       "    <tr>\n",
       "      <th>4</th>\n",
       "      <td>579373</td>\n",
       "      <td>1972.0</td>\n",
       "      <td>2011993</td>\n",
       "      <td>400.0</td>\n",
       "      <td>400.0</td>\n",
       "      <td>CREDIT</td>\n",
       "      <td>CREDIT_IN_CASH</td>\n",
       "    </tr>\n",
       "  </tbody>\n",
       "</table>\n",
       "</div>"
      ],
      "text/plain": [
       "   TRANS_ID  ACCOUNT_ID     DATE  AMOUNT  BALANCE    TYPE       OPERATION\n",
       "0    695247      2378.0  1011993   700.0    700.0  CREDIT  CREDIT_IN_CASH\n",
       "1    171812       576.0  1011993   900.0    900.0  CREDIT  CREDIT_IN_CASH\n",
       "2    207264       704.0  1011993  1000.0   1000.0  CREDIT  CREDIT_IN_CASH\n",
       "3   1117247      3818.0  1011993   600.0    600.0  CREDIT  CREDIT_IN_CASH\n",
       "4    579373      1972.0  2011993   400.0    400.0  CREDIT  CREDIT_IN_CASH"
      ]
     },
     "execution_count": 280,
     "metadata": {},
     "output_type": "execute_result"
    }
   ],
   "source": [
    "transfers.head()"
   ]
  },
  {
   "cell_type": "code",
   "execution_count": 281,
   "metadata": {},
   "outputs": [
    {
     "name": "stdout",
     "output_type": "stream",
     "text": [
      "<class 'pandas.core.frame.DataFrame'>\n",
      "RangeIndex: 1066320 entries, 0 to 1066319\n",
      "Data columns (total 7 columns):\n",
      " #   Column      Non-Null Count    Dtype  \n",
      "---  ------      --------------    -----  \n",
      " 0   TRANS_ID    1066320 non-null  int64  \n",
      " 1   ACCOUNT_ID  1061320 non-null  float64\n",
      " 2   DATE        1066320 non-null  int64  \n",
      " 3   AMOUNT      1066320 non-null  float64\n",
      " 4   BALANCE     1066320 non-null  float64\n",
      " 5   TYPE        1066320 non-null  object \n",
      " 6   OPERATION   881436 non-null   object \n",
      "dtypes: float64(3), int64(2), object(2)\n",
      "memory usage: 56.9+ MB\n"
     ]
    }
   ],
   "source": [
    "transfers.info()"
   ]
  },
  {
   "attachments": {},
   "cell_type": "markdown",
   "metadata": {},
   "source": [
    "### counties Summary"
   ]
  },
  {
   "cell_type": "code",
   "execution_count": 282,
   "metadata": {},
   "outputs": [
    {
     "data": {
      "text/html": [
       "<div>\n",
       "<style scoped>\n",
       "    .dataframe tbody tr th:only-of-type {\n",
       "        vertical-align: middle;\n",
       "    }\n",
       "\n",
       "    .dataframe tbody tr th {\n",
       "        vertical-align: top;\n",
       "    }\n",
       "\n",
       "    .dataframe thead th {\n",
       "        text-align: right;\n",
       "    }\n",
       "</style>\n",
       "<table border=\"1\" class=\"dataframe\">\n",
       "  <thead>\n",
       "    <tr style=\"text-align: right;\">\n",
       "      <th></th>\n",
       "      <th>DISTRICT_ID</th>\n",
       "      <th>N_INHAB</th>\n",
       "      <th>N_CITIES</th>\n",
       "      <th>URBAN_RATIO</th>\n",
       "      <th>AVG_SALARY</th>\n",
       "      <th>UNEMP_95</th>\n",
       "      <th>UNEMP_96</th>\n",
       "      <th>N_ENTR</th>\n",
       "      <th>CRIME_95</th>\n",
       "      <th>CRIME_96</th>\n",
       "    </tr>\n",
       "  </thead>\n",
       "  <tbody>\n",
       "    <tr>\n",
       "      <th>0</th>\n",
       "      <td>1</td>\n",
       "      <td>1204953</td>\n",
       "      <td>1</td>\n",
       "      <td>100.0</td>\n",
       "      <td>12541</td>\n",
       "      <td>0.29</td>\n",
       "      <td>0.43</td>\n",
       "      <td>167</td>\n",
       "      <td>85677</td>\n",
       "      <td>99107</td>\n",
       "    </tr>\n",
       "    <tr>\n",
       "      <th>1</th>\n",
       "      <td>2</td>\n",
       "      <td>88884</td>\n",
       "      <td>5</td>\n",
       "      <td>46.7</td>\n",
       "      <td>8507</td>\n",
       "      <td>1.67</td>\n",
       "      <td>1.85</td>\n",
       "      <td>132</td>\n",
       "      <td>2159</td>\n",
       "      <td>2674</td>\n",
       "    </tr>\n",
       "    <tr>\n",
       "      <th>2</th>\n",
       "      <td>3</td>\n",
       "      <td>75232</td>\n",
       "      <td>5</td>\n",
       "      <td>41.7</td>\n",
       "      <td>8980</td>\n",
       "      <td>1.95</td>\n",
       "      <td>2.21</td>\n",
       "      <td>111</td>\n",
       "      <td>2824</td>\n",
       "      <td>2813</td>\n",
       "    </tr>\n",
       "    <tr>\n",
       "      <th>3</th>\n",
       "      <td>4</td>\n",
       "      <td>149893</td>\n",
       "      <td>6</td>\n",
       "      <td>67.4</td>\n",
       "      <td>9753</td>\n",
       "      <td>4.64</td>\n",
       "      <td>5.05</td>\n",
       "      <td>109</td>\n",
       "      <td>5244</td>\n",
       "      <td>5892</td>\n",
       "    </tr>\n",
       "    <tr>\n",
       "      <th>4</th>\n",
       "      <td>5</td>\n",
       "      <td>95616</td>\n",
       "      <td>6</td>\n",
       "      <td>51.4</td>\n",
       "      <td>9307</td>\n",
       "      <td>3.85</td>\n",
       "      <td>4.43</td>\n",
       "      <td>118</td>\n",
       "      <td>2616</td>\n",
       "      <td>3040</td>\n",
       "    </tr>\n",
       "  </tbody>\n",
       "</table>\n",
       "</div>"
      ],
      "text/plain": [
       "   DISTRICT_ID  N_INHAB  N_CITIES  URBAN_RATIO  AVG_SALARY UNEMP_95  UNEMP_96  \\\n",
       "0            1  1204953         1        100.0       12541     0.29      0.43   \n",
       "1            2    88884         5         46.7        8507     1.67      1.85   \n",
       "2            3    75232         5         41.7        8980     1.95      2.21   \n",
       "3            4   149893         6         67.4        9753     4.64      5.05   \n",
       "4            5    95616         6         51.4        9307     3.85      4.43   \n",
       "\n",
       "   N_ENTR CRIME_95  CRIME_96  \n",
       "0     167    85677     99107  \n",
       "1     132     2159      2674  \n",
       "2     111     2824      2813  \n",
       "3     109     5244      5892  \n",
       "4     118     2616      3040  "
      ]
     },
     "execution_count": 282,
     "metadata": {},
     "output_type": "execute_result"
    }
   ],
   "source": [
    "counties.head()"
   ]
  },
  {
   "cell_type": "code",
   "execution_count": 283,
   "metadata": {},
   "outputs": [
    {
     "name": "stdout",
     "output_type": "stream",
     "text": [
      "<class 'pandas.core.frame.DataFrame'>\n",
      "RangeIndex: 77 entries, 0 to 76\n",
      "Data columns (total 10 columns):\n",
      " #   Column       Non-Null Count  Dtype  \n",
      "---  ------       --------------  -----  \n",
      " 0   DISTRICT_ID  77 non-null     int64  \n",
      " 1   N_INHAB      77 non-null     int64  \n",
      " 2   N_CITIES     77 non-null     int64  \n",
      " 3   URBAN_RATIO  77 non-null     float64\n",
      " 4   AVG_SALARY   77 non-null     int64  \n",
      " 5   UNEMP_95     77 non-null     object \n",
      " 6   UNEMP_96     77 non-null     float64\n",
      " 7   N_ENTR       77 non-null     int64  \n",
      " 8   CRIME_95     77 non-null     object \n",
      " 9   CRIME_96     77 non-null     int64  \n",
      "dtypes: float64(2), int64(6), object(2)\n",
      "memory usage: 6.1+ KB\n"
     ]
    }
   ],
   "source": [
    "counties.info()"
   ]
  },
  {
   "cell_type": "markdown",
   "metadata": {},
   "source": [
    "## Data Clean-Up"
   ]
  },
  {
   "attachments": {},
   "cell_type": "markdown",
   "metadata": {},
   "source": [
    "### clients CLEAN-UP"
   ]
  },
  {
   "cell_type": "markdown",
   "metadata": {},
   "source": [
    "#### CHECK IF ALL IDS IN `CLIENT_ID` ARE UNIQUE"
   ]
  },
  {
   "cell_type": "code",
   "execution_count": 284,
   "metadata": {},
   "outputs": [
    {
     "data": {
      "text/plain": [
       "True"
      ]
     },
     "execution_count": 284,
     "metadata": {},
     "output_type": "execute_result"
    }
   ],
   "source": [
    "clients['CLIENT_ID'].is_unique"
   ]
  },
  {
   "cell_type": "markdown",
   "metadata": {},
   "source": [
    "#### CHECK IF ANY CLIENT HAS MORE THAN ONE ACCOUNT AND IF ANY ACCOUNT BELONGS TO MORE THAN ONE PERSON"
   ]
  },
  {
   "cell_type": "code",
   "execution_count": 285,
   "metadata": {},
   "outputs": [],
   "source": [
    "client_customer_id = clients['CLIENT_ID'].astype(str) + '-' + clients['ACCOUNT_ID'].astype(str)"
   ]
  },
  {
   "cell_type": "code",
   "execution_count": 286,
   "metadata": {},
   "outputs": [
    {
     "data": {
      "text/plain": [
       "True"
      ]
     },
     "execution_count": 286,
     "metadata": {},
     "output_type": "execute_result"
    }
   ],
   "source": [
    "client_customer_id.is_unique"
   ]
  },
  {
   "cell_type": "markdown",
   "metadata": {},
   "source": [
    "#### CHECK IF ALL VALUES IN `GENDER` COLUMNS ARE EITHER 'F' OR 'M'"
   ]
  },
  {
   "cell_type": "code",
   "execution_count": 287,
   "metadata": {},
   "outputs": [
    {
     "data": {
      "text/plain": [
       "True"
      ]
     },
     "execution_count": 287,
     "metadata": {},
     "output_type": "execute_result"
    }
   ],
   "source": [
    "clients.groupby('GENDER').count().axes[0].values.tolist() == ['F', 'M']"
   ]
  },
  {
   "cell_type": "markdown",
   "metadata": {},
   "source": [
    "#### CONVERT DATE TO PANDAS' `DATETIME` FORMAT"
   ]
  },
  {
   "cell_type": "code",
   "execution_count": 288,
   "metadata": {},
   "outputs": [],
   "source": [
    "clients['datetime'] = pd.to_datetime(clients['BIRTH_DT'], format=\"%Y%m%d\")"
   ]
  },
  {
   "cell_type": "code",
   "execution_count": 289,
   "metadata": {},
   "outputs": [
    {
     "data": {
      "text/plain": [
       "0   1970-12-13\n",
       "1   1945-02-04\n",
       "2   1956-12-01\n",
       "3   1929-01-25\n",
       "4   1938-02-21\n",
       "Name: datetime, dtype: datetime64[ns]"
      ]
     },
     "execution_count": 289,
     "metadata": {},
     "output_type": "execute_result"
    }
   ],
   "source": [
    "clients['datetime'].head()"
   ]
  },
  {
   "cell_type": "markdown",
   "metadata": {},
   "source": [
    "#### CHECK FOR BIRTHDATE OUTLIERS"
   ]
  },
  {
   "cell_type": "code",
   "execution_count": 290,
   "metadata": {},
   "outputs": [],
   "source": [
    "clients['today'] = pd.to_datetime(date.today().strftime('%Y%m%d'), format=\"%Y%m%d\")"
   ]
  },
  {
   "cell_type": "code",
   "execution_count": 291,
   "metadata": {},
   "outputs": [],
   "source": [
    "clients['age'] = (clients['today'] - clients['datetime']) / timedelta(days=365)"
   ]
  },
  {
   "cell_type": "code",
   "execution_count": 292,
   "metadata": {},
   "outputs": [],
   "source": [
    "clients['age'] = np.floor(clients['age']).astype('int')"
   ]
  },
  {
   "cell_type": "code",
   "execution_count": 293,
   "metadata": {},
   "outputs": [
    {
     "data": {
      "text/plain": [
       "True"
      ]
     },
     "execution_count": 293,
     "metadata": {},
     "output_type": "execute_result"
    }
   ],
   "source": [
    "(clients['age'].max() < 120) & (clients['age'].min() >= 18)"
   ]
  },
  {
   "cell_type": "markdown",
   "metadata": {},
   "source": [
    "#### CHECK IF ALL VALUES IN `SET_SPLIT` COLUMN ARE EITHER `TEST` OR `TRAIN`"
   ]
  },
  {
   "cell_type": "code",
   "execution_count": 294,
   "metadata": {},
   "outputs": [
    {
     "data": {
      "text/plain": [
       "True"
      ]
     },
     "execution_count": 294,
     "metadata": {},
     "output_type": "execute_result"
    }
   ],
   "source": [
    "clients.groupby('SET_SPLIT').count().axes[0].values.tolist() == ['TEST', 'TRAIN']"
   ]
  },
  {
   "cell_type": "markdown",
   "metadata": {},
   "source": [
    "#### CHECK FOR `NULLS` IN THE `LOAN` COLUMN"
   ]
  },
  {
   "cell_type": "code",
   "execution_count": 295,
   "metadata": {},
   "outputs": [
    {
     "data": {
      "text/html": [
       "<div>\n",
       "<style scoped>\n",
       "    .dataframe tbody tr th:only-of-type {\n",
       "        vertical-align: middle;\n",
       "    }\n",
       "\n",
       "    .dataframe tbody tr th {\n",
       "        vertical-align: top;\n",
       "    }\n",
       "\n",
       "    .dataframe thead th {\n",
       "        text-align: right;\n",
       "    }\n",
       "</style>\n",
       "<table border=\"1\" class=\"dataframe\">\n",
       "  <thead>\n",
       "    <tr style=\"text-align: right;\">\n",
       "      <th></th>\n",
       "      <th>CLIENT_ID</th>\n",
       "      <th>ACCOUNT_ID</th>\n",
       "      <th>GENDER</th>\n",
       "      <th>BIRTH_DT</th>\n",
       "      <th>ACTIVE</th>\n",
       "      <th>LOAN</th>\n",
       "      <th>DISTRICT_ID</th>\n",
       "      <th>SET_SPLIT</th>\n",
       "      <th>datetime</th>\n",
       "      <th>today</th>\n",
       "      <th>age</th>\n",
       "    </tr>\n",
       "  </thead>\n",
       "  <tbody>\n",
       "    <tr>\n",
       "      <th>17</th>\n",
       "      <td>25</td>\n",
       "      <td>19</td>\n",
       "      <td>F</td>\n",
       "      <td>19390423</td>\n",
       "      <td>1</td>\n",
       "      <td>NaN</td>\n",
       "      <td>21</td>\n",
       "      <td>TEST</td>\n",
       "      <td>1939-04-23</td>\n",
       "      <td>2023-03-16</td>\n",
       "      <td>83</td>\n",
       "    </tr>\n",
       "    <tr>\n",
       "      <th>42</th>\n",
       "      <td>53</td>\n",
       "      <td>45</td>\n",
       "      <td>M</td>\n",
       "      <td>19770505</td>\n",
       "      <td>1</td>\n",
       "      <td>NaN</td>\n",
       "      <td>64</td>\n",
       "      <td>TRAIN</td>\n",
       "      <td>1977-05-05</td>\n",
       "      <td>2023-03-16</td>\n",
       "      <td>45</td>\n",
       "    </tr>\n",
       "    <tr>\n",
       "      <th>269</th>\n",
       "      <td>350</td>\n",
       "      <td>288</td>\n",
       "      <td>F</td>\n",
       "      <td>19250402</td>\n",
       "      <td>1</td>\n",
       "      <td>NaN</td>\n",
       "      <td>25</td>\n",
       "      <td>TRAIN</td>\n",
       "      <td>1925-04-02</td>\n",
       "      <td>2023-03-16</td>\n",
       "      <td>98</td>\n",
       "    </tr>\n",
       "    <tr>\n",
       "      <th>328</th>\n",
       "      <td>428</td>\n",
       "      <td>350</td>\n",
       "      <td>F</td>\n",
       "      <td>19191116</td>\n",
       "      <td>1</td>\n",
       "      <td>NaN</td>\n",
       "      <td>47</td>\n",
       "      <td>TEST</td>\n",
       "      <td>1919-11-16</td>\n",
       "      <td>2023-03-16</td>\n",
       "      <td>103</td>\n",
       "    </tr>\n",
       "    <tr>\n",
       "      <th>514</th>\n",
       "      <td>657</td>\n",
       "      <td>546</td>\n",
       "      <td>F</td>\n",
       "      <td>19260710</td>\n",
       "      <td>1</td>\n",
       "      <td>NaN</td>\n",
       "      <td>8</td>\n",
       "      <td>TEST</td>\n",
       "      <td>1926-07-10</td>\n",
       "      <td>2023-03-16</td>\n",
       "      <td>96</td>\n",
       "    </tr>\n",
       "  </tbody>\n",
       "</table>\n",
       "</div>"
      ],
      "text/plain": [
       "     CLIENT_ID  ACCOUNT_ID GENDER  BIRTH_DT  ACTIVE  LOAN  DISTRICT_ID  \\\n",
       "17          25          19      F  19390423       1   NaN           21   \n",
       "42          53          45      M  19770505       1   NaN           64   \n",
       "269        350         288      F  19250402       1   NaN           25   \n",
       "328        428         350      F  19191116       1   NaN           47   \n",
       "514        657         546      F  19260710       1   NaN            8   \n",
       "\n",
       "    SET_SPLIT   datetime      today  age  \n",
       "17       TEST 1939-04-23 2023-03-16   83  \n",
       "42      TRAIN 1977-05-05 2023-03-16   45  \n",
       "269     TRAIN 1925-04-02 2023-03-16   98  \n",
       "328      TEST 1919-11-16 2023-03-16  103  \n",
       "514      TEST 1926-07-10 2023-03-16   96  "
      ]
     },
     "execution_count": 295,
     "metadata": {},
     "output_type": "execute_result"
    }
   ],
   "source": [
    "clients[clients['LOAN'].isna()].head()"
   ]
  },
  {
   "cell_type": "markdown",
   "metadata": {},
   "source": [
    "#### CONVERT 'NaN's TO ZEROS"
   ]
  },
  {
   "attachments": {},
   "cell_type": "markdown",
   "metadata": {},
   "source": [
    "Quick glance at the 'NaN' records suggests that these records represent legit accounts. Distribution betwen genders, district ID and enough randomness in date of birth indicate that these records are valid but miss the `LOAN` information.\n",
    "\n",
    "Most of the birth dates for the clients with 'Nan' value are seniors (born before 1960). I will assume that these people became clients before loan product was offered by the bank. We don't need this distinction for our analysis, and since they are marked as '1' in `ACTIVE` column, I will assume that they are active clients without an active loan. Therefore I will convert all 'NaN's to zero.\n",
    "\n",
    "Another hypothesis why certain records hold 'NaN' value is that data can come from a SQL database. In SQL 'Nan' values can be represented as 'Null'. 'Null' indicates state of 'unknown'. In our case, it would mean that we don't know if a customer has a loan or he hasn't. Since we can't be sure, we CAN'T mark it as zero (no loan). However, this situation seems extremely unlikely because we are dealing with bank data and assuming that a bank isn't aware of it's own loans is extremely unlikely. Therefore I will reject this hypothesis and update 'NaN' values to zeros."
   ]
  },
  {
   "cell_type": "code",
   "execution_count": 296,
   "metadata": {},
   "outputs": [],
   "source": [
    "clients['LOAN'] = clients['LOAN'].fillna(0)"
   ]
  },
  {
   "cell_type": "code",
   "execution_count": 297,
   "metadata": {},
   "outputs": [
    {
     "data": {
      "text/plain": [
       "False"
      ]
     },
     "execution_count": 297,
     "metadata": {},
     "output_type": "execute_result"
    }
   ],
   "source": [
    "clients['LOAN'].hasnans"
   ]
  },
  {
   "cell_type": "markdown",
   "metadata": {},
   "source": [
    "#### CONVERT `LOAN` DATA TYPE FROM 'FLOAT' TO 'INT'"
   ]
  },
  {
   "cell_type": "code",
   "execution_count": 298,
   "metadata": {},
   "outputs": [],
   "source": [
    "clients['LOAN'] = clients['LOAN'].astype('int')"
   ]
  },
  {
   "cell_type": "code",
   "execution_count": 299,
   "metadata": {},
   "outputs": [
    {
     "data": {
      "text/plain": [
       "0       0\n",
       "1       1\n",
       "2       0\n",
       "3       0\n",
       "4       0\n",
       "       ..\n",
       "4445    0\n",
       "4446    1\n",
       "4447    1\n",
       "4448    1\n",
       "4449    0\n",
       "Name: LOAN, Length: 4450, dtype: int32"
      ]
     },
     "execution_count": 299,
     "metadata": {},
     "output_type": "execute_result"
    }
   ],
   "source": [
    "clients['LOAN']"
   ]
  },
  {
   "cell_type": "markdown",
   "metadata": {},
   "source": [
    "#### REMOVE UNNEEDED COLUMNS"
   ]
  },
  {
   "cell_type": "code",
   "execution_count": 300,
   "metadata": {},
   "outputs": [],
   "source": [
    "clients.drop(['BIRTH_DT', 'today', 'datetime'], axis=1, inplace=True)"
   ]
  },
  {
   "attachments": {},
   "cell_type": "markdown",
   "metadata": {},
   "source": [
    "#### SUMMARY - `clients` TABLE AFTER CLEAN-UP"
   ]
  },
  {
   "cell_type": "code",
   "execution_count": 301,
   "metadata": {},
   "outputs": [
    {
     "data": {
      "text/html": [
       "<div>\n",
       "<style scoped>\n",
       "    .dataframe tbody tr th:only-of-type {\n",
       "        vertical-align: middle;\n",
       "    }\n",
       "\n",
       "    .dataframe tbody tr th {\n",
       "        vertical-align: top;\n",
       "    }\n",
       "\n",
       "    .dataframe thead th {\n",
       "        text-align: right;\n",
       "    }\n",
       "</style>\n",
       "<table border=\"1\" class=\"dataframe\">\n",
       "  <thead>\n",
       "    <tr style=\"text-align: right;\">\n",
       "      <th></th>\n",
       "      <th>CLIENT_ID</th>\n",
       "      <th>ACCOUNT_ID</th>\n",
       "      <th>GENDER</th>\n",
       "      <th>ACTIVE</th>\n",
       "      <th>LOAN</th>\n",
       "      <th>DISTRICT_ID</th>\n",
       "      <th>SET_SPLIT</th>\n",
       "      <th>age</th>\n",
       "    </tr>\n",
       "  </thead>\n",
       "  <tbody>\n",
       "    <tr>\n",
       "      <th>0</th>\n",
       "      <td>1</td>\n",
       "      <td>1</td>\n",
       "      <td>F</td>\n",
       "      <td>1</td>\n",
       "      <td>0</td>\n",
       "      <td>18</td>\n",
       "      <td>TRAIN</td>\n",
       "      <td>52</td>\n",
       "    </tr>\n",
       "    <tr>\n",
       "      <th>1</th>\n",
       "      <td>2</td>\n",
       "      <td>2</td>\n",
       "      <td>M</td>\n",
       "      <td>1</td>\n",
       "      <td>1</td>\n",
       "      <td>1</td>\n",
       "      <td>TRAIN</td>\n",
       "      <td>78</td>\n",
       "    </tr>\n",
       "    <tr>\n",
       "      <th>2</th>\n",
       "      <td>4</td>\n",
       "      <td>3</td>\n",
       "      <td>M</td>\n",
       "      <td>1</td>\n",
       "      <td>0</td>\n",
       "      <td>5</td>\n",
       "      <td>TEST</td>\n",
       "      <td>66</td>\n",
       "    </tr>\n",
       "    <tr>\n",
       "      <th>3</th>\n",
       "      <td>7</td>\n",
       "      <td>5</td>\n",
       "      <td>M</td>\n",
       "      <td>1</td>\n",
       "      <td>0</td>\n",
       "      <td>15</td>\n",
       "      <td>TRAIN</td>\n",
       "      <td>94</td>\n",
       "    </tr>\n",
       "    <tr>\n",
       "      <th>4</th>\n",
       "      <td>8</td>\n",
       "      <td>6</td>\n",
       "      <td>F</td>\n",
       "      <td>1</td>\n",
       "      <td>0</td>\n",
       "      <td>51</td>\n",
       "      <td>TRAIN</td>\n",
       "      <td>85</td>\n",
       "    </tr>\n",
       "  </tbody>\n",
       "</table>\n",
       "</div>"
      ],
      "text/plain": [
       "   CLIENT_ID  ACCOUNT_ID GENDER  ACTIVE  LOAN  DISTRICT_ID SET_SPLIT  age\n",
       "0          1           1      F       1     0           18     TRAIN   52\n",
       "1          2           2      M       1     1            1     TRAIN   78\n",
       "2          4           3      M       1     0            5      TEST   66\n",
       "3          7           5      M       1     0           15     TRAIN   94\n",
       "4          8           6      F       1     0           51     TRAIN   85"
      ]
     },
     "execution_count": 301,
     "metadata": {},
     "output_type": "execute_result"
    }
   ],
   "source": [
    "clients.head()"
   ]
  },
  {
   "attachments": {},
   "cell_type": "markdown",
   "metadata": {},
   "source": [
    "### transfers CLEAN-UP"
   ]
  },
  {
   "attachments": {},
   "cell_type": "markdown",
   "metadata": {},
   "source": [
    "#### CHECK IF `TRANSFER_ID` VALUES ARE UNIQUE"
   ]
  },
  {
   "cell_type": "code",
   "execution_count": 302,
   "metadata": {},
   "outputs": [
    {
     "data": {
      "text/plain": [
       "False"
      ]
     },
     "execution_count": 302,
     "metadata": {},
     "output_type": "execute_result"
    }
   ],
   "source": [
    "transfers['TRANSFER_ID'].is_unique"
   ]
  },
  {
   "cell_type": "markdown",
   "metadata": {},
   "source": [
    "#### INVESTIGATE DUPLICATES"
   ]
  },
  {
   "cell_type": "code",
   "execution_count": 303,
   "metadata": {},
   "outputs": [
    {
     "data": {
      "text/plain": [
       "TRANS_ID\n",
       "False    1056320\n",
       "True       10000\n",
       "Name: TRANS_ID, dtype: int64"
      ]
     },
     "execution_count": 303,
     "metadata": {},
     "output_type": "execute_result"
    }
   ],
   "source": [
    "transfers['TRANSFER_ID'].duplicated().groupby(transfers['TRANSFER_ID'].duplicated()).count()"
   ]
  },
  {
   "cell_type": "code",
   "execution_count": 304,
   "metadata": {},
   "outputs": [
    {
     "data": {
      "text/html": [
       "<div>\n",
       "<style scoped>\n",
       "    .dataframe tbody tr th:only-of-type {\n",
       "        vertical-align: middle;\n",
       "    }\n",
       "\n",
       "    .dataframe tbody tr th {\n",
       "        vertical-align: top;\n",
       "    }\n",
       "\n",
       "    .dataframe thead th {\n",
       "        text-align: right;\n",
       "    }\n",
       "</style>\n",
       "<table border=\"1\" class=\"dataframe\">\n",
       "  <thead>\n",
       "    <tr style=\"text-align: right;\">\n",
       "      <th></th>\n",
       "      <th>TRANS_ID</th>\n",
       "      <th>ACCOUNT_ID</th>\n",
       "      <th>DATE</th>\n",
       "      <th>AMOUNT</th>\n",
       "      <th>BALANCE</th>\n",
       "      <th>TYPE</th>\n",
       "      <th>OPERATION</th>\n",
       "    </tr>\n",
       "  </thead>\n",
       "  <tbody>\n",
       "    <tr>\n",
       "      <th>132</th>\n",
       "      <td>612405</td>\n",
       "      <td>2087.0</td>\n",
       "      <td>29011993</td>\n",
       "      <td>16983.0</td>\n",
       "      <td>17583.0</td>\n",
       "      <td>CREDIT</td>\n",
       "      <td>CREDIT_IN_CASH</td>\n",
       "    </tr>\n",
       "    <tr>\n",
       "      <th>133</th>\n",
       "      <td>612405</td>\n",
       "      <td>2087.0</td>\n",
       "      <td>29011993</td>\n",
       "      <td>16983.0</td>\n",
       "      <td>17583.0</td>\n",
       "      <td>CREDIT</td>\n",
       "      <td>CREDIT_IN_CASH</td>\n",
       "    </tr>\n",
       "    <tr>\n",
       "      <th>136</th>\n",
       "      <td>796773</td>\n",
       "      <td>2714.0</td>\n",
       "      <td>30011993</td>\n",
       "      <td>800.0</td>\n",
       "      <td>800.0</td>\n",
       "      <td>CREDIT</td>\n",
       "      <td>CREDIT_IN_CASH</td>\n",
       "    </tr>\n",
       "    <tr>\n",
       "      <th>137</th>\n",
       "      <td>796773</td>\n",
       "      <td>2714.0</td>\n",
       "      <td>30011993</td>\n",
       "      <td>800.0</td>\n",
       "      <td>800.0</td>\n",
       "      <td>CREDIT</td>\n",
       "      <td>CREDIT_IN_CASH</td>\n",
       "    </tr>\n",
       "    <tr>\n",
       "      <th>245</th>\n",
       "      <td>542217</td>\n",
       "      <td>1844.0</td>\n",
       "      <td>7021993</td>\n",
       "      <td>3242.0</td>\n",
       "      <td>6996.6</td>\n",
       "      <td>CREDIT</td>\n",
       "      <td>COLLECTION_FROM_OTHER_BANK</td>\n",
       "    </tr>\n",
       "    <tr>\n",
       "      <th>...</th>\n",
       "      <td>...</td>\n",
       "      <td>...</td>\n",
       "      <td>...</td>\n",
       "      <td>...</td>\n",
       "      <td>...</td>\n",
       "      <td>...</td>\n",
       "      <td>...</td>\n",
       "    </tr>\n",
       "    <tr>\n",
       "      <th>1065787</th>\n",
       "      <td>3637054</td>\n",
       "      <td>3225.0</td>\n",
       "      <td>31121998</td>\n",
       "      <td>359.2</td>\n",
       "      <td>85171.9</td>\n",
       "      <td>CREDIT</td>\n",
       "      <td>NaN</td>\n",
       "    </tr>\n",
       "    <tr>\n",
       "      <th>1065795</th>\n",
       "      <td>3553434</td>\n",
       "      <td>696.0</td>\n",
       "      <td>31121998</td>\n",
       "      <td>234.8</td>\n",
       "      <td>56102.8</td>\n",
       "      <td>CREDIT</td>\n",
       "      <td>NaN</td>\n",
       "    </tr>\n",
       "    <tr>\n",
       "      <th>1065867</th>\n",
       "      <td>3471092</td>\n",
       "      <td>4526.0</td>\n",
       "      <td>31121998</td>\n",
       "      <td>281.5</td>\n",
       "      <td>83037.3</td>\n",
       "      <td>CREDIT</td>\n",
       "      <td>NaN</td>\n",
       "    </tr>\n",
       "    <tr>\n",
       "      <th>1065905</th>\n",
       "      <td>3457056</td>\n",
       "      <td>9707.0</td>\n",
       "      <td>31121998</td>\n",
       "      <td>272.0</td>\n",
       "      <td>99872.3</td>\n",
       "      <td>CREDIT</td>\n",
       "      <td>NaN</td>\n",
       "    </tr>\n",
       "    <tr>\n",
       "      <th>1065996</th>\n",
       "      <td>3554479</td>\n",
       "      <td>728.0</td>\n",
       "      <td>31121998</td>\n",
       "      <td>78.7</td>\n",
       "      <td>21518.0</td>\n",
       "      <td>CREDIT</td>\n",
       "      <td>NaN</td>\n",
       "    </tr>\n",
       "  </tbody>\n",
       "</table>\n",
       "<p>19830 rows × 7 columns</p>\n",
       "</div>"
      ],
      "text/plain": [
       "         TRANS_ID  ACCOUNT_ID      DATE   AMOUNT  BALANCE    TYPE  \\\n",
       "132        612405      2087.0  29011993  16983.0  17583.0  CREDIT   \n",
       "133        612405      2087.0  29011993  16983.0  17583.0  CREDIT   \n",
       "136        796773      2714.0  30011993    800.0    800.0  CREDIT   \n",
       "137        796773      2714.0  30011993    800.0    800.0  CREDIT   \n",
       "245        542217      1844.0   7021993   3242.0   6996.6  CREDIT   \n",
       "...           ...         ...       ...      ...      ...     ...   \n",
       "1065787   3637054      3225.0  31121998    359.2  85171.9  CREDIT   \n",
       "1065795   3553434       696.0  31121998    234.8  56102.8  CREDIT   \n",
       "1065867   3471092      4526.0  31121998    281.5  83037.3  CREDIT   \n",
       "1065905   3457056      9707.0  31121998    272.0  99872.3  CREDIT   \n",
       "1065996   3554479       728.0  31121998     78.7  21518.0  CREDIT   \n",
       "\n",
       "                          OPERATION  \n",
       "132                  CREDIT_IN_CASH  \n",
       "133                  CREDIT_IN_CASH  \n",
       "136                  CREDIT_IN_CASH  \n",
       "137                  CREDIT_IN_CASH  \n",
       "245      COLLECTION_FROM_OTHER_BANK  \n",
       "...                             ...  \n",
       "1065787                         NaN  \n",
       "1065795                         NaN  \n",
       "1065867                         NaN  \n",
       "1065905                         NaN  \n",
       "1065996                         NaN  \n",
       "\n",
       "[19830 rows x 7 columns]"
      ]
     },
     "execution_count": 304,
     "metadata": {},
     "output_type": "execute_result"
    }
   ],
   "source": [
    "transfers[transfers.duplicated(keep=False)]"
   ]
  },
  {
   "attachments": {},
   "cell_type": "markdown",
   "metadata": {},
   "source": [
    "There are close to 5000 duplicate values. There should be no duplicate transfers in the table as each each `TRANSFER_ID` should be unique. I will remove the duplicates as the number of duplicates is very low (less than half percent of all transfers) and it seems like duplicates were added by mistake as previously mentioned."
   ]
  },
  {
   "cell_type": "markdown",
   "metadata": {},
   "source": [
    "#### REMOVE DUPLICATES"
   ]
  },
  {
   "cell_type": "code",
   "execution_count": 305,
   "metadata": {},
   "outputs": [],
   "source": [
    "transfers.drop_duplicates('TRANSFER_ID', inplace=True)"
   ]
  },
  {
   "cell_type": "code",
   "execution_count": 306,
   "metadata": {},
   "outputs": [
    {
     "data": {
      "text/plain": [
       "True"
      ]
     },
     "execution_count": 306,
     "metadata": {},
     "output_type": "execute_result"
    }
   ],
   "source": [
    "transfers['TRANSFER_ID'].is_unique"
   ]
  },
  {
   "cell_type": "markdown",
   "metadata": {},
   "source": [
    "#### CHECK FOR MISSING VALUES IN ACCOUNT_ID"
   ]
  },
  {
   "cell_type": "code",
   "execution_count": 307,
   "metadata": {},
   "outputs": [
    {
     "data": {
      "text/plain": [
       "TRANS_ID           0\n",
       "ACCOUNT_ID      4961\n",
       "DATE               0\n",
       "AMOUNT             0\n",
       "BALANCE            0\n",
       "TYPE               0\n",
       "OPERATION     183114\n",
       "dtype: int64"
      ]
     },
     "execution_count": 307,
     "metadata": {},
     "output_type": "execute_result"
    }
   ],
   "source": [
    "transfers.isna().sum()"
   ]
  },
  {
   "attachments": {},
   "cell_type": "markdown",
   "metadata": {},
   "source": [
    "There are 5000 missing values in the `ACCOUNT_ID` column which is less than half percent of all transfers. The 'misising values' sample is homogenous as shown by the 'summary-describe()' tables. Ratios of \"transfers in a particular category (eg. 'CC_WITHDRAWAL')\" vs \"total transfers\" are very similar in both the sample and total population set. `ACCOUNT_ID` missing value can be a problem for certain types of future operations (eg. joins over tables) because database consistency is not maintained."
   ]
  },
  {
   "cell_type": "markdown",
   "metadata": {},
   "source": [
    "HOMOGENEITY CHECK"
   ]
  },
  {
   "cell_type": "code",
   "execution_count": 308,
   "metadata": {},
   "outputs": [
    {
     "name": "stdout",
     "output_type": "stream",
     "text": [
      "Transactions set with no 'NaN's' \n",
      " [['0.5%'], ['6.8%'], ['15.0%'], ['18.9%'], ['41.6%']]\n",
      "Transactions set with only 'Nan's \n",
      " [['0.8%'], ['6.2%'], ['14.8%'], ['19.7%'], ['41.2%']]\n"
     ]
    }
   ],
   "source": [
    "only_nulls = transfers.loc[transfers['ACCOUNT_ID'].isnull()]\n",
    "full_set_without_nulls = transfers.dropna(subset='ACCOUNT_ID')\n",
    "\n",
    "def homogeneity_check(dataset):\n",
    "    \n",
    "    grouped_set = dataset.groupby('OPERATION').count()\n",
    "    grouped_set['ratio'] = grouped_set['TRANSFER_ID'] / dataset['TRANSFER_ID'].count()\n",
    "    grouped_set['ratio'] = grouped_set['ratio'].map('{:.1%}'.format)\n",
    "    \n",
    "    return grouped_set[['ratio']].values.tolist()\n",
    "\n",
    "\n",
    "only_nulls_summary = homogeneity_check(only_nulls)\n",
    "full_set_without_nulls_summary = homogeneity_check(full_set_without_nulls)\n",
    "\n",
    "print(\"transfers set with no 'NaN's'\",'\\n', only_nulls_summary)\n",
    "print(\"transfers set with only 'Nan's\",'\\n', full_set_without_nulls_summary)"
   ]
  },
  {
   "cell_type": "markdown",
   "metadata": {},
   "source": [
    "We can see that the ratio values for each `OPERATION` category (eg. 'CREDIT_IN_CASH', 'COLLECTION_FROM_BANK', etc) are very similar in both sets. Therefore the sample set is homogenous with the population set. This gives us confidence to remove the 'NaN' values without a high risk of negatively influencing the results of further analysis."
   ]
  },
  {
   "cell_type": "code",
   "execution_count": 309,
   "metadata": {},
   "outputs": [],
   "source": [
    "transfers.dropna(subset='ACCOUNT_ID', inplace=True)"
   ]
  },
  {
   "cell_type": "code",
   "execution_count": 310,
   "metadata": {},
   "outputs": [
    {
     "data": {
      "text/plain": [
       "TRANS_ID           0\n",
       "ACCOUNT_ID         0\n",
       "DATE               0\n",
       "AMOUNT             0\n",
       "BALANCE            0\n",
       "TYPE               0\n",
       "OPERATION     182262\n",
       "dtype: int64"
      ]
     },
     "execution_count": 310,
     "metadata": {},
     "output_type": "execute_result"
    }
   ],
   "source": [
    "transfers.isna().sum()"
   ]
  },
  {
   "cell_type": "markdown",
   "metadata": {},
   "source": [
    "#### CHECK IF A COMBINATION OF TRANSACTION ID AND ACCOUNT IS UNIQUE"
   ]
  },
  {
   "cell_type": "code",
   "execution_count": 311,
   "metadata": {},
   "outputs": [],
   "source": [
    "transfers_account_id = transfers['TRANSFER_ID'].astype(str) + '-' + transfers['ACCOUNT_ID'].astype(str)"
   ]
  },
  {
   "cell_type": "code",
   "execution_count": 312,
   "metadata": {},
   "outputs": [
    {
     "data": {
      "text/plain": [
       "True"
      ]
     },
     "execution_count": 312,
     "metadata": {},
     "output_type": "execute_result"
    }
   ],
   "source": [
    "transfers_account_id.is_unique"
   ]
  },
  {
   "cell_type": "markdown",
   "metadata": {},
   "source": [
    "#### CHECK IF THERE ARE ANY 'NaN' VALUES IN ANY OTHER COLUMN"
   ]
  },
  {
   "cell_type": "code",
   "execution_count": 313,
   "metadata": {},
   "outputs": [
    {
     "data": {
      "text/plain": [
       "TRANS_ID           0\n",
       "ACCOUNT_ID         0\n",
       "DATE               0\n",
       "AMOUNT             0\n",
       "BALANCE            0\n",
       "TYPE               0\n",
       "OPERATION     182262\n",
       "dtype: int64"
      ]
     },
     "execution_count": 313,
     "metadata": {},
     "output_type": "execute_result"
    }
   ],
   "source": [
    "transfers.isna().sum()"
   ]
  },
  {
   "cell_type": "code",
   "execution_count": 314,
   "metadata": {},
   "outputs": [
    {
     "data": {
      "text/plain": [
       "'17%'"
      ]
     },
     "execution_count": 314,
     "metadata": {},
     "output_type": "execute_result"
    }
   ],
   "source": [
    "\"{:.0%}\".format(transfers.isna().sum()['OPERATION'] / len(transfers.index))"
   ]
  },
  {
   "attachments": {},
   "cell_type": "markdown",
   "metadata": {},
   "source": [
    "There are 180k missing transfers with missing 'OPERATION' value which is 17% of total transfers. My hypothesis is that these belong to the sixth 'OPERATION' category. Most likely the missing category is 'CREDIT_TO_CC'. The rationale behind this hypothesis is that there are three types of transfers (Credit Card related, Cash related and Bank Transfer related). For the two of these categories: Cash and Bank Transfer, we can see both credit and debit type. However, for Credit Card category we can only see credit type. Therefore, most likely the missing values belong to Credit part of Credit Card category.\n",
    "\n"
   ]
  },
  {
   "cell_type": "code",
   "execution_count": 315,
   "metadata": {},
   "outputs": [
    {
     "data": {
      "text/html": [
       "<div>\n",
       "<style scoped>\n",
       "    .dataframe tbody tr th:only-of-type {\n",
       "        vertical-align: middle;\n",
       "    }\n",
       "\n",
       "    .dataframe tbody tr th {\n",
       "        vertical-align: top;\n",
       "    }\n",
       "\n",
       "    .dataframe thead th {\n",
       "        text-align: right;\n",
       "    }\n",
       "</style>\n",
       "<table border=\"1\" class=\"dataframe\">\n",
       "  <thead>\n",
       "    <tr style=\"text-align: right;\">\n",
       "      <th></th>\n",
       "      <th>TRANS_ID</th>\n",
       "      <th>ACCOUNT_ID</th>\n",
       "      <th>DATE</th>\n",
       "      <th>AMOUNT</th>\n",
       "      <th>BALANCE</th>\n",
       "      <th>TYPE</th>\n",
       "    </tr>\n",
       "    <tr>\n",
       "      <th>OPERATION</th>\n",
       "      <th></th>\n",
       "      <th></th>\n",
       "      <th></th>\n",
       "      <th></th>\n",
       "      <th></th>\n",
       "      <th></th>\n",
       "    </tr>\n",
       "  </thead>\n",
       "  <tbody>\n",
       "    <tr>\n",
       "      <th>CC_WITHDRAWAL</th>\n",
       "      <td>8011</td>\n",
       "      <td>8011</td>\n",
       "      <td>8011</td>\n",
       "      <td>8011</td>\n",
       "      <td>8011</td>\n",
       "      <td>8011</td>\n",
       "    </tr>\n",
       "    <tr>\n",
       "      <th>COLLECTION_FROM_OTHER_BANK</th>\n",
       "      <td>64888</td>\n",
       "      <td>64888</td>\n",
       "      <td>64888</td>\n",
       "      <td>64888</td>\n",
       "      <td>64888</td>\n",
       "      <td>64888</td>\n",
       "    </tr>\n",
       "    <tr>\n",
       "      <th>CREDIT_IN_CASH</th>\n",
       "      <td>156001</td>\n",
       "      <td>156001</td>\n",
       "      <td>156001</td>\n",
       "      <td>156001</td>\n",
       "      <td>156001</td>\n",
       "      <td>156001</td>\n",
       "    </tr>\n",
       "    <tr>\n",
       "      <th>REMITTANCE_TO_OTHER_BANK</th>\n",
       "      <td>207344</td>\n",
       "      <td>207344</td>\n",
       "      <td>207344</td>\n",
       "      <td>207344</td>\n",
       "      <td>207344</td>\n",
       "      <td>207344</td>\n",
       "    </tr>\n",
       "    <tr>\n",
       "      <th>WITHDRAWAL_IN_CASH</th>\n",
       "      <td>432853</td>\n",
       "      <td>432853</td>\n",
       "      <td>432853</td>\n",
       "      <td>432853</td>\n",
       "      <td>432853</td>\n",
       "      <td>432853</td>\n",
       "    </tr>\n",
       "    <tr>\n",
       "      <th>NaN</th>\n",
       "      <td>182262</td>\n",
       "      <td>182262</td>\n",
       "      <td>182262</td>\n",
       "      <td>182262</td>\n",
       "      <td>182262</td>\n",
       "      <td>182262</td>\n",
       "    </tr>\n",
       "  </tbody>\n",
       "</table>\n",
       "</div>"
      ],
      "text/plain": [
       "                            TRANS_ID  ACCOUNT_ID    DATE  AMOUNT  BALANCE  \\\n",
       "OPERATION                                                                   \n",
       "CC_WITHDRAWAL                   8011        8011    8011    8011     8011   \n",
       "COLLECTION_FROM_OTHER_BANK     64888       64888   64888   64888    64888   \n",
       "CREDIT_IN_CASH                156001      156001  156001  156001   156001   \n",
       "REMITTANCE_TO_OTHER_BANK      207344      207344  207344  207344   207344   \n",
       "WITHDRAWAL_IN_CASH            432853      432853  432853  432853   432853   \n",
       "NaN                           182262      182262  182262  182262   182262   \n",
       "\n",
       "                              TYPE  \n",
       "OPERATION                           \n",
       "CC_WITHDRAWAL                 8011  \n",
       "COLLECTION_FROM_OTHER_BANK   64888  \n",
       "CREDIT_IN_CASH              156001  \n",
       "REMITTANCE_TO_OTHER_BANK    207344  \n",
       "WITHDRAWAL_IN_CASH          432853  \n",
       "NaN                         182262  "
      ]
     },
     "execution_count": 315,
     "metadata": {},
     "output_type": "execute_result"
    }
   ],
   "source": [
    "transfers.groupby('OPERATION', dropna=False).count()"
   ]
  },
  {
   "attachments": {},
   "cell_type": "markdown",
   "metadata": {},
   "source": [
    "Another clue which led me to my hypothesis was mean transation amount accross different 'OPERATION' categories. Credit card transfers are generally of lower value than bank transfers and cash withdrawals/deposits in the bank. Summary statistics of the dataset confirm this: 'CC_WITHDRAVAL' category has the lowest value mean among the categories. And the data set which consists of 'NaN' values has the lowest mean among all categories. Which is another reason to believe that this dataset is really 'CREDIT_TO_CC' category."
   ]
  },
  {
   "cell_type": "code",
   "execution_count": 316,
   "metadata": {},
   "outputs": [
    {
     "data": {
      "text/plain": [
       "OPERATION\n",
       "CREDIT_IN_CASH                15431\n",
       "COLLECTION_FROM_OTHER_BANK    11972\n",
       "WITHDRAWAL_IN_CASH             5378\n",
       "REMITTANCE_TO_OTHER_BANK       3229\n",
       "CC_WITHDRAWAL                  2261\n",
       "NaN                             150\n",
       "Name: AMOUNT, dtype: int32"
      ]
     },
     "execution_count": 316,
     "metadata": {},
     "output_type": "execute_result"
    }
   ],
   "source": [
    "transfers.groupby('OPERATION', dropna=False).mean(numeric_only=True)['AMOUNT'].astype('int').sort_values(ascending=False)"
   ]
  },
  {
   "cell_type": "markdown",
   "metadata": {},
   "source": [
    "Based on the reasons described above I'm going to replace 'Nan's with 'CREDIT_TO_CC' tag."
   ]
  },
  {
   "cell_type": "code",
   "execution_count": 317,
   "metadata": {},
   "outputs": [],
   "source": [
    "transfers['OPERATION'] = transfers['OPERATION'].map(lambda x: 'CC_CREDIT' if pd.isna(x) else x)"
   ]
  },
  {
   "cell_type": "code",
   "execution_count": 318,
   "metadata": {},
   "outputs": [
    {
     "data": {
      "text/plain": [
       "TRANS_ID      0\n",
       "ACCOUNT_ID    0\n",
       "DATE          0\n",
       "AMOUNT        0\n",
       "BALANCE       0\n",
       "TYPE          0\n",
       "OPERATION     0\n",
       "dtype: int64"
      ]
     },
     "execution_count": 318,
     "metadata": {},
     "output_type": "execute_result"
    }
   ],
   "source": [
    "transfers.isna().sum()"
   ]
  },
  {
   "attachments": {},
   "cell_type": "markdown",
   "metadata": {},
   "source": [
    "#### **CHECK IF THERE ARE ANY transfers WITH ZERO VALUE**"
   ]
  },
  {
   "cell_type": "code",
   "execution_count": 319,
   "metadata": {},
   "outputs": [
    {
     "data": {
      "text/plain": [
       "14"
      ]
     },
     "execution_count": 319,
     "metadata": {},
     "output_type": "execute_result"
    }
   ],
   "source": [
    "len(transfers[transfers['AMOUNT'] == 0].index)"
   ]
  },
  {
   "cell_type": "code",
   "execution_count": 320,
   "metadata": {},
   "outputs": [
    {
     "data": {
      "text/html": [
       "<div>\n",
       "<style scoped>\n",
       "    .dataframe tbody tr th:only-of-type {\n",
       "        vertical-align: middle;\n",
       "    }\n",
       "\n",
       "    .dataframe tbody tr th {\n",
       "        vertical-align: top;\n",
       "    }\n",
       "\n",
       "    .dataframe thead th {\n",
       "        text-align: right;\n",
       "    }\n",
       "</style>\n",
       "<table border=\"1\" class=\"dataframe\">\n",
       "  <thead>\n",
       "    <tr style=\"text-align: right;\">\n",
       "      <th></th>\n",
       "      <th>TRANS_ID</th>\n",
       "      <th>ACCOUNT_ID</th>\n",
       "      <th>DATE</th>\n",
       "      <th>AMOUNT</th>\n",
       "      <th>BALANCE</th>\n",
       "      <th>TYPE</th>\n",
       "      <th>OPERATION</th>\n",
       "    </tr>\n",
       "  </thead>\n",
       "  <tbody>\n",
       "    <tr>\n",
       "      <th>85511</th>\n",
       "      <td>3455961</td>\n",
       "      <td>8957.0</td>\n",
       "      <td>31081994</td>\n",
       "      <td>0.0</td>\n",
       "      <td>72681.7</td>\n",
       "      <td>WITHDRAWAL</td>\n",
       "      <td>WITHDRAWAL_IN_CASH</td>\n",
       "    </tr>\n",
       "    <tr>\n",
       "      <th>109954</th>\n",
       "      <td>3451376</td>\n",
       "      <td>5129.0</td>\n",
       "      <td>30111994</td>\n",
       "      <td>0.0</td>\n",
       "      <td>-388.7</td>\n",
       "      <td>WITHDRAWAL</td>\n",
       "      <td>WITHDRAWAL_IN_CASH</td>\n",
       "    </tr>\n",
       "    <tr>\n",
       "      <th>135617</th>\n",
       "      <td>3452231</td>\n",
       "      <td>5483.0</td>\n",
       "      <td>31011995</td>\n",
       "      <td>0.0</td>\n",
       "      <td>113.1</td>\n",
       "      <td>WITHDRAWAL</td>\n",
       "      <td>WITHDRAWAL_IN_CASH</td>\n",
       "    </tr>\n",
       "    <tr>\n",
       "      <th>483108</th>\n",
       "      <td>3456605</td>\n",
       "      <td>9337.0</td>\n",
       "      <td>31011997</td>\n",
       "      <td>0.0</td>\n",
       "      <td>8502.9</td>\n",
       "      <td>WITHDRAWAL</td>\n",
       "      <td>WITHDRAWAL_IN_CASH</td>\n",
       "    </tr>\n",
       "    <tr>\n",
       "      <th>486931</th>\n",
       "      <td>3510214</td>\n",
       "      <td>9337.0</td>\n",
       "      <td>31011997</td>\n",
       "      <td>0.0</td>\n",
       "      <td>8488.2</td>\n",
       "      <td>WITHDRAWAL</td>\n",
       "      <td>WITHDRAWAL_IN_CASH</td>\n",
       "    </tr>\n",
       "    <tr>\n",
       "      <th>589491</th>\n",
       "      <td>3451866</td>\n",
       "      <td>5369.0</td>\n",
       "      <td>30061997</td>\n",
       "      <td>0.0</td>\n",
       "      <td>603.9</td>\n",
       "      <td>WITHDRAWAL</td>\n",
       "      <td>WITHDRAWAL_IN_CASH</td>\n",
       "    </tr>\n",
       "    <tr>\n",
       "      <th>733542</th>\n",
       "      <td>3449658</td>\n",
       "      <td>3859.0</td>\n",
       "      <td>31121997</td>\n",
       "      <td>0.0</td>\n",
       "      <td>197.0</td>\n",
       "      <td>WITHDRAWAL</td>\n",
       "      <td>WITHDRAWAL_IN_CASH</td>\n",
       "    </tr>\n",
       "    <tr>\n",
       "      <th>777390</th>\n",
       "      <td>3446795</td>\n",
       "      <td>1475.0</td>\n",
       "      <td>31011998</td>\n",
       "      <td>0.0</td>\n",
       "      <td>694.3</td>\n",
       "      <td>WITHDRAWAL</td>\n",
       "      <td>WITHDRAWAL_IN_CASH</td>\n",
       "    </tr>\n",
       "    <tr>\n",
       "      <th>803365</th>\n",
       "      <td>3456218</td>\n",
       "      <td>9051.0</td>\n",
       "      <td>28021998</td>\n",
       "      <td>0.0</td>\n",
       "      <td>1367.1</td>\n",
       "      <td>CREDIT</td>\n",
       "      <td>CC_CREDIT</td>\n",
       "    </tr>\n",
       "    <tr>\n",
       "      <th>806666</th>\n",
       "      <td>3507085</td>\n",
       "      <td>9051.0</td>\n",
       "      <td>28021998</td>\n",
       "      <td>0.0</td>\n",
       "      <td>1367.1</td>\n",
       "      <td>CREDIT</td>\n",
       "      <td>CC_CREDIT</td>\n",
       "    </tr>\n",
       "    <tr>\n",
       "      <th>964429</th>\n",
       "      <td>3533930</td>\n",
       "      <td>102.0</td>\n",
       "      <td>31081998</td>\n",
       "      <td>0.0</td>\n",
       "      <td>311.1</td>\n",
       "      <td>CREDIT</td>\n",
       "      <td>CC_CREDIT</td>\n",
       "    </tr>\n",
       "    <tr>\n",
       "      <th>985494</th>\n",
       "      <td>3451351</td>\n",
       "      <td>5125.0</td>\n",
       "      <td>30091998</td>\n",
       "      <td>0.0</td>\n",
       "      <td>597.1</td>\n",
       "      <td>WITHDRAWAL</td>\n",
       "      <td>WITHDRAWAL_IN_CASH</td>\n",
       "    </tr>\n",
       "    <tr>\n",
       "      <th>989362</th>\n",
       "      <td>3453255</td>\n",
       "      <td>6083.0</td>\n",
       "      <td>30091998</td>\n",
       "      <td>0.0</td>\n",
       "      <td>-8404.2</td>\n",
       "      <td>CREDIT</td>\n",
       "      <td>CC_CREDIT</td>\n",
       "    </tr>\n",
       "    <tr>\n",
       "      <th>1040996</th>\n",
       "      <td>3446508</td>\n",
       "      <td>1330.0</td>\n",
       "      <td>30111998</td>\n",
       "      <td>0.0</td>\n",
       "      <td>141.2</td>\n",
       "      <td>WITHDRAWAL</td>\n",
       "      <td>WITHDRAWAL_IN_CASH</td>\n",
       "    </tr>\n",
       "  </tbody>\n",
       "</table>\n",
       "</div>"
      ],
      "text/plain": [
       "         TRANS_ID  ACCOUNT_ID      DATE  AMOUNT  BALANCE        TYPE  \\\n",
       "85511     3455961      8957.0  31081994     0.0  72681.7  WITHDRAWAL   \n",
       "109954    3451376      5129.0  30111994     0.0   -388.7  WITHDRAWAL   \n",
       "135617    3452231      5483.0  31011995     0.0    113.1  WITHDRAWAL   \n",
       "483108    3456605      9337.0  31011997     0.0   8502.9  WITHDRAWAL   \n",
       "486931    3510214      9337.0  31011997     0.0   8488.2  WITHDRAWAL   \n",
       "589491    3451866      5369.0  30061997     0.0    603.9  WITHDRAWAL   \n",
       "733542    3449658      3859.0  31121997     0.0    197.0  WITHDRAWAL   \n",
       "777390    3446795      1475.0  31011998     0.0    694.3  WITHDRAWAL   \n",
       "803365    3456218      9051.0  28021998     0.0   1367.1      CREDIT   \n",
       "806666    3507085      9051.0  28021998     0.0   1367.1      CREDIT   \n",
       "964429    3533930       102.0  31081998     0.0    311.1      CREDIT   \n",
       "985494    3451351      5125.0  30091998     0.0    597.1  WITHDRAWAL   \n",
       "989362    3453255      6083.0  30091998     0.0  -8404.2      CREDIT   \n",
       "1040996   3446508      1330.0  30111998     0.0    141.2  WITHDRAWAL   \n",
       "\n",
       "                  OPERATION  \n",
       "85511    WITHDRAWAL_IN_CASH  \n",
       "109954   WITHDRAWAL_IN_CASH  \n",
       "135617   WITHDRAWAL_IN_CASH  \n",
       "483108   WITHDRAWAL_IN_CASH  \n",
       "486931   WITHDRAWAL_IN_CASH  \n",
       "589491   WITHDRAWAL_IN_CASH  \n",
       "733542   WITHDRAWAL_IN_CASH  \n",
       "777390   WITHDRAWAL_IN_CASH  \n",
       "803365            CC_CREDIT  \n",
       "806666            CC_CREDIT  \n",
       "964429            CC_CREDIT  \n",
       "985494   WITHDRAWAL_IN_CASH  \n",
       "989362            CC_CREDIT  \n",
       "1040996  WITHDRAWAL_IN_CASH  "
      ]
     },
     "execution_count": 320,
     "metadata": {},
     "output_type": "execute_result"
    }
   ],
   "source": [
    "transfers[transfers['AMOUNT'] == 0]"
   ]
  },
  {
   "attachments": {},
   "cell_type": "markdown",
   "metadata": {},
   "source": [
    "There are 14 transfers with 'zero' amount. Since they have no impact on the aggregate statistics of the remaining transfers, I'm going to remove them from the dataset. However, I will keep them as a separate table to investigate the reason for transfers with zero amount. They are probably some kind of systems' related transfers as all of them take place at the last day of the calendar month."
   ]
  },
  {
   "cell_type": "code",
   "execution_count": 321,
   "metadata": {},
   "outputs": [],
   "source": [
    "count_before = len(transfers.index)"
   ]
  },
  {
   "cell_type": "code",
   "execution_count": 322,
   "metadata": {},
   "outputs": [],
   "source": [
    "transfers.drop(transfers[transfers.AMOUNT == 0].index, inplace=True)"
   ]
  },
  {
   "cell_type": "code",
   "execution_count": 323,
   "metadata": {},
   "outputs": [
    {
     "data": {
      "text/plain": [
       "True"
      ]
     },
     "execution_count": 323,
     "metadata": {},
     "output_type": "execute_result"
    }
   ],
   "source": [
    "(count_before - len(transfers.index)) == 14"
   ]
  },
  {
   "cell_type": "markdown",
   "metadata": {},
   "source": [
    "#### CHECK TYPE COLUMN"
   ]
  },
  {
   "cell_type": "code",
   "execution_count": 324,
   "metadata": {},
   "outputs": [
    {
     "data": {
      "text/plain": [
       "dict_keys(['CREDIT', 'WITHDRAWAL'])"
      ]
     },
     "execution_count": 324,
     "metadata": {},
     "output_type": "execute_result"
    }
   ],
   "source": [
    "transfers.groupby('TYPE').groups.keys()"
   ]
  },
  {
   "attachments": {},
   "cell_type": "markdown",
   "metadata": {},
   "source": [
    "These two categories represent account inflows and outflows, therefore there is no need for signed transfers. I expect to see no negative amount records in the next check"
   ]
  },
  {
   "attachments": {},
   "cell_type": "markdown",
   "metadata": {},
   "source": [
    "#### CHECK IF THERE ARE ANY transfers WHERE 'AMOUNT' IS LOWER THAN 0"
   ]
  },
  {
   "cell_type": "code",
   "execution_count": 325,
   "metadata": {},
   "outputs": [
    {
     "data": {
      "text/plain": [
       "True"
      ]
     },
     "execution_count": 325,
     "metadata": {},
     "output_type": "execute_result"
    }
   ],
   "source": [
    "len(transfers[transfers['AMOUNT'] < 0].index) == 0"
   ]
  },
  {
   "cell_type": "markdown",
   "metadata": {},
   "source": [
    "#### **CHECK FOR OUTLIERS IN TRANSACTION AMOUNT AND TRANSACTION BALANCE**"
   ]
  },
  {
   "cell_type": "code",
   "execution_count": 326,
   "metadata": {},
   "outputs": [
    {
     "data": {
      "text/plain": [
       "87400.0"
      ]
     },
     "execution_count": 326,
     "metadata": {},
     "output_type": "execute_result"
    }
   ],
   "source": [
    "transfers['AMOUNT'].max()"
   ]
  },
  {
   "cell_type": "markdown",
   "metadata": {},
   "source": [
    "The highest transaction amount is 87 thousands, so nothing irregular here."
   ]
  },
  {
   "cell_type": "code",
   "execution_count": 327,
   "metadata": {},
   "outputs": [
    {
     "data": {
      "text/plain": [
       "209637.0"
      ]
     },
     "execution_count": 327,
     "metadata": {},
     "output_type": "execute_result"
    }
   ],
   "source": [
    "transfers['BALANCE'].max()"
   ]
  },
  {
   "cell_type": "code",
   "execution_count": 328,
   "metadata": {},
   "outputs": [
    {
     "data": {
      "text/plain": [
       "-41125.7"
      ]
     },
     "execution_count": 328,
     "metadata": {},
     "output_type": "execute_result"
    }
   ],
   "source": [
    "transfers['BALANCE'].min()"
   ]
  },
  {
   "attachments": {},
   "cell_type": "markdown",
   "metadata": {},
   "source": [
    "Both maximum and minimum balance in all transfers is the range -42k to 210k so nothing unusual."
   ]
  },
  {
   "cell_type": "markdown",
   "metadata": {},
   "source": [
    "**FORMAT DATE TO BE MORE READABLE**"
   ]
  },
  {
   "cell_type": "code",
   "execution_count": 329,
   "metadata": {},
   "outputs": [],
   "source": [
    "transfers['DATE'] = transfers['DATE'].map(lambda x: ('0' + str(x)) if (len(str(x)) == 7) else x)"
   ]
  },
  {
   "cell_type": "code",
   "execution_count": 330,
   "metadata": {},
   "outputs": [],
   "source": [
    "transfers['DATE'] = pd.to_datetime(transfers['DATE'], format=\"%d%m%Y\")"
   ]
  },
  {
   "cell_type": "code",
   "execution_count": 331,
   "metadata": {},
   "outputs": [
    {
     "data": {
      "text/plain": [
       "0   1993-01-01\n",
       "1   1993-01-01\n",
       "2   1993-01-01\n",
       "3   1993-01-01\n",
       "4   1993-01-02\n",
       "Name: DATE, dtype: datetime64[ns]"
      ]
     },
     "execution_count": 331,
     "metadata": {},
     "output_type": "execute_result"
    }
   ],
   "source": [
    "transfers['DATE'].head()"
   ]
  },
  {
   "attachments": {},
   "cell_type": "markdown",
   "metadata": {},
   "source": [
    "### counties CLEAN-UP"
   ]
  },
  {
   "cell_type": "markdown",
   "metadata": {},
   "source": [
    "#### **CHECK IF THERE ARE ANY 'NaN' VALUES**"
   ]
  },
  {
   "cell_type": "code",
   "execution_count": 332,
   "metadata": {},
   "outputs": [
    {
     "data": {
      "text/plain": [
       "DISTRICT_ID    0\n",
       "N_INHAB        0\n",
       "N_CITIES       0\n",
       "URBAN_RATIO    0\n",
       "AVG_SALARY     0\n",
       "UNEMP_95       0\n",
       "UNEMP_96       0\n",
       "N_ENTR         0\n",
       "CRIME_95       0\n",
       "CRIME_96       0\n",
       "dtype: int64"
      ]
     },
     "execution_count": 332,
     "metadata": {},
     "output_type": "execute_result"
    }
   ],
   "source": [
    "counties.isna().sum()"
   ]
  },
  {
   "cell_type": "markdown",
   "metadata": {},
   "source": [
    "#### **CHECK FOR OUTLIERS IN EACH CATEGORY**"
   ]
  },
  {
   "cell_type": "code",
   "execution_count": 333,
   "metadata": {},
   "outputs": [
    {
     "data": {
      "text/plain": [
       "{'DISTRICT_ID': [{'max': 77}, {'min': 1}],\n",
       " 'N_INHAB': [{'max': 1204953}, {'min': 42821}],\n",
       " 'N_CITIES': [{'max': 11}, {'min': 1}],\n",
       " 'URBAN_RATIO': [{'max': 100.0}, {'min': 33.9}],\n",
       " 'AVG_SALARY': [{'max': 12541}, {'min': 8110}],\n",
       " 'UNEMP_95': [{'max': '?'}, {'min': '0.29'}],\n",
       " 'UNEMP_96': [{'max': 9.4}, {'min': 0.43}],\n",
       " 'N_ENTR': [{'max': 167}, {'min': 81}],\n",
       " 'CRIME_95': [{'max': '?'}, {'min': '1003'}],\n",
       " 'CRIME_96': [{'max': 99107}, {'min': 888}]}"
      ]
     },
     "execution_count": 333,
     "metadata": {},
     "output_type": "execute_result"
    }
   ],
   "source": [
    "def check_outliers(table):\n",
    "    check = {}\n",
    "    for i in table.columns.tolist():\n",
    "        check[i] = [{'max': table[i].max()}, {'min': table[i].min()}]\n",
    "    return check\n",
    "\n",
    "check_outliers(counties)"
   ]
  },
  {
   "cell_type": "markdown",
   "metadata": {},
   "source": [
    "All these numbers look reasonable for each category, and as a bonus we got to see that 'UNEMP_95' has some weird values: '?', which we are going to investigate futher."
   ]
  },
  {
   "cell_type": "markdown",
   "metadata": {},
   "source": [
    "#### FIND RECORDS WITH '?' VALUES IN COLUMNS `UNEMP_95` AND `CRIME_95`"
   ]
  },
  {
   "cell_type": "code",
   "execution_count": 334,
   "metadata": {},
   "outputs": [
    {
     "data": {
      "text/html": [
       "<div>\n",
       "<style scoped>\n",
       "    .dataframe tbody tr th:only-of-type {\n",
       "        vertical-align: middle;\n",
       "    }\n",
       "\n",
       "    .dataframe tbody tr th {\n",
       "        vertical-align: top;\n",
       "    }\n",
       "\n",
       "    .dataframe thead th {\n",
       "        text-align: right;\n",
       "    }\n",
       "</style>\n",
       "<table border=\"1\" class=\"dataframe\">\n",
       "  <thead>\n",
       "    <tr style=\"text-align: right;\">\n",
       "      <th></th>\n",
       "      <th>DISTRICT_ID</th>\n",
       "      <th>N_INHAB</th>\n",
       "      <th>N_CITIES</th>\n",
       "      <th>URBAN_RATIO</th>\n",
       "      <th>AVG_SALARY</th>\n",
       "      <th>UNEMP_95</th>\n",
       "      <th>UNEMP_96</th>\n",
       "      <th>N_ENTR</th>\n",
       "      <th>CRIME_95</th>\n",
       "      <th>CRIME_96</th>\n",
       "    </tr>\n",
       "  </thead>\n",
       "  <tbody>\n",
       "    <tr>\n",
       "      <th>68</th>\n",
       "      <td>69</td>\n",
       "      <td>42821</td>\n",
       "      <td>3</td>\n",
       "      <td>48.4</td>\n",
       "      <td>8173</td>\n",
       "      <td>?</td>\n",
       "      <td>7.01</td>\n",
       "      <td>124</td>\n",
       "      <td>?</td>\n",
       "      <td>1358</td>\n",
       "    </tr>\n",
       "  </tbody>\n",
       "</table>\n",
       "</div>"
      ],
      "text/plain": [
       "    DISTRICT_ID  N_INHAB  N_CITIES  URBAN_RATIO  AVG_SALARY UNEMP_95  \\\n",
       "68           69    42821         3         48.4        8173        ?   \n",
       "\n",
       "    UNEMP_96  N_ENTR CRIME_95  CRIME_96  \n",
       "68      7.01     124        ?      1358  "
      ]
     },
     "execution_count": 334,
     "metadata": {},
     "output_type": "execute_result"
    }
   ],
   "source": [
    "counties[counties['UNEMP_95'] == '?']"
   ]
  },
  {
   "cell_type": "code",
   "execution_count": 335,
   "metadata": {},
   "outputs": [
    {
     "data": {
      "text/html": [
       "<div>\n",
       "<style scoped>\n",
       "    .dataframe tbody tr th:only-of-type {\n",
       "        vertical-align: middle;\n",
       "    }\n",
       "\n",
       "    .dataframe tbody tr th {\n",
       "        vertical-align: top;\n",
       "    }\n",
       "\n",
       "    .dataframe thead th {\n",
       "        text-align: right;\n",
       "    }\n",
       "</style>\n",
       "<table border=\"1\" class=\"dataframe\">\n",
       "  <thead>\n",
       "    <tr style=\"text-align: right;\">\n",
       "      <th></th>\n",
       "      <th>DISTRICT_ID</th>\n",
       "      <th>N_INHAB</th>\n",
       "      <th>N_CITIES</th>\n",
       "      <th>URBAN_RATIO</th>\n",
       "      <th>AVG_SALARY</th>\n",
       "      <th>UNEMP_95</th>\n",
       "      <th>UNEMP_96</th>\n",
       "      <th>N_ENTR</th>\n",
       "      <th>CRIME_95</th>\n",
       "      <th>CRIME_96</th>\n",
       "    </tr>\n",
       "  </thead>\n",
       "  <tbody>\n",
       "    <tr>\n",
       "      <th>68</th>\n",
       "      <td>69</td>\n",
       "      <td>42821</td>\n",
       "      <td>3</td>\n",
       "      <td>48.4</td>\n",
       "      <td>8173</td>\n",
       "      <td>?</td>\n",
       "      <td>7.01</td>\n",
       "      <td>124</td>\n",
       "      <td>?</td>\n",
       "      <td>1358</td>\n",
       "    </tr>\n",
       "  </tbody>\n",
       "</table>\n",
       "</div>"
      ],
      "text/plain": [
       "    DISTRICT_ID  N_INHAB  N_CITIES  URBAN_RATIO  AVG_SALARY UNEMP_95  \\\n",
       "68           69    42821         3         48.4        8173        ?   \n",
       "\n",
       "    UNEMP_96  N_ENTR CRIME_95  CRIME_96  \n",
       "68      7.01     124        ?      1358  "
      ]
     },
     "execution_count": 335,
     "metadata": {},
     "output_type": "execute_result"
    }
   ],
   "source": [
    "counties[counties['CRIME_95'] == '?']"
   ]
  },
  {
   "attachments": {},
   "cell_type": "markdown",
   "metadata": {},
   "source": [
    "It's the same row in both column. It's the column with 'COUNTY_ID' = 69."
   ]
  },
  {
   "attachments": {},
   "cell_type": "markdown",
   "metadata": {},
   "source": [
    "We don't want to remove this row as this would break consistency among the table. If we ever wanted to join tables using 'COUNTY_ID' key, we would be missing some relationships. Instead, we are are going to use avarage change in unemployment and crime between 1995 and 1996 for similar records and update the missing values using the mean. By similar we understand records who have close values in the following columns: 'N_INHAB', 'URBAN_RATION', 'AVG_SALARY', 'UNEMP_96' and 'CRIME_96'. This is going to be partially manual process, we will filter the data using only one column and try to fit to a subset of counties which look similar. Not very scientific but good enough for just one record."
   ]
  },
  {
   "cell_type": "code",
   "execution_count": 336,
   "metadata": {},
   "outputs": [
    {
     "data": {
      "text/html": [
       "<div>\n",
       "<style scoped>\n",
       "    .dataframe tbody tr th:only-of-type {\n",
       "        vertical-align: middle;\n",
       "    }\n",
       "\n",
       "    .dataframe tbody tr th {\n",
       "        vertical-align: top;\n",
       "    }\n",
       "\n",
       "    .dataframe thead th {\n",
       "        text-align: right;\n",
       "    }\n",
       "</style>\n",
       "<table border=\"1\" class=\"dataframe\">\n",
       "  <thead>\n",
       "    <tr style=\"text-align: right;\">\n",
       "      <th></th>\n",
       "      <th>DISTRICT_ID</th>\n",
       "      <th>N_INHAB</th>\n",
       "      <th>N_CITIES</th>\n",
       "      <th>URBAN_RATIO</th>\n",
       "      <th>AVG_SALARY</th>\n",
       "      <th>UNEMP_95</th>\n",
       "      <th>UNEMP_96</th>\n",
       "      <th>N_ENTR</th>\n",
       "      <th>CRIME_95</th>\n",
       "      <th>CRIME_96</th>\n",
       "    </tr>\n",
       "  </thead>\n",
       "  <tbody>\n",
       "    <tr>\n",
       "      <th>68</th>\n",
       "      <td>69</td>\n",
       "      <td>42821</td>\n",
       "      <td>3</td>\n",
       "      <td>48.4</td>\n",
       "      <td>8173</td>\n",
       "      <td>?</td>\n",
       "      <td>7.01</td>\n",
       "      <td>124</td>\n",
       "      <td>?</td>\n",
       "      <td>1358</td>\n",
       "    </tr>\n",
       "  </tbody>\n",
       "</table>\n",
       "</div>"
      ],
      "text/plain": [
       "    DISTRICT_ID  N_INHAB  N_CITIES  URBAN_RATIO  AVG_SALARY UNEMP_95  \\\n",
       "68           69    42821         3         48.4        8173        ?   \n",
       "\n",
       "    UNEMP_96  N_ENTR CRIME_95  CRIME_96  \n",
       "68      7.01     124        ?      1358  "
      ]
     },
     "execution_count": 336,
     "metadata": {},
     "output_type": "execute_result"
    }
   ],
   "source": [
    "counties[counties['COUNTY_ID'] == 69]"
   ]
  },
  {
   "cell_type": "code",
   "execution_count": 337,
   "metadata": {},
   "outputs": [],
   "source": [
    "similar_counties = counties[(counties['AVG_SALARY'] > 8000) & (counties['AVG_SALARY'] < 8300)]"
   ]
  },
  {
   "cell_type": "code",
   "execution_count": 338,
   "metadata": {},
   "outputs": [],
   "source": [
    "similar_counties = similar_counties[similar_counties['COUNTY_ID'] != 69]"
   ]
  },
  {
   "cell_type": "code",
   "execution_count": 339,
   "metadata": {},
   "outputs": [
    {
     "data": {
      "text/html": [
       "<div>\n",
       "<style scoped>\n",
       "    .dataframe tbody tr th:only-of-type {\n",
       "        vertical-align: middle;\n",
       "    }\n",
       "\n",
       "    .dataframe tbody tr th {\n",
       "        vertical-align: top;\n",
       "    }\n",
       "\n",
       "    .dataframe thead th {\n",
       "        text-align: right;\n",
       "    }\n",
       "</style>\n",
       "<table border=\"1\" class=\"dataframe\">\n",
       "  <thead>\n",
       "    <tr style=\"text-align: right;\">\n",
       "      <th></th>\n",
       "      <th>DISTRICT_ID</th>\n",
       "      <th>N_INHAB</th>\n",
       "      <th>N_CITIES</th>\n",
       "      <th>URBAN_RATIO</th>\n",
       "      <th>AVG_SALARY</th>\n",
       "      <th>UNEMP_95</th>\n",
       "      <th>UNEMP_96</th>\n",
       "      <th>N_ENTR</th>\n",
       "      <th>CRIME_95</th>\n",
       "      <th>CRIME_96</th>\n",
       "    </tr>\n",
       "  </thead>\n",
       "  <tbody>\n",
       "    <tr>\n",
       "      <th>16</th>\n",
       "      <td>17</td>\n",
       "      <td>74062</td>\n",
       "      <td>7</td>\n",
       "      <td>61.4</td>\n",
       "      <td>8114</td>\n",
       "      <td>2.38</td>\n",
       "      <td>2.62</td>\n",
       "      <td>119</td>\n",
       "      <td>1003</td>\n",
       "      <td>1181</td>\n",
       "    </tr>\n",
       "    <tr>\n",
       "      <th>43</th>\n",
       "      <td>44</td>\n",
       "      <td>105606</td>\n",
       "      <td>7</td>\n",
       "      <td>53.0</td>\n",
       "      <td>8254</td>\n",
       "      <td>2.79</td>\n",
       "      <td>3.76</td>\n",
       "      <td>97</td>\n",
       "      <td>2166</td>\n",
       "      <td>2325</td>\n",
       "    </tr>\n",
       "    <tr>\n",
       "      <th>48</th>\n",
       "      <td>49</td>\n",
       "      <td>75685</td>\n",
       "      <td>9</td>\n",
       "      <td>60.8</td>\n",
       "      <td>8208</td>\n",
       "      <td>1.89</td>\n",
       "      <td>2.26</td>\n",
       "      <td>155</td>\n",
       "      <td>1660</td>\n",
       "      <td>2123</td>\n",
       "    </tr>\n",
       "    <tr>\n",
       "      <th>49</th>\n",
       "      <td>50</td>\n",
       "      <td>102609</td>\n",
       "      <td>6</td>\n",
       "      <td>52.0</td>\n",
       "      <td>8187</td>\n",
       "      <td>4.83</td>\n",
       "      <td>5.45</td>\n",
       "      <td>94</td>\n",
       "      <td>2123</td>\n",
       "      <td>2134</td>\n",
       "    </tr>\n",
       "    <tr>\n",
       "      <th>52</th>\n",
       "      <td>53</td>\n",
       "      <td>107911</td>\n",
       "      <td>7</td>\n",
       "      <td>50.9</td>\n",
       "      <td>8240</td>\n",
       "      <td>2.53</td>\n",
       "      <td>3.56</td>\n",
       "      <td>99</td>\n",
       "      <td>1850</td>\n",
       "      <td>1903</td>\n",
       "    </tr>\n",
       "    <tr>\n",
       "      <th>62</th>\n",
       "      <td>63</td>\n",
       "      <td>86513</td>\n",
       "      <td>5</td>\n",
       "      <td>50.5</td>\n",
       "      <td>8288</td>\n",
       "      <td>3.79</td>\n",
       "      <td>4.52</td>\n",
       "      <td>110</td>\n",
       "      <td>1562</td>\n",
       "      <td>1460</td>\n",
       "    </tr>\n",
       "    <tr>\n",
       "      <th>66</th>\n",
       "      <td>67</td>\n",
       "      <td>106054</td>\n",
       "      <td>6</td>\n",
       "      <td>63.1</td>\n",
       "      <td>8110</td>\n",
       "      <td>5.77</td>\n",
       "      <td>6.55</td>\n",
       "      <td>109</td>\n",
       "      <td>3244</td>\n",
       "      <td>3079</td>\n",
       "    </tr>\n",
       "  </tbody>\n",
       "</table>\n",
       "</div>"
      ],
      "text/plain": [
       "    DISTRICT_ID  N_INHAB  N_CITIES  URBAN_RATIO  AVG_SALARY UNEMP_95  \\\n",
       "16           17    74062         7         61.4        8114     2.38   \n",
       "43           44   105606         7         53.0        8254     2.79   \n",
       "48           49    75685         9         60.8        8208     1.89   \n",
       "49           50   102609         6         52.0        8187     4.83   \n",
       "52           53   107911         7         50.9        8240     2.53   \n",
       "62           63    86513         5         50.5        8288     3.79   \n",
       "66           67   106054         6         63.1        8110     5.77   \n",
       "\n",
       "    UNEMP_96  N_ENTR CRIME_95  CRIME_96  \n",
       "16      2.62     119     1003      1181  \n",
       "43      3.76      97     2166      2325  \n",
       "48      2.26     155     1660      2123  \n",
       "49      5.45      94     2123      2134  \n",
       "52      3.56      99     1850      1903  \n",
       "62      4.52     110     1562      1460  \n",
       "66      6.55     109     3244      3079  "
      ]
     },
     "execution_count": 339,
     "metadata": {},
     "output_type": "execute_result"
    }
   ],
   "source": [
    "similar_counties.head(50)"
   ]
  },
  {
   "cell_type": "markdown",
   "metadata": {},
   "source": [
    "We will use this subset to calculate the average change of employment between 1995 and 1996."
   ]
  },
  {
   "cell_type": "markdown",
   "metadata": {},
   "source": [
    "#### BROKEN UNEMPLOYMENT VALUE UPDATE"
   ]
  },
  {
   "cell_type": "code",
   "execution_count": 340,
   "metadata": {},
   "outputs": [],
   "source": [
    "similar_counties['unemp_change'] = similar_counties['UNEMP_96'] - similar_counties['UNEMP_95'].astype('float')"
   ]
  },
  {
   "cell_type": "code",
   "execution_count": 341,
   "metadata": {},
   "outputs": [],
   "source": [
    "mean_unemp_change = similar_counties['unemp_change'].mean()"
   ]
  },
  {
   "attachments": {},
   "cell_type": "markdown",
   "metadata": {},
   "source": [
    "We are going to update `COUNTY_ID` 69, which is represented by Index 68 in the `counties` table"
   ]
  },
  {
   "cell_type": "code",
   "execution_count": 342,
   "metadata": {},
   "outputs": [],
   "source": [
    "counties.at[68, 'UNEMP_95'] = counties.iloc[68]['UNEMP_96'] - mean_unemp_change"
   ]
  },
  {
   "cell_type": "markdown",
   "metadata": {},
   "source": [
    "We are also going to update data type for the full column"
   ]
  },
  {
   "cell_type": "code",
   "execution_count": 343,
   "metadata": {},
   "outputs": [],
   "source": [
    "counties['UNEMP_95'] = counties['UNEMP_95'].astype('float')"
   ]
  },
  {
   "cell_type": "code",
   "execution_count": 344,
   "metadata": {},
   "outputs": [
    {
     "data": {
      "text/plain": [
       "DISTRICT_ID          69\n",
       "N_INHAB           42821\n",
       "N_CITIES              3\n",
       "URBAN_RATIO        48.4\n",
       "AVG_SALARY         8173\n",
       "UNEMP_95       6.332857\n",
       "UNEMP_96           7.01\n",
       "N_ENTR              124\n",
       "CRIME_95              ?\n",
       "CRIME_96           1358\n",
       "Name: 68, dtype: object"
      ]
     },
     "execution_count": 344,
     "metadata": {},
     "output_type": "execute_result"
    }
   ],
   "source": [
    "counties.iloc[68]"
   ]
  },
  {
   "cell_type": "markdown",
   "metadata": {},
   "source": [
    "And repeat the process for `CRIME_95` column"
   ]
  },
  {
   "cell_type": "markdown",
   "metadata": {},
   "source": [
    "#### **CRIME VALUE UPDATE**"
   ]
  },
  {
   "cell_type": "code",
   "execution_count": 345,
   "metadata": {},
   "outputs": [],
   "source": [
    "similar_counties['crime_change'] = similar_counties['CRIME_96'] - similar_counties['CRIME_95'].astype('float')"
   ]
  },
  {
   "cell_type": "code",
   "execution_count": 346,
   "metadata": {},
   "outputs": [],
   "source": [
    "mean_crime_change = similar_counties['crime_change'].mean()"
   ]
  },
  {
   "cell_type": "code",
   "execution_count": 347,
   "metadata": {},
   "outputs": [],
   "source": [
    "counties.at[68, 'CRIME_95'] = counties.iloc[68]['CRIME_96'] - mean_crime_change"
   ]
  },
  {
   "cell_type": "code",
   "execution_count": 348,
   "metadata": {},
   "outputs": [],
   "source": [
    "counties['CRIME_95'] = counties['CRIME_95'].astype('int64')"
   ]
  },
  {
   "cell_type": "code",
   "execution_count": 349,
   "metadata": {},
   "outputs": [
    {
     "data": {
      "text/plain": [
       "DISTRICT_ID       69.000000\n",
       "N_INHAB        42821.000000\n",
       "N_CITIES           3.000000\n",
       "URBAN_RATIO       48.400000\n",
       "AVG_SALARY      8173.000000\n",
       "UNEMP_95           6.332857\n",
       "UNEMP_96           7.010000\n",
       "N_ENTR           124.000000\n",
       "CRIME_95        1272.000000\n",
       "CRIME_96        1358.000000\n",
       "Name: 68, dtype: float64"
      ]
     },
     "execution_count": 349,
     "metadata": {},
     "output_type": "execute_result"
    }
   ],
   "source": [
    "counties.iloc[68]"
   ]
  },
  {
   "cell_type": "markdown",
   "metadata": {},
   "source": [
    "And finally, check all columns for outliers again."
   ]
  },
  {
   "cell_type": "code",
   "execution_count": 350,
   "metadata": {},
   "outputs": [
    {
     "data": {
      "text/plain": [
       "{'DISTRICT_ID': [{'max': 77}, {'min': 1}],\n",
       " 'N_INHAB': [{'max': 1204953}, {'min': 42821}],\n",
       " 'N_CITIES': [{'max': 11}, {'min': 1}],\n",
       " 'URBAN_RATIO': [{'max': 100.0}, {'min': 33.9}],\n",
       " 'AVG_SALARY': [{'max': 12541}, {'min': 8110}],\n",
       " 'UNEMP_95': [{'max': 7.34}, {'min': 0.29}],\n",
       " 'UNEMP_96': [{'max': 9.4}, {'min': 0.43}],\n",
       " 'N_ENTR': [{'max': 167}, {'min': 81}],\n",
       " 'CRIME_95': [{'max': 85677}, {'min': 818}],\n",
       " 'CRIME_96': [{'max': 99107}, {'min': 888}]}"
      ]
     },
     "execution_count": 350,
     "metadata": {},
     "output_type": "execute_result"
    }
   ],
   "source": [
    "check_outliers(counties)"
   ]
  }
 ],
 "metadata": {
  "kernelspec": {
   "display_name": "Python 3 (ipykernel)",
   "language": "python",
   "name": "python3"
  },
  "language_info": {
   "codemirror_mode": {
    "name": "ipython",
    "version": 3
   },
   "file_extension": ".py",
   "mimetype": "text/x-python",
   "name": "python",
   "nbconvert_exporter": "python",
   "pygments_lexer": "ipython3",
   "version": "3.11.0"
  }
 },
 "nbformat": 4,
 "nbformat_minor": 1
}
